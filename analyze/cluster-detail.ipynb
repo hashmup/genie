{
 "cells": [
  {
   "cell_type": "code",
   "execution_count": 1,
   "metadata": {
    "collapsed": false
   },
   "outputs": [],
   "source": [
    "import pandas as pd\n",
    "import numpy as np\n",
    "import math\n",
    "from os.path import join\n",
    "from collections import defaultdict\n",
    "from collections import OrderedDict\n",
    "from matplotlib import pyplot as plt\n",
    "from matplotlib import colors\n",
    "from matplotlib.ticker import MaxNLocator\n",
    "%matplotlib inline\n",
    "plt.rcParams['font.family'] = 'IPAPGothic'"
   ]
  },
  {
   "cell_type": "code",
   "execution_count": 2,
   "metadata": {
    "collapsed": true
   },
   "outputs": [],
   "source": [
    "def gen_4graph(df, filename, avg=False):\n",
    "    if avg:\n",
    "        time_bench = df['time_avg'].values\n",
    "    else:\n",
    "        time_bench = df['time'].values\n",
    "    bench_bench = df['bench'].values\n",
    "    macro_bench = df['macro'].values\n",
    "    ppn_bench = [int(x) for x in df['ppn'].values]\n",
    "    omp_bench = [int(x) for x in df['omp_num_threads'].values]\n",
    "    y = defaultdict()\n",
    "    y[\"MPI process\"] = defaultdict()\n",
    "    y[\"OpenMP thread\"] = defaultdict()\n",
    "    y[\"SIMD\"] = defaultdict()\n",
    "    y[\"SIMD and RoA\"] = defaultdict()\n",
    "    y[\"SIMD\"]['Default'] = []\n",
    "    y[\"SIMD\"]['SIMD'] = []\n",
    "    y[\"SIMD and RoA\"]['Default'] = []\n",
    "    y[\"SIMD and RoA\"]['SIMD'] = []\n",
    "    y[\"SIMD and RoA\"]['Restructure of Array'] = []\n",
    "    for i in range(len(time_bench)):\n",
    "        # ppn\n",
    "        if ppn_bench[i] not in y[\"MPI process\"]:\n",
    "            y[\"MPI process\"][ppn_bench[i]] = [time_bench[i]]\n",
    "        else:\n",
    "            y[\"MPI process\"][ppn_bench[i]].append(time_bench[i])\n",
    "        # omp\n",
    "        if omp_bench[i] not in y[\"OpenMP thread\"]:\n",
    "            y[\"OpenMP thread\"][omp_bench[i]] = [time_bench[i]]\n",
    "        else:\n",
    "            y[\"OpenMP thread\"][omp_bench[i]].append(time_bench[i])\n",
    "\n",
    "        if bench_bench[i]:\n",
    "            y[\"SIMD\"][\"Default\"].append(time_bench[i])\n",
    "            y[\"SIMD and RoA\"][\"Default\"].append(time_bench[i])\n",
    "        elif macro_bench[i]:\n",
    "            y[\"SIMD\"][\"SIMD\"].append(time_bench[i])\n",
    "            y[\"SIMD and RoA\"][\"Restructure of Array\"].append(time_bench[i])\n",
    "        else:\n",
    "            y[\"SIMD\"][\"SIMD\"].append(time_bench[i])\n",
    "            y[\"SIMD and RoA\"][\"SIMD\"].append(time_bench[i])\n",
    "\n",
    "    fig, axes = plt.subplots(nrows=2, ncols=2, figsize=(20, 20), dpi=900)\n",
    "    cmap = ['b', 'g', 'r', 'c', 'm', 'y', 'k']\n",
    "    marker = ['o', 'x', '^', '*']\n",
    "    row = 0\n",
    "    col = 0\n",
    "    for key in y:\n",
    "        cnt1 = 0\n",
    "        cnt2 = 0\n",
    "    #     fig = plt.figure()\n",
    "    #     ax = plt.subplot(111)\n",
    "        for k in y[key]:\n",
    "            x = [i for i in range(len(y[key][k]))]\n",
    "            if key == \"OpenMP thread\":\n",
    "                axes[row, col].plot(x[:], y[key][k][:], c=cmap[cnt1], marker=marker[cnt2], label=k)\n",
    "    #         ax.scatter(x[:], y[key][k][:], c=cmap[cnt1], marker=marker[cnt2], label=k)\n",
    "            else:\n",
    "                axes[row, col].scatter(x[:], y[key][k][:], c=cmap[cnt1], marker=marker[cnt2], label=k)\n",
    "            if cnt1 == len(cmap) - 1:\n",
    "                cnt1 = 0\n",
    "                cnt2 += 1\n",
    "            else:\n",
    "                cnt1 += 1\n",
    "        axes[row, col].set_title(key, fontsize=20)\n",
    "    #     axes[row, col].set_title(key)\n",
    "        box = axes[row, col].get_position()\n",
    "        axes[row, col].set_position([box.x0, box.y0, box.width * 0.8, box.height])\n",
    "        axes[row, col].set_xlabel(\"順序\", fontsize=18)\n",
    "        axes[row, col].set_ylabel(\"実行時間(sec)\", fontsize=18)\n",
    "        axes[row, col].tick_params(axis='both', which='major', labelsize=15)\n",
    "        axes[row, col].tick_params(axis='both', which='minor', labelsize=15)\n",
    "        axes[row, col].xaxis.set_major_locator(MaxNLocator(integer=True))\n",
    "        axes[row, col].yaxis.set_major_locator(MaxNLocator(integer=True))\n",
    "        # Put a legend to the right of the current axis\n",
    "        axes[row, col].legend(loc='center left', bbox_to_anchor=(1, 0.5), fontsize=15)\n",
    "        if col == 1:\n",
    "            row += 1\n",
    "            col = 0\n",
    "        else:\n",
    "            col += 1\n",
    "    plt.title(key)\n",
    "#     fig.savefig(join(\"/Users/hashmup/Dropbox/研究室/卒業論文/thesis/images\", filename))\n",
    "#     plt.show()"
   ]
  },
  {
   "cell_type": "code",
   "execution_count": null,
   "metadata": {
    "collapsed": true
   },
   "outputs": [],
   "source": [
    "def gen_graph(dfs, filename):\n",
    "    y = defaultdict()\n",
    "    y[\"MPI process\"] = defaultdict()\n",
    "    y[\"OpenMP thread\"] = defaultdict()\n",
    "#     y[\"SIMD\"] = defaultdict()\n",
    "    y[\"SIMD and RoA\"] = defaultdict()\n",
    "    for title in dfs:\n",
    "        df = dfs[title]\n",
    "        time_bench = df['time_avg'].values\n",
    "        bench_bench = df['bench'].values\n",
    "        macro_bench = df['macro'].values\n",
    "        ppn_bench = [int(x) for x in df['ppn'].values]\n",
    "        omp_bench = [int(x) for x in df['omp_num_threads'].values]\n",
    "        y[\"MPI process\"][title] = defaultdict()\n",
    "        y[\"OpenMP thread\"][title] = defaultdict()\n",
    "#         y[\"SIMD\"][title] = defaultdict()\n",
    "        y[\"SIMD and RoA\"][title] = defaultdict()\n",
    "#         y[\"SIMD\"][title]['Default'] = []\n",
    "#         y[\"SIMD\"][title]['SIMD'] = []\n",
    "        y[\"SIMD and RoA\"][title]['Default'] = []\n",
    "        y[\"SIMD and RoA\"][title]['SIMD'] = []\n",
    "        y[\"SIMD and RoA\"][title]['Restructure of Array'] = []\n",
    "        for i in range(len(time_bench)):\n",
    "            # ppn\n",
    "            if ppn_bench[i] not in y[\"MPI process\"][title]:\n",
    "                y[\"MPI process\"][title][ppn_bench[i]] = [time_bench[i]]\n",
    "            else:\n",
    "                y[\"MPI process\"][title][ppn_bench[i]].append(time_bench[i])\n",
    "            # omp\n",
    "            if omp_bench[i] not in y[\"OpenMP thread\"][title]:\n",
    "                y[\"OpenMP thread\"][title][omp_bench[i]] = [time_bench[i]]\n",
    "            else:\n",
    "                y[\"OpenMP thread\"][title][omp_bench[i]].append(time_bench[i])\n",
    "\n",
    "            if bench_bench[i]:\n",
    "#                 y[\"SIMD\"][title][\"Default\"].append(time_bench[i])\n",
    "                y[\"SIMD and RoA\"][title][\"Default\"].append(time_bench[i])\n",
    "            elif macro_bench[i]:\n",
    "#                 y[\"SIMD\"][title][\"SIMD\"].append(time_bench[i])\n",
    "                y[\"SIMD and RoA\"][title][\"Restructure of Array\"].append(time_bench[i])\n",
    "            else:\n",
    "#                 y[\"SIMD\"][title][\"SIMD\"].append(time_bench[i])\n",
    "                y[\"SIMD and RoA\"][title][\"SIMD\"].append(time_bench[i])\n",
    "\n",
    "    cmap = ['b', 'g', 'r', 'c', 'm', 'y', 'k']\n",
    "    marker = ['o', 'x', '^', '*']\n",
    "    for title in y:\n",
    "        legend_table = defaultdict()\n",
    "        row = 0\n",
    "        col = 0\n",
    "        fig, axes = plt.subplots(nrows=2, ncols=2, figsize=(20, 20), dpi=900)\n",
    "        for key in y[title]:\n",
    "            cnt1 = 0\n",
    "            cnt2 = 0\n",
    "            for k, v in sorted(y[title][key].items()):\n",
    "                _cnt1 = cnt1\n",
    "                _cnt2 = cnt2\n",
    "                if k in legend_table:\n",
    "                    _cnt1 = legend_table[k][1]\n",
    "                    _cnt2 = legend_table[k][2]\n",
    "                x = [i for i in range(len(v))]\n",
    "                if title == \"OpenMP thread\":\n",
    "                    a = axes[row, col].plot(x[:], y[title][key][k][:], c=cmap[_cnt1], marker=marker[_cnt2], label=k)[0]\n",
    "        #         ax.scatter(x[:], y[key][k][:], c=cmap[cnt1], marker=marker[cnt2], label=k)\n",
    "                else:\n",
    "                    a = axes[row, col].scatter(x[:], y[title][key][k][:], c=cmap[_cnt1], marker=marker[_cnt2], label=k)\n",
    "                if a.get_label().isdigit():\n",
    "                    legend_table[int(a.get_label())] = [a, cnt1, cnt2]\n",
    "                else:\n",
    "                    legend_table[a.get_label()] = [a, cnt1, cnt2]\n",
    "                if cnt1 == len(cmap) - 1:\n",
    "                    cnt1 = 0\n",
    "                    cnt2 += 1\n",
    "                else:\n",
    "                    cnt1 += 1\n",
    "            axes[row, col].set_title(key, fontsize=20)\n",
    "            box = axes[row, col].get_position()\n",
    "            axes[row, col].set_position([box.x0, box.y0, box.width * 0.8, box.height])\n",
    "            axes[row, col].set_xlabel(\"順序\", fontsize=18)\n",
    "            axes[row, col].set_ylabel(\"実行時間(sec)\", fontsize=18)\n",
    "            axes[row, col].tick_params(axis='both', which='major', labelsize=15)\n",
    "            axes[row, col].tick_params(axis='both', which='minor', labelsize=15)\n",
    "            axes[row, col].xaxis.set_major_locator(MaxNLocator(integer=True))\n",
    "            axes[row, col].yaxis.set_major_locator(MaxNLocator(integer=True))\n",
    "            if col == 1:\n",
    "                row += 1\n",
    "                col = 0\n",
    "            else:\n",
    "                col += 1\n",
    "        plt.suptitle(title, fontsize=30)\n",
    "        key = []\n",
    "        val = []\n",
    "        for k, v in sorted(legend_table.items()):\n",
    "            key.append(k)\n",
    "            val.append(v[0])\n",
    "        lg = fig.legend(tuple(val), tuple(key), 'center right', title=title, fontsize=25)\n",
    "        lg.get_title().set_fontsize(28)\n",
    "        fig.savefig(join(\"/Users/hashmup/Dropbox/研究室/卒業論文/thesis/images\", \"{0}-{1}.pdf\".format(filename, title.replace(' ', '-'))))\n",
    "#         plt.show()"
   ]
  },
  {
   "cell_type": "code",
   "execution_count": null,
   "metadata": {
    "collapsed": true
   },
   "outputs": [],
   "source": [
    "def gen_diff_graph(dfs, filename):\n",
    "    y = defaultdict()\n",
    "    y[\"MPI process\"] = defaultdict()\n",
    "    y[\"OpenMP thread\"] = defaultdict()\n",
    "#     y[\"SIMD\"] = defaultdict()\n",
    "    y[\"SIMD and RoA\"] = defaultdict()\n",
    "    for title in dfs:\n",
    "        df = dfs[title]\n",
    "        time_bench = df['time_avg'].values\n",
    "        time0_bench = df['time0'].values\n",
    "        time1_bench = df['time1'].values\n",
    "        time2_bench = df['time2'].values\n",
    "        time3_bench = df['time3'].values\n",
    "        time4_bench = df['time4'].values\n",
    "        bench_bench = df['bench'].values\n",
    "        macro_bench = df['macro'].values\n",
    "        ppn_bench = [int(x) for x in df['ppn'].values]\n",
    "        omp_bench = [int(x) for x in df['omp_num_threads'].values]\n",
    "        y[\"MPI process\"][title] = defaultdict()\n",
    "        y[\"OpenMP thread\"][title] = defaultdict()\n",
    "#         y[\"SIMD\"][title] = defaultdict()\n",
    "        y[\"SIMD and RoA\"][title] = defaultdict()\n",
    "#         y[\"SIMD\"][title]['Default'] = []\n",
    "#         y[\"SIMD\"][title]['SIMD'] = []\n",
    "        y[\"SIMD and RoA\"][title]['Default'] = []\n",
    "        y[\"SIMD and RoA\"][title]['SIMD'] = []\n",
    "        y[\"SIMD and RoA\"][title]['Restructure of Array'] = []\n",
    "        for i in range(len(time_bench)):\n",
    "            # ppn\n",
    "            if ppn_bench[i] not in y[\"MPI process\"][title]:\n",
    "                y[\"MPI process\"][title][ppn_bench[i]] = [[time_bench[i], time0_bench[i], time1_bench[i], time2_bench[i], time3_bench[i], time4_bench[i]]]\n",
    "            else:\n",
    "                y[\"MPI process\"][title][ppn_bench[i]].append([time_bench[i], time0_bench[i], time1_bench[i], time2_bench[i], time3_bench[i], time4_bench[i]])\n",
    "            # omp\n",
    "            if omp_bench[i] not in y[\"OpenMP thread\"][title]:\n",
    "                y[\"OpenMP thread\"][title][omp_bench[i]] = [[time_bench[i], time0_bench[i], time1_bench[i], time2_bench[i], time3_bench[i], time4_bench[i]]]\n",
    "            else:\n",
    "                y[\"OpenMP thread\"][title][omp_bench[i]].append([time_bench[i], time0_bench[i], time1_bench[i], time2_bench[i], time3_bench[i], time4_bench[i]])\n",
    "\n",
    "            if bench_bench[i]:\n",
    "#                 y[\"SIMD\"][title][\"Default\"].append(time_bench[i])\n",
    "                y[\"SIMD and RoA\"][title][\"Default\"].append([time_bench[i], time0_bench[i], time1_bench[i], time2_bench[i], time3_bench[i], time4_bench[i]])\n",
    "            elif macro_bench[i]:\n",
    "#                 y[\"SIMD\"][title][\"SIMD\"].append(time_bench[i])\n",
    "                y[\"SIMD and RoA\"][title][\"Restructure of Array\"].append([time_bench[i], time0_bench[i], time1_bench[i], time2_bench[i], time3_bench[i], time4_bench[i]])\n",
    "            else:\n",
    "#                 y[\"SIMD\"][title][\"SIMD\"].append(time_bench[i])\n",
    "                y[\"SIMD and RoA\"][title][\"SIMD\"].append([time_bench[i], time0_bench[i], time1_bench[i], time2_bench[i], time3_bench[i], time4_bench[i]])\n",
    "\n",
    "    cmap = ['b', 'g', 'r', 'c', 'm', 'y', 'k']\n",
    "    marker = ['o', 'x', '^', '*']\n",
    "    for title in y:\n",
    "        row = 0\n",
    "        col = 0\n",
    "        fig, axes = plt.subplots(nrows=2, ncols=2, figsize=(20, 20), dpi=900)\n",
    "        for key in y[title]:\n",
    "            cnt1 = 0\n",
    "            cnt2 = 0\n",
    "            for k, v in sorted(y[title][key].items()):\n",
    "                for v2 in v:\n",
    "                    x = [i for i in range(len(v2))]\n",
    "                    axes[row, col].scatter(x[:], v2[:], c=cmap[cnt1], marker=marker[cnt2], label=k)\n",
    "                if cnt1 == len(cmap) - 1:\n",
    "                    cnt1 = 0\n",
    "                    cnt2 += 1\n",
    "                else:\n",
    "                    cnt1 += 1\n",
    "            axes[row, col].set_title(key, fontsize=20)\n",
    "            box = axes[row, col].get_position()\n",
    "            axes[row, col].set_position([box.x0, box.y0, box.width * 0.8, box.height])\n",
    "            axes[row, col].set_xlabel(\"順序\", fontsize=18)\n",
    "            axes[row, col].set_ylabel(\"実行時間(sec)\", fontsize=18)\n",
    "            axes[row, col].tick_params(axis='both', which='major', labelsize=15)\n",
    "            axes[row, col].tick_params(axis='both', which='minor', labelsize=15)\n",
    "            axes[row, col].xaxis.set_major_locator(MaxNLocator(integer=True))\n",
    "            axes[row, col].yaxis.set_major_locator(MaxNLocator(integer=True))\n",
    "            axes[row, col].legend(loc='center left', bbox_to_anchor=(1, 0.5), fontsize=15)\n",
    "            if col == 1:\n",
    "                row += 1\n",
    "                col = 0\n",
    "            else:\n",
    "                col += 1\n",
    "        plt.suptitle(title, fontsize=30)\n",
    "        fig.savefig(join(\"/Users/hashmup/Dropbox/研究室/卒業論文/thesis/images\", \"{0}-{1}.pdf\".format(filename, title.replace(' ', '-'))))\n",
    "#         plt.show()"
   ]
  },
  {
   "cell_type": "code",
   "execution_count": null,
   "metadata": {
    "collapsed": false
   },
   "outputs": [],
   "source": [
    "df_50 = pd.read_csv(\"cluster/data/2018-01-29_23-05/result_candidate.csv\")\n",
    "df_50['time_avg'] = (df_50['time'] + df_50['time0'] + df_50['time1'] + df_50['time2'] + df_50['time3'] + df_50['time4']) / 6.0\n",
    "df_50 = df_50.sort_values(by=[\"time_avg\"]).reset_index(drop=True)\n",
    "df_100 = pd.read_csv(\"cluster/data/2018-01-28_20-16/result_candidate.csv\")\n",
    "df_100['time_avg'] = (df_100['time'] + df_100['time0'] + df_100['time1'] + df_100['time2'] + df_100['time3'] + df_100['time4']) / 6.0\n",
    "df_100 = df_100.sort_values(by=\"time_avg\").reset_index(drop=True)\n",
    "df_250 = pd.read_csv(\"cluster/data/2018-01-29_04-47/result_candidate.csv\")\n",
    "df_250['time_avg'] = (df_250['time'] + df_250['time0'] + df_250['time1'] + df_250['time2'] + df_250['time3'] + df_250['time4']) / 6.0\n",
    "df_250 = df_250.sort_values(by=\"time_avg\").reset_index(drop=True)\n",
    "df_500 = pd.read_csv(\"cluster/data/2018-01-29_20-46/result_candidate.csv\")\n",
    "df_500['time_avg'] = (df_500['time'] + df_500['time0'] + df_500['time1'] + df_500['time2'] + df_500['time3'] + df_500['time4']) / 6.0\n",
    "df_500 = df_500.sort_values(by=\"time_avg\").reset_index(drop=True)\n",
    "gen_graph({\"シミュレーション時間 50\": df_50, \"シミュレーション時間 100\": df_100, \"シミュレーション時間 250\": df_250, \"シミュレーション時間 500\": df_500}, \"cluster\")"
   ]
  },
  {
   "cell_type": "code",
   "execution_count": null,
   "metadata": {
    "collapsed": false
   },
   "outputs": [],
   "source": [
    "df_50 = pd.read_csv(\"cluster/data/2018-01-29_23-05/result_candidate.csv\")\n",
    "df_50['time_avg'] = (df_50['time'] + df_50['time0'] + df_50['time1'] + df_50['time2'] + df_50['time3'] + df_50['time4']) / 6.0\n",
    "df_100 = pd.read_csv(\"cluster/data/2018-01-28_20-16/result_candidate.csv\")\n",
    "df_100['time_avg'] = (df_100['time'] + df_100['time0'] + df_100['time1'] + df_100['time2'] + df_100['time3'] + df_100['time4']) / 6.0\n",
    "df_250 = pd.read_csv(\"cluster/data/2018-01-29_04-47/result_candidate.csv\")\n",
    "df_250['time_avg'] = (df_250['time'] + df_250['time0'] + df_250['time1'] + df_250['time2'] + df_250['time3'] + df_250['time4']) / 6.0\n",
    "df_500 = pd.read_csv(\"cluster/data/2018-01-29_20-46/result_candidate.csv\")\n",
    "df_500['time_avg'] = (df_500['time'] + df_500['time0'] + df_500['time1'] + df_500['time2'] + df_500['time3'] + df_500['time4']) / 6.0\n",
    "df_50 = df_50.sort_values(by=[\"time_avg\"]).reset_index(drop=True)[:50]\n",
    "df_100 = df_100.sort_values(by=\"time_avg\").reset_index(drop=True)[:50]\n",
    "df_250 = df_250.sort_values(by=\"time_avg\").reset_index(drop=True)[:50]\n",
    "df_500 = df_500.sort_values(by=\"time_avg\").reset_index(drop=True)[:50]\n",
    "gen_graph({\"シミュレーション時間 50\": df_50, \"シミュレーション時間 100\": df_100, \"シミュレーション時間 250\": df_250, \"シミュレーション時間 500\": df_500}, \"cl"
   ]
  },
  {
   "cell_type": "code",
   "execution_count": null,
   "metadata": {
    "collapsed": true
   },
   "outputs": [],
   "source": [
    "df_50 = pd.read_csv(\"cluster/data/2018-01-29_23-05/result_candidate.csv\")\n",
    "df_50['time_avg'] = (df_50['time'] + df_50['time0'] + df_50['time1'] + df_50['time2'] + df_50['time3'] + df_50['time4']) / 6.0\n",
    "df_50 = df_50.sort_values(by=[\"time_avg\"]).reset_index(drop=True)\n",
    "df_100 = pd.read_csv(\"cluster/data/2018-01-28_20-16/result_candidate.csv\")\n",
    "df_100['time_avg'] = (df_100['time'] + df_100['time0'] + df_100['time1'] + df_100['time2'] + df_100['time3'] + df_100['time4']) / 6.0\n",
    "df_100 = df_100.sort_values(by=\"time_avg\").reset_index(drop=True)\n",
    "df_250 = pd.read_csv(\"cluster/data/2018-01-29_04-47/result_candidate.csv\")\n",
    "df_250['time_avg'] = (df_250['time'] + df_250['time0'] + df_250['time1'] + df_250['time2'] + df_250['time3'] + df_250['time4']) / 6.0\n",
    "df_250 = df_250.sort_values(by=\"time_avg\").reset_index(drop=True)\n",
    "df_500 = pd.read_csv(\"cluster/data/2018-01-29_20-46/result_candidate.csv\")\n",
    "df_500['time_avg'] = (df_500['time'] + df_500['time0'] + df_500['time1'] + df_500['time2'] + df_500['time3'] + df_500['time4']) / 6.0\n",
    "df_500 = df_500.sort_values(by=\"time_avg\").reset_index(drop=True)\n",
    "gen_diff_graph({\"stoptime 50\": df_50, \"stoptime 100\": df_100, \"stoptime 250\": df_250, \"stoptime 500\": df_500}, \"cluster-diff\")"
   ]
  },
  {
   "cell_type": "code",
   "execution_count": null,
   "metadata": {
    "collapsed": true
   },
   "outputs": [],
   "source": [
    "df_50 = pd.read_csv(\"cluster/data/2018-01-29_23-05/result_candidate.csv\")\n",
    "df_50['time_avg'] = (df_50['time'] + df_50['time0'] + df_50['time1'] + df_50['time2'] + df_50['time3'] + df_50['time4']) / 6.0\n",
    "df_100 = pd.read_csv(\"cluster/data/2018-01-28_20-16/result_candidate.csv\")\n",
    "df_100['time_avg'] = (df_100['time'] + df_100['time0'] + df_100['time1'] + df_100['time2'] + df_100['time3'] + df_100['time4']) / 6.0\n",
    "df_250 = pd.read_csv(\"cluster/data/2018-01-29_04-47/result_candidate.csv\")\n",
    "df_250['time_avg'] = (df_250['time'] + df_250['time0'] + df_250['time1'] + df_250['time2'] + df_250['time3'] + df_250['time4']) / 6.0\n",
    "df_500 = pd.read_csv(\"cluster/data/2018-01-29_20-46/result_candidate.csv\")\n",
    "df_500['time_avg'] = (df_500['time'] + df_500['time0'] + df_500['time1'] + df_500['time2'] + df_500['time3'] + df_500['time4']) / 6.0\n",
    "df_50 = df_50.sort_values(by=[\"time_avg\"]).reset_index(drop=True)[:20]\n",
    "df_100 = df_100.sort_values(by=\"time_avg\").reset_index(drop=True)[:20]\n",
    "df_250 = df_250.sort_values(by=\"time_avg\").reset_index(drop=True)[:20]\n",
    "df_500 = df_500.sort_values(by=\"time_avg\").reset_index(drop=True)[:20]\n",
    "gen_diff_graph({\"stoptime 50\": df_50, \"stoptime 100\": df_100, \"stoptime 250\": df_250, \"stoptime 500\": df_500}, \"cluster-diff-top20\")"
   ]
  },
  {
   "cell_type": "code",
   "execution_count": null,
   "metadata": {
    "collapsed": false,
    "scrolled": true
   },
   "outputs": [],
   "source": [
    "# df_50 = pd.read_csv(\"cluster/data/2018-01-29_23-05/result_all.csv\")\n",
    "# df_50 = df_50.sort_values(by=\"time\").reset_index(drop=True)\n",
    "# gen_4graph(df_50, \"cluster-50.pdf\")"
   ]
  },
  {
   "cell_type": "code",
   "execution_count": null,
   "metadata": {
    "collapsed": false
   },
   "outputs": [],
   "source": [
    "# df_100 = pd.read_csv(\"cluster/data/2018-01-28_20-16/result_all.csv\")\n",
    "# df_100 = df_100.sort_values(by=\"time\").reset_index(drop=True)\n",
    "# gen_4graph(df_100, \"cluster-100.pdf\")"
   ]
  },
  {
   "cell_type": "code",
   "execution_count": null,
   "metadata": {
    "collapsed": false
   },
   "outputs": [],
   "source": [
    "# df_250 = pd.read_csv(\"cluster/data/2018-01-29_04-47/result_all.csv\")\n",
    "# df_250 = df_250.sort_values(by=\"time\").reset_index(drop=True)\n",
    "# gen_4graph(df_250, \"cluster-250.pdf\")"
   ]
  },
  {
   "cell_type": "code",
   "execution_count": null,
   "metadata": {
    "collapsed": false
   },
   "outputs": [],
   "source": [
    "# df_500 = pd.read_csv(\"cluster/data/2018-01-29_20-46/result_all.csv\")\n",
    "# df_500 = df_500.sort_values(by=\"time\").reset_index(drop=True)\n",
    "# gen_4graph(df_500, \"cluster-500.pdf\")"
   ]
  },
  {
   "cell_type": "code",
   "execution_count": null,
   "metadata": {
    "collapsed": false
   },
   "outputs": [],
   "source": [
    "# df_50 = pd.read_csv(\"cluster/data/2018-01-29_23-05/result_candidate.csv\")\n",
    "# df_50['time_avg'] = (df_50['time'] + df_50['time0'] + df_50['time1'] + df_50['time2'] + df_50['time3'] + df_50['time4']) / 6.0\n",
    "# df_50 = df_50.sort_values(by=\"time_avg\").reset_index(drop=True)\n",
    "# gen_4graph(df_50, \"cluster-50.pdf\", True)"
   ]
  },
  {
   "cell_type": "code",
   "execution_count": null,
   "metadata": {
    "collapsed": false
   },
   "outputs": [],
   "source": [
    "# df_100 = pd.read_csv(\"cluster/data/2018-01-28_20-16/result_candidate.csv\")\n",
    "# df_100['time_avg'] = (df_100['time'] + df_100['time0'] + df_100['time1'] + df_100['time2'] + df_100['time3'] + df_100['time4']) / 6.0\n",
    "# df_100 = df_100.sort_values(by=\"time_avg\").reset_index(drop=True)\n",
    "# gen_4graph(df_100, \"cluster-100.pdf\", True)"
   ]
  },
  {
   "cell_type": "code",
   "execution_count": null,
   "metadata": {
    "collapsed": false
   },
   "outputs": [],
   "source": [
    "# df_250 = pd.read_csv(\"cluster/data/2018-01-29_04-47/result_candidate.csv\")\n",
    "# df_250['time_avg'] = (df_250['time'] + df_250['time0'] + df_250['time1'] + df_250['time2'] + df_250['time3'] + df_250['time4']) / 6.0\n",
    "# df_250 = df_250.sort_values(by=\"time_avg\").reset_index(drop=True)\n",
    "# gen_4graph(df_250, \"cluster-250.pdf\", True)"
   ]
  },
  {
   "cell_type": "code",
   "execution_count": null,
   "metadata": {
    "collapsed": false
   },
   "outputs": [],
   "source": [
    "# df_500 = pd.read_csv(\"cluster/data/2018-01-29_20-46/result_candidate.csv\")\n",
    "# df_500['time_avg'] = (df_500['time'] + df_500['time0'] + df_500['time1'] + df_500['time2'] + df_500['time3'] + df_500['time4']) / 6.0\n",
    "# df_500 = df_500.sort_values(by=\"time_avg\").reset_index(drop=True)\n",
    "# gen_4graph(df_500, \"cluster-500.pdf\", True)"
   ]
  },
  {
   "cell_type": "code",
   "execution_count": null,
   "metadata": {
    "collapsed": true
   },
   "outputs": [],
   "source": []
  }
 ],
 "metadata": {
  "kernelspec": {
   "display_name": "Python 3",
   "language": "python",
   "name": "python3"
  },
  "language_info": {
   "codemirror_mode": {
    "name": "ipython",
    "version": 3
   },
   "file_extension": ".py",
   "mimetype": "text/x-python",
   "name": "python",
   "nbconvert_exporter": "python",
   "pygments_lexer": "ipython3",
   "version": "3.6.0"
  }
 },
 "nbformat": 4,
 "nbformat_minor": 2
}
