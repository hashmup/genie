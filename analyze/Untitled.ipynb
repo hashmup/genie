{
 "cells": [
  {
   "cell_type": "code",
   "execution_count": 126,
   "metadata": {
    "collapsed": true
   },
   "outputs": [],
   "source": [
    "import pandas as pd\n",
    "import numpy as np\n",
    "import math\n",
    "from collections import defaultdict\n",
    "from matplotlib import pyplot as plt\n",
    "%matplotlib inline"
   ]
  },
  {
   "cell_type": "code",
   "execution_count": 127,
   "metadata": {
    "collapsed": false
   },
   "outputs": [],
   "source": [
    "df = pd.read_csv(\"data/2018-01-23_00-36/result_all.csv\")\n",
    "df2 = pd.read_csv(\"data/2018-01-23_00-36/result_candidate.csv\")\n",
    "# df3 = pd.read_csv(\"data/2018-01-21_16-58/result_all.csv\")\n",
    "# df4 = pd.read_csv(\"data/2018-01-21_16-58/result_candidate.csv\")\n",
    "# df5 = pd.read_csv(\"result_all.csv\")"
   ]
  },
  {
   "cell_type": "code",
   "execution_count": 128,
   "metadata": {
    "collapsed": false
   },
   "outputs": [],
   "source": [
    "# # index = math.ceil(len(df5)/16.0)\n",
    "# # df5 = df5.sort_values(by=\"time\").reset_index(drop=True)[:index]\n",
    "# # a = df5.sort_values(by=[\"compile_options\"]).reset_index(drop=True)\n",
    "# len(df5)\n",
    "# index = math.ceil(len(df5)/16.0)\n",
    "# df6 = df5.sort_values(by=\"time\").reset_index(drop=True)[:index]\n",
    "# len(df6)\n",
    "# df6[\"compile_options\"].values"
   ]
  },
  {
   "cell_type": "code",
   "execution_count": 129,
   "metadata": {
    "collapsed": false
   },
   "outputs": [],
   "source": [
    "df = df.sort_values(by=\"time\")\n",
    "df = df.reset_index(drop=True)\n",
    "df2 = df2.sort_values(by=\"time\")\n",
    "df2 = df2.reset_index(drop=True)\n",
    "# df3 = df3.sort_values(by=\"time\")\n",
    "# df3 = df3.reset_index(drop=True)\n",
    "# df4 = df4.sort_values(by=\"time\")\n",
    "# df4 = df4.reset_index(drop=True)"
   ]
  },
  {
   "cell_type": "code",
   "execution_count": 155,
   "metadata": {
    "collapsed": false
   },
   "outputs": [],
   "source": [
    "def convert(str):\n",
    "    s = eval(str)\n",
    "    for v in s:\n",
    "        if v[0] == \"CC\":\n",
    "            cc = v[1]\n",
    "        elif v[0] == \"CXX\":\n",
    "            cxx = v[1]\n",
    "    return [cc, cxx]"
   ]
  },
  {
   "cell_type": "code",
   "execution_count": 156,
   "metadata": {
    "collapsed": false
   },
   "outputs": [],
   "source": [
    "# df = df.sort_values(by=[\"bench\", \"macro\"])\n",
    "time = df['time'].values\n",
    "bench = df['bench'].values\n",
    "macro = df['macro'].values\n",
    "compile_option = [convert(x) for x in df['compile_options'].values]\n",
    "\n",
    "time2 = df2['avg_time'].values\n",
    "bench2 = df2['bench'].values\n",
    "macro2 = df2['macro'].values\n",
    "compile_option2 = [convert(x) for x in df2['compile_options'].values]\n",
    "\n",
    "# time3 = df3['time'].values\n",
    "# bench3 = df3['bench'].values\n",
    "# macro3 = df3['macro'].values\n",
    "\n",
    "# time4 = df4['avg_time'].values\n",
    "# bench4 = df4['bench'].values\n",
    "# macro4 = df4['macro'].values"
   ]
  },
  {
   "cell_type": "code",
   "execution_count": 169,
   "metadata": {
    "collapsed": false
   },
   "outputs": [
    {
     "data": {
      "image/png": "[encoded data removed]",
      "text/plain": [
       "<matplotlib.figure.Figure at 0x11ce745c0>"
      ]
     },
     "metadata": {},
     "output_type": "display_data"
    }
   ],
   "source": [
    "x1 = []\n",
    "y1 = []\n",
    "x2 = []\n",
    "y2 = []\n",
    "x3 = []\n",
    "y3 = []\n",
    "x4 = []\n",
    "y4 = []\n",
    "x5 = []\n",
    "y5 = []\n",
    "x6 = []\n",
    "y6 = []\n",
    "x7 = []\n",
    "y7 = []\n",
    "x8 = []\n",
    "y8 = []\n",
    "x9 = []\n",
    "y9 = []\n",
    "x10 = []\n",
    "y10 = []\n",
    "x11 = []\n",
    "y11 = []\n",
    "x12 = []\n",
    "y12 = []\n",
    "\n",
    "i1 = 0\n",
    "i2 = 0\n",
    "i3 = 0\n",
    "i4 = 0\n",
    "i5 = 0\n",
    "i6 = 0\n",
    "i7 = 0\n",
    "i8 = 0\n",
    "i9 = 0\n",
    "i10 = 0\n",
    "i11 = 0\n",
    "i12 = 0\n",
    "\n",
    "for i in range(len(time)):\n",
    "    if time[i] > 50:\n",
    "        continue\n",
    "    if bench[i]:\n",
    "        if compile_option[i][0] == \"icc\":\n",
    "            if compile_option[i][1] == \"icpc\":\n",
    "                x1.append(i1)\n",
    "                y1.append(time[i])\n",
    "                i1 += 1\n",
    "            else:\n",
    "                x2.append(i2)\n",
    "                y2.append(time[i])\n",
    "                i2 += 1\n",
    "        else:\n",
    "            if compile_option[i][1] == \"icpc\":\n",
    "                x3.append(i3)\n",
    "                y3.append(time[i])\n",
    "                i3 += 1\n",
    "            else:\n",
    "                x4.append(i4)\n",
    "                y4.append(time[i])\n",
    "                i4 += 1\n",
    "    elif macro[i]:\n",
    "        if compile_option[i][0] == \"icc\":\n",
    "            if compile_option[i][1] == \"icpc\":\n",
    "                x5.append(i5)\n",
    "                y5.append(time[i])\n",
    "                i5 += 1\n",
    "            else:\n",
    "                x6.append(i6)\n",
    "                y6.append(time[i])\n",
    "                i6 += 1\n",
    "        else:\n",
    "            if compile_option[i][1] == \"icpc\":\n",
    "                x7.append(i7)\n",
    "                y7.append(time[i])\n",
    "                i7 += 1\n",
    "            else:\n",
    "                x8.append(i8)\n",
    "                y8.append(time[i])\n",
    "                i8 += 1\n",
    "    else:\n",
    "        if compile_option[i][0] == \"icc\":\n",
    "            if compile_option[i][1] == \"icpc\":\n",
    "                x9.append(i9)\n",
    "                y9.append(time[i])\n",
    "                i9 += 1\n",
    "            else:\n",
    "                x10.append(i10)\n",
    "                y10.append(time[i])\n",
    "                i10 += 1\n",
    "        else:\n",
    "            if compile_option[i][1] == \"icpc\":\n",
    "                x11.append(i11)\n",
    "                y11.append(time[i])\n",
    "                i11 += 1\n",
    "            else:\n",
    "                x12.append(i12)\n",
    "                y12.append(time[i])\n",
    "                i12 += 1\n",
    "# print(x)\n",
    "# print(y)\n",
    "fig = plt.figure()\n",
    "ax = plt.subplot(111)\n",
    "ax.scatter(x1[:5], y1[:5], label=\"default icc icpc\")\n",
    "ax.scatter(x2[:5], y2[:5], label=\"default icc g++\")\n",
    "ax.scatter(x3[:5], y3[:5], label=\"default gcc icpc\")\n",
    "ax.scatter(x4[:5], y4[:5], label=\"default gcc g++\")\n",
    "ax.scatter(x5[:5], y5[:5], label=\"s-o-a icc icpc\")\n",
    "ax.scatter(x6[:5], y6[:5], label=\"s-o-a icc g++\")\n",
    "ax.scatter(x7[:5], y7[:5], label=\"s-o-a gcc icpc\")\n",
    "ax.scatter(x8[:5], y8[:5], label=\"s-o-a gcc g++\")\n",
    "ax.scatter(x9[:5], y9[:5], label=\"simd icc icpc\")\n",
    "ax.scatter(x10[:5], y10[:5], label=\"simd icc g++\")\n",
    "ax.scatter(x11[:5], y11[:5], label=\"simd gcc icpc\")\n",
    "ax.scatter(x12[:5], y12[:5], label=\"simd gcc g++\")\n",
    "\n",
    "\n",
    "# Shrink current axis by 20%\n",
    "box = ax.get_position()\n",
    "ax.set_position([box.x0, box.y0, box.width * 0.8, box.height])\n",
    "\n",
    "# Put a legend to the right of the current axis\n",
    "ax.legend(loc='center left', bbox_to_anchor=(1, 0.5))\n",
    "\n",
    "plt.show()"
   ]
  },
  {
   "cell_type": "code",
   "execution_count": 172,
   "metadata": {
    "collapsed": false
   },
   "outputs": [
    {
     "data": {
      "image/png": "[encoded data removed]",
      "text/plain": [
       "<matplotlib.figure.Figure at 0x11d4eeda0>"
      ]
     },
     "metadata": {},
     "output_type": "display_data"
    }
   ],
   "source": [
    "x1 = []\n",
    "y1 = []\n",
    "x2 = []\n",
    "y2 = []\n",
    "x3 = []\n",
    "y3 = []\n",
    "x4 = []\n",
    "y4 = []\n",
    "x5 = []\n",
    "y5 = []\n",
    "x6 = []\n",
    "y6 = []\n",
    "x7 = []\n",
    "y7 = []\n",
    "x8 = []\n",
    "y8 = []\n",
    "x9 = []\n",
    "y9 = []\n",
    "x10 = []\n",
    "y10 = []\n",
    "x11 = []\n",
    "y11 = []\n",
    "x12 = []\n",
    "y12 = []\n",
    "\n",
    "i1 = 0\n",
    "i2 = 0\n",
    "i3 = 0\n",
    "i4 = 0\n",
    "i5 = 0\n",
    "i6 = 0\n",
    "i7 = 0\n",
    "i8 = 0\n",
    "i9 = 0\n",
    "i10 = 0\n",
    "i11 = 0\n",
    "i12 = 0\n",
    "\n",
    "for i in range(len(time2)):\n",
    "    if time2[i] > 50:\n",
    "        continue\n",
    "    if bench2[i]:\n",
    "        if compile_option2[i][0] == \"icc\":\n",
    "            if compile_option2[i][1] == \"icpc\":\n",
    "                x1.append(i1)\n",
    "                y1.append(time2[i])\n",
    "                i1 += 1\n",
    "            else:\n",
    "                x2.append(i2)\n",
    "                y2.append(time2[i])\n",
    "                i2 += 1\n",
    "        else:\n",
    "            if compile_option2[i][1] == \"icpc\":\n",
    "                x3.append(i3)\n",
    "                y3.append(time2[i])\n",
    "                i3 += 1\n",
    "            else:\n",
    "                x4.append(i4)\n",
    "                y4.append(time2[i])\n",
    "                i4 += 1\n",
    "    elif macro2[i]:\n",
    "        if compile_option2[i][0] == \"icc\":\n",
    "            if compile_option2[i][1] == \"icpc\":\n",
    "                x5.append(i5)\n",
    "                y5.append(time2[i])\n",
    "                i5 += 1\n",
    "            else:\n",
    "                x6.append(i6)\n",
    "                y6.append(time2[i])\n",
    "                i6 += 1\n",
    "        else:\n",
    "            if compile_option2[i][1] == \"icpc\":\n",
    "                x7.append(i7)\n",
    "                y7.append(time2[i])\n",
    "                i7 += 1\n",
    "            else:\n",
    "                x8.append(i8)\n",
    "                y8.append(time2[i])\n",
    "                i8 += 1\n",
    "    else:\n",
    "        if compile_option2[i][0] == \"icc\":\n",
    "            if compile_option2[i][1] == \"icpc\":\n",
    "                x9.append(i9)\n",
    "                y9.append(time2[i])\n",
    "                i9 += 1\n",
    "            else:\n",
    "                x10.append(i10)\n",
    "                y10.append(time2[i])\n",
    "                i10 += 1\n",
    "        else:\n",
    "            if compile_option2[i][1] == \"icpc\":\n",
    "                x11.append(i11)\n",
    "                y11.append(time2[i])\n",
    "                i11 += 1\n",
    "            else:\n",
    "                x12.append(i12)\n",
    "                y12.append(time2[i])\n",
    "                i12 += 1\n",
    "fig = plt.figure()\n",
    "ax = plt.subplot(111)\n",
    "ax.scatter(x1[:5], y1[:5], label=\"default icc icpc\")\n",
    "ax.scatter(x2[:5], y2[:5], label=\"default icc g++\")\n",
    "ax.scatter(x3[:5], y3[:5], label=\"default gcc icpc\")\n",
    "ax.scatter(x4[:5], y4[:5], label=\"default gcc g++\")\n",
    "# ax.scatter(x5[:5], y5[:5], label=\"s-o-a icc icpc\")\n",
    "# ax.scatter(x6[:5], y6[:5], label=\"s-o-a icc g++\")\n",
    "# ax.scatter(x7[:5], y7[:5], label=\"s-o-a gcc icpc\")\n",
    "# ax.scatter(x8[:5], y8[:5], label=\"s-o-a gcc g++\")\n",
    "# ax.scatter(x9[:5], y9[:5], label=\"simd icc icpc\")\n",
    "# ax.scatter(x10[:5], y10[:5], label=\"simd icc g++\")\n",
    "# ax.scatter(x11[:5], y11[:5], label=\"simd gcc icpc\")\n",
    "# ax.scatter(x12[:5], y12[:5], label=\"simd gcc g++\")\n",
    "\n",
    "\n",
    "# Shrink current axis by 20%\n",
    "box = ax.get_position()\n",
    "ax.set_position([box.x0, box.y0, box.width * 0.8, box.height])\n",
    "\n",
    "# Put a legend to the right of the current axis\n",
    "ax.legend(loc='center left', bbox_to_anchor=(1, 0.5))\n",
    "\n",
    "plt.show()"
   ]
  },
  {
   "cell_type": "code",
   "execution_count": 141,
   "metadata": {
    "collapsed": false
   },
   "outputs": [
    {
     "data": {
      "text/plain": [
       "<matplotlib.collections.PathCollection at 0x11baa7cc0>"
      ]
     },
     "execution_count": 141,
     "metadata": {},
     "output_type": "execute_result"
    },
    {
     "data": {
      "image/png": "[encoded data removed]",
      "text/plain": [
       "<matplotlib.figure.Figure at 0x11b7dfcf8>"
      ]
     },
     "metadata": {},
     "output_type": "display_data"
    }
   ],
   "source": [
    "x1 = []\n",
    "y1 = []\n",
    "x2 = []\n",
    "y2 = []\n",
    "x3 = []\n",
    "y3 = []\n",
    "i1 = 0\n",
    "i2 = 0\n",
    "i3 = 0\n",
    "for i in range(len(time3)):\n",
    "    if time3[i] > 200:\n",
    "        continue\n",
    "    if bench3[i]:\n",
    "        x1.append(i1)\n",
    "        y1.append(time3[i])\n",
    "        i1 += 1\n",
    "    elif macro3[i]:\n",
    "        x2.append(i2)\n",
    "        y2.append(time3[i])\n",
    "        i2 += 1\n",
    "    else:\n",
    "        x3.append(i3)\n",
    "        y3.append(time3[i])\n",
    "        i3 += 1\n",
    "# print(x)\n",
    "# print(y)\n",
    "plt.scatter(x1[:], y1[:])\n",
    "plt.scatter(x2[:], y2[:])\n",
    "plt.scatter(x3[:], y3[:])"
   ]
  },
  {
   "cell_type": "code",
   "execution_count": 30,
   "metadata": {
    "collapsed": false
   },
   "outputs": [
    {
     "data": {
      "text/plain": [
       "<matplotlib.collections.PathCollection at 0x119874ba8>"
      ]
     },
     "execution_count": 30,
     "metadata": {},
     "output_type": "execute_result"
    },
    {
     "data": {
      "image/png": "[encoded data removed]",
      "text/plain": [
       "<matplotlib.figure.Figure at 0x1196c3080>"
      ]
     },
     "metadata": {},
     "output_type": "display_data"
    }
   ],
   "source": [
    "x1 = []\n",
    "y1 = []\n",
    "x2 = []\n",
    "y2 = []\n",
    "x3 = []\n",
    "y3 = []\n",
    "i1 = 0\n",
    "i2 = 0\n",
    "i3 = 0\n",
    "for i in range(len(time4)):\n",
    "    if time4[i] > 200:\n",
    "        continue\n",
    "    if bench4[i]:\n",
    "        x1.append(i1)\n",
    "        y1.append(time4[i])\n",
    "        i1 += 1\n",
    "    elif macro4[i]:\n",
    "        x2.append(i2)\n",
    "        y2.append(time4[i])\n",
    "        i2 += 1\n",
    "    else:\n",
    "        x3.append(i3)\n",
    "        y3.append(time4[i])\n",
    "        i3 += 1\n",
    "# print(x)\n",
    "# print(y)\n",
    "plt.scatter(x1[:10], y1[:10])\n",
    "plt.scatter(x2[:10], y2[:10])\n",
    "plt.scatter(x3[:10], y3[:10])"
   ]
  },
  {
   "cell_type": "code",
   "execution_count": 16,
   "metadata": {
    "collapsed": false
   },
   "outputs": [
    {
     "data": {
      "text/html": [
       "<div>\n",
       "<table border=\"1\" class=\"dataframe\">\n",
       "  <thead>\n",
       "    <tr style=\"text-align: right;\">\n",
       "      <th></th>\n",
       "      <th>Unnamed: 0</th>\n",
       "      <th>neuron_path</th>\n",
       "      <th>specials_path</th>\n",
       "      <th>options</th>\n",
       "      <th>compile_options</th>\n",
       "      <th>nodes</th>\n",
       "      <th>ppn</th>\n",
       "      <th>omp_num_threads</th>\n",
       "      <th>nrniv</th>\n",
       "      <th>hoc_name</th>\n",
       "      <th>stop_time</th>\n",
       "      <th>nthread</th>\n",
       "      <th>prof</th>\n",
       "      <th>modules</th>\n",
       "      <th>job_id</th>\n",
       "      <th>bench</th>\n",
       "      <th>macro</th>\n",
       "      <th>time</th>\n",
       "      <th>avg_time</th>\n",
       "    </tr>\n",
       "  </thead>\n",
       "  <tbody>\n",
       "    <tr>\n",
       "      <th>0</th>\n",
       "      <td>0</td>\n",
       "      <td>../nrn-7.2</td>\n",
       "      <td>../specials</td>\n",
       "      <td>['--without-iv', '--without-x', '--without-nrn...</td>\n",
       "      <td>defaultdict(&lt;class 'dict'&gt;, {'linux_nrnmech': ...</td>\n",
       "      <td>1</td>\n",
       "      <td>26</td>\n",
       "      <td>16</td>\n",
       "      <td>../specials/x86_64/special -mpi</td>\n",
       "      <td>../hoc/bench_main.hoc</td>\n",
       "      <td>1000.0</td>\n",
       "      <td>16.0</td>\n",
       "      <td>NaN</td>\n",
       "      <td>{}</td>\n",
       "      <td>19670</td>\n",
       "      <td>False</td>\n",
       "      <td>True</td>\n",
       "      <td>658.42403</td>\n",
       "      <td>164.606008</td>\n",
       "    </tr>\n",
       "  </tbody>\n",
       "</table>\n",
       "</div>"
      ],
      "text/plain": [
       "   Unnamed: 0 neuron_path specials_path  \\\n",
       "0           0  ../nrn-7.2   ../specials   \n",
       "\n",
       "                                             options  \\\n",
       "0  ['--without-iv', '--without-x', '--without-nrn...   \n",
       "\n",
       "                                     compile_options  nodes  ppn  \\\n",
       "0  defaultdict(<class 'dict'>, {'linux_nrnmech': ...      1   26   \n",
       "\n",
       "   omp_num_threads                            nrniv               hoc_name  \\\n",
       "0               16  ../specials/x86_64/special -mpi  ../hoc/bench_main.hoc   \n",
       "\n",
       "   stop_time  nthread  prof modules  job_id  bench macro       time  \\\n",
       "0     1000.0     16.0   NaN      {}   19670  False  True  658.42403   \n",
       "\n",
       "     avg_time  \n",
       "0  164.606008  "
      ]
     },
     "execution_count": 16,
     "metadata": {},
     "output_type": "execute_result"
    }
   ],
   "source": [
    "df2"
   ]
  },
  {
   "cell_type": "code",
   "execution_count": 17,
   "metadata": {
    "collapsed": false
   },
   "outputs": [
    {
     "data": {
      "text/plain": [
       "219.47467666666668"
      ]
     },
     "execution_count": 17,
     "metadata": {},
     "output_type": "execute_result"
    }
   ],
   "source": [
    "658.42403 / 3.0"
   ]
  },
  {
   "cell_type": "code",
   "execution_count": 42,
   "metadata": {
    "collapsed": false
   },
   "outputs": [
    {
     "name": "stdout",
     "output_type": "stream",
     "text": [
      "7120401\n",
      "7121076 QUE\n"
     ]
    }
   ],
   "source": [
    "import re\n",
    "\n",
    "job_k_exp = re.compile(\n",
    "    \"(?P<id>\\d+)\\s+\\w+.\\w+\\s+\\w+\\s+(?P<state>\\w+)\\s+[\\w\\d\\[\\]\\/\\:\\-\\s]+\")\n",
    "\n",
    "id_k_exp = re.compile(\"\\[INFO\\]\\s+PJM\\s+\\d+\\s+\\w+\\s+\\w+\\s(?P<id>\\d+)\\s+\\w+.\")\n",
    "\n",
    "t = \"7121076  job1.sh   NM  QUE  k03796    hp160269  [--/-- --:--:--]  0000:00:00      2:-         small    -\"\n",
    "# t = \"7120284  run.sh    NM  RUN  k03796    hp160269  [--/-- --:--:--]  0000:00:00      1:-         small    -\"\n",
    "t2 = \"[INFO] PJM 0000 pjsub Job 7120401 submitted.\"\n",
    "m = id_k_exp.match(t2)\n",
    "print(m.group(\"id\"))\n",
    "m = job_k_exp.match(t)\n",
    "print(m.group(\"id\"), m.group(\"state\"))"
   ]
  },
  {
   "cell_type": "code",
   "execution_count": 10,
   "metadata": {
    "collapsed": false
   },
   "outputs": [
    {
     "data": {
      "text/plain": [
       "'../specials.tmp/x86_64/special -mpi'"
      ]
     },
     "execution_count": 10,
     "metadata": {},
     "output_type": "execute_result"
    }
   ],
   "source": [
    "a = \"../specials/x86_64/special -mpi\"\n",
    "a.replace(\"specials\", \"specials.tmp\")"
   ]
  },
  {
   "cell_type": "code",
   "execution_count": 8,
   "metadata": {
    "collapsed": false
   },
   "outputs": [
    {
     "data": {
      "text/html": [
       "<div>\n",
       "<table border=\"1\" class=\"dataframe\">\n",
       "  <thead>\n",
       "    <tr style=\"text-align: right;\">\n",
       "      <th></th>\n",
       "      <th>Unnamed: 0</th>\n",
       "      <th>neuron_path</th>\n",
       "      <th>specials_path</th>\n",
       "      <th>options</th>\n",
       "      <th>compile_options</th>\n",
       "      <th>nodes</th>\n",
       "      <th>ppn</th>\n",
       "      <th>omp_num_threads</th>\n",
       "      <th>nrniv</th>\n",
       "      <th>hoc_name</th>\n",
       "      <th>stop_time</th>\n",
       "      <th>nthread</th>\n",
       "      <th>prof</th>\n",
       "      <th>job_id</th>\n",
       "      <th>bench</th>\n",
       "      <th>time</th>\n",
       "      <th>avg_time</th>\n",
       "    </tr>\n",
       "  </thead>\n",
       "  <tbody>\n",
       "    <tr>\n",
       "      <th>14</th>\n",
       "      <td>2</td>\n",
       "      <td>../nrn-7.2</td>\n",
       "      <td>../specials</td>\n",
       "      <td>['--without-iv', '--without-x', '--without-nrn...</td>\n",
       "      <td>defaultdict(&lt;class 'dict'&gt;, {'linux_nrnmech': ...</td>\n",
       "      <td>1</td>\n",
       "      <td>6.0</td>\n",
       "      <td>13.0</td>\n",
       "      <td>../specials/x86_64/special -mpi</td>\n",
       "      <td>../hoc/bench_main.hoc</td>\n",
       "      <td>150.0</td>\n",
       "      <td>16.0</td>\n",
       "      <td>NaN</td>\n",
       "      <td>10730</td>\n",
       "      <td>True</td>\n",
       "      <td>201.94262</td>\n",
       "      <td>50.485655</td>\n",
       "    </tr>\n",
       "  </tbody>\n",
       "</table>\n",
       "</div>"
      ],
      "text/plain": [
       "    Unnamed: 0 neuron_path specials_path  \\\n",
       "14           2  ../nrn-7.2   ../specials   \n",
       "\n",
       "                                              options  \\\n",
       "14  ['--without-iv', '--without-x', '--without-nrn...   \n",
       "\n",
       "                                      compile_options  nodes  ppn  \\\n",
       "14  defaultdict(<class 'dict'>, {'linux_nrnmech': ...      1  6.0   \n",
       "\n",
       "    omp_num_threads                            nrniv               hoc_name  \\\n",
       "14             13.0  ../specials/x86_64/special -mpi  ../hoc/bench_main.hoc   \n",
       "\n",
       "    stop_time  nthread  prof  job_id bench       time   avg_time  \n",
       "14      150.0     16.0   NaN   10730  True  201.94262  50.485655  "
      ]
     },
     "execution_count": 8,
     "metadata": {},
     "output_type": "execute_result"
    }
   ],
   "source": [
    "df2[df2['job_id'] == 10730]"
   ]
  },
  {
   "cell_type": "code",
   "execution_count": 18,
   "metadata": {
    "collapsed": false
   },
   "outputs": [
    {
     "name": "stdout",
     "output_type": "stream",
     "text": [
      "[0, 1, 2, 3, 4, 5, 6, 7, 8, 9, 10, 11, 12, 13, 14, 15, 16, 17, 18, 19, 20, 21, 22, 23, 24, 25, 26, 27, 28, 29, 30, 31, 32, 33, 34, 35, 36, 37, 38, 39, 40, 41, 42, 43, 44, 45, 46, 47, 48, 49, 50, 51, 52, 53, 54, 55, 56, 57, 58, 59, 60, 61, 62, 63, 64, 65, 66, 67, 68, 69, 70, 71, 72, 73, 74, 75, 76, 77, 78, 79, 80, 81, 82, 83, 84, 85, 86, 87, 88, 89, 90, 91, 92, 93, 94, 95, 96, 97, 98, 99, 100, 101, 102, 103, 104, 105, 106, 107, 108, 109, 110, 111, 112, 113, 114, 115, 116, 117, 118, 119, 120, 121, 122, 123, 124, 125, 126, 127, 128, 129, 130, 131, 132, 133, 134, 135, 136, 137, 138, 139, 140, 141, 142, 143, 144, 145, 146, 147, 148, 149, 150, 151, 152, 153, 154, 155, 156, 157, 158, 159, 160, 161, 162, 163, 164, 165, 166, 167, 168, 169, 170, 171, 172, 173, 174, 175, 176, 177, 178, 179, 180, 181, 182, 183, 184, 185, 186, 187, 188, 189, 190, 191, 192, 193, 194, 195, 196, 197, 198, 199, 200, 201, 202, 203, 204, 205, 206, 207, 208, 209, 210, 211, 212, 213, 214, 215, 216, 217, 218, 219, 220, 221, 222, 223, 224, 225, 226, 227, 228, 229, 230, 231, 232, 233, 234, 235, 236, 237, 238, 239, 240, 241, 242, 243, 244, 245, 246, 247, 248, 249, 250, 251, 252, 253, 254, 255, 256, 257, 258, 259, 260, 261, 262, 263, 264, 265, 266, 267, 268, 269, 270, 271, 272, 273, 274, 275, 276, 277, 278, 279, 280, 281, 282, 283, 284, 285, 286, 287, 288, 289, 290, 291, 292, 293, 294, 295, 296, 297, 298, 299, 300, 301, 302, 303, 304, 305, 306, 307, 308, 309, 310, 311, 312, 313, 314, 315, 316, 317, 318, 319, 320, 321, 322, 323, 324, 325, 326, 327, 328, 329, 330, 331, 332, 333, 334, 335, 336, 337, 338, 339, 340, 341, 342, 343, 344, 345, 346, 347, 348, 349, 350, 351, 352, 353, 354, 355, 356, 357, 358, 359, 360, 361, 362, 363, 364, 365, 366, 367, 368, 369, 370, 371, 372, 373, 374, 375, 376, 377, 378, 379, 380, 381, 382, 383, 384, 385, 386, 387, 388, 389, 390, 391, 392, 393, 394, 395, 396, 397, 398, 399, 400, 401, 402, 403, 404, 405, 406, 407, 408, 409, 410, 411, 412, 413, 414, 415, 416, 417, 418, 419, 420, 421, 422, 423, 424, 425, 426, 427, 428, 429, 430, 431, 432, 433, 434, 435, 436, 437, 438, 439, 440, 441, 442, 443, 444, 445, 446, 447, 448, 449, 450, 451, 452, 453, 454, 455, 456, 457, 458, 459, 460, 461, 462, 463, 464, 465, 466, 467, 468, 469, 470, 471, 472, 473, 474, 475, 476, 477, 478, 479, 480, 481, 482, 483, 484, 485, 486, 487, 488, 489, 490, 491, 492, 493, 494, 495, 496, 497, 498, 499, 500, 501, 502, 503, 504, 505, 506, 507, 508, 509, 510, 511, 512, 513, 514, 515, 516, 517, 518, 519, 520, 521, 522, 523, 524, 525, 526, 527, 528, 529, 530, 531, 532, 533, 534, 535, 536, 537, 538, 539, 540, 541, 542, 543, 544, 545, 546, 547, 548, 549, 550, 551, 552, 553, 554, 555, 556, 557, 558, 559, 560, 561, 562, 563, 564, 565, 566, 567, 568, 569, 570, 571, 572, 573, 574, 575, 576, 577, 578, 579, 580, 581, 582, 583, 584, 585, 586, 587, 588, 589, 590, 591, 592, 593, 594, 595, 596, 597, 598, 599, 600, 601, 602, 603, 604, 605, 606, 607, 608, 609, 610, 611, 612, 613, 614, 615, 616, 617, 618, 619, 620, 621, 622, 623, 624, 625, 626, 627, 628, 629, 630, 631, 632, 633, 634, 635, 636, 637, 638, 639, 640, 641, 642, 643, 644, 645, 646, 647, 648, 649, 650, 651, 652, 653, 654, 655, 656, 657, 658, 659, 660, 661, 662, 663, 664, 665, 666, 667, 668, 669, 670, 671, 672, 673, 674, 675, 676, 677, 678, 679, 680, 681, 682, 683, 684, 685, 686, 687, 688, 689, 690, 691, 692, 693, 694, 695, 696, 697, 698, 699, 700, 701, 702, 703, 704, 705, 706, 707, 708, 709, 710, 711, 712, 713, 714, 715, 716, 717, 718, 719, 720, 721, 722, 723, 724, 725, 726, 727, 728, 729, 730, 731, 732, 733, 734, 735, 736, 737, 738, 739, 740, 741, 742, 743, 744, 745, 746, 747, 748, 749, 750, 751, 752, 753, 754, 755, 756, 757, 758, 759, 760, 761, 762, 763, 764, 765, 766, 767, 768, 769, 770, 771, 772, 773, 774, 775, 776, 777, 778, 779, 780, 781, 782, 783, 784, 785, 786, 787, 788, 789, 790, 791, 792, 793, 794, 795, 796, 797, 798, 799, 800, 801, 802, 803, 804, 805, 806, 807, 808, 809, 810, 811, 812, 813, 814, 815, 816, 817, 818, 819, 820, 821, 822, 823, 824, 825, 826, 827, 828, 829, 830, 831, 832, 833, 834, 835, 836, 837, 838, 839, 840, 841, 842, 843, 844, 845, 846, 847, 848, 849, 850, 851, 852, 853, 854, 855, 856, 857, 858, 859, 860, 861, 862, 863]\n",
      "[25.541229999999999, 26.544009999999997, 26.699159999999999, 26.858690000000003, 26.897440000000003, 27.058459999999997, 27.081320000000002, 27.116240000000001, 27.14263, 27.175370000000001, 27.17568, 27.266559999999998, 27.280520000000003, 27.332979999999999, 27.34825, 27.351129999999998, 27.3827, 27.414249999999999, 27.433459999999997, 27.43957, 27.442390000000003, 27.4556, 27.493159999999996, 27.543399999999998, 27.55847, 27.580929999999999, 27.60698, 27.696859999999997, 27.743090000000002, 27.766590000000001, 27.799140000000001, 27.801279999999998, 27.802979999999998, 27.812490000000004, 27.836579999999998, 27.839300000000001, 27.847059999999999, 27.85022, 27.853720000000003, 27.877849999999999, 27.89892, 27.901609999999998, 27.936229999999998, 27.937890000000003, 27.940149999999999, 27.95215, 27.956940000000003, 27.961809999999996, 27.96303, 27.988890000000001, 27.995570000000001, 28.00085, 28.026900000000001, 28.028809999999996, 28.04027, 28.05433, 28.070779999999999, 28.104800000000001, 28.1067, 28.112130000000001, 28.124919999999999, 28.125890000000002, 28.126590000000004, 28.150549999999999, 28.158620000000003, 28.201809999999998, 28.20617, 28.210349999999998, 28.21133, 28.233209999999996, 28.235859999999999, 28.236140000000002, 28.246490000000001, 28.2607, 28.277809999999999, 28.283290000000001, 28.294840000000001, 28.327540000000003, 28.343399999999999, 28.343790000000002, 28.355759999999997, 28.36665, 28.36985, 28.385179999999998, 28.3948, 28.401940000000003, 28.405829999999998, 28.416429999999998, 28.431379999999997, 28.434309999999996, 28.435600000000001, 28.454240000000002, 28.472470000000001, 28.487709999999996, 28.492650000000001, 28.507929999999998, 28.5215, 28.526720000000001, 28.560449999999999, 28.58662, 28.591470000000001, 28.613209999999999, 28.614079999999998, 28.614720000000002, 28.634159999999998, 28.670920000000002, 28.674600000000002, 28.674679999999999, 28.67597, 28.680809999999997, 28.683220000000002, 28.69875, 28.70682, 28.709640000000004, 28.72775, 28.728249999999999, 28.7318, 28.741720000000001, 28.756970000000003, 28.757179999999998, 28.757190000000001, 28.769440000000003, 28.771290000000004, 28.773159999999997, 28.773859999999999, 28.775189999999998, 28.776590000000002, 28.784909999999996, 28.806450000000002, 28.811720000000001, 28.8186, 28.828359999999996, 28.860009999999999, 28.860879999999998, 28.865170000000003, 28.875419999999998, 28.88627, 28.89002, 28.892949999999999, 28.898000000000003, 28.906999999999996, 28.913450000000001, 28.915769999999998, 28.917100000000001, 28.918970000000002, 28.920739999999999, 28.92165, 28.92268, 28.932509999999997, 28.938990000000004, 28.946100000000001, 28.96482, 28.99682, 29.006519999999998, 29.008479999999999, 29.021859999999997, 29.027859999999997, 29.028870000000001, 29.038709999999998, 29.049979999999998, 29.051469999999998, 29.056559999999998, 29.071470000000001, 29.081429999999997, 29.083940000000002, 29.085899999999999, 29.0913, 29.0974, 29.099559999999997, 29.105690000000003, 29.117999999999999, 29.121749999999999, 29.12482, 29.12847, 29.129159999999999, 29.131979999999999, 29.132579999999997, 29.133500000000002, 29.136090000000003, 29.145670000000003, 29.153400000000001, 29.160620000000002, 29.161390000000001, 29.171029999999998, 29.179990000000004, 29.180870000000002, 29.185690000000001, 29.194540000000003, 29.196090000000002, 29.21435, 29.228759999999998, 29.230270000000001, 29.25553, 29.257209999999997, 29.2577, 29.258700000000001, 29.258779999999998, 29.25928, 29.259359999999997, 29.26163, 29.273670000000003, 29.274890000000003, 29.29035, 29.291329999999999, 29.292149999999999, 29.295269999999999, 29.296159999999997, 29.301970000000001, 29.305629999999997, 29.307109999999998, 29.31073, 29.311420000000002, 29.313700000000001, 29.342320000000001, 29.366059999999997, 29.376090000000001, 29.37922, 29.432309999999998, 29.452240000000003, 29.455890000000004, 29.466629999999999, 29.467309999999998, 29.470809999999997, 29.472529999999999, 29.478240000000003, 29.482140000000001, 29.486040000000003, 29.513670000000001, 29.519779999999997, 29.526390000000003, 29.527899999999999, 29.5321, 29.539309999999997, 29.54532, 29.549140000000001, 29.550190000000001, 29.552020000000002, 29.554269999999999, 29.554479999999998, 29.55667, 29.562259999999998, 29.568059999999999, 29.572220000000002, 29.581429999999997, 29.58512, 29.58915, 29.590009999999996, 29.595929999999999, 29.61007, 29.615009999999998, 29.615950000000002, 29.622, 29.639540000000004, 29.656359999999999, 29.668990000000001, 29.672979999999999, 29.676400000000001, 29.677340000000001, 29.682709999999997, 29.688779999999998, 29.694779999999998, 29.71078, 29.723959999999998, 29.728100000000001, 29.729649999999999, 29.737840000000002, 29.74465, 29.755370000000003, 29.759129999999999, 29.768559999999997, 29.773670000000003, 29.785720000000001, 29.786300000000001, 29.796879999999998, 29.798829999999999, 29.829509999999999, 29.834440000000001, 29.835590000000003, 29.850000000000001, 29.879279999999998, 29.882529999999999, 29.885159999999999, 29.895740000000004, 29.90202, 29.9024, 29.906340000000004, 29.908140000000003, 29.92418, 29.92887, 29.935159999999996, 29.9376, 29.946950000000001, 29.947159999999997, 29.955179999999999, 29.99147, 30.020790000000002, 30.03492, 30.04035, 30.05988, 30.06298, 30.068850000000001, 30.079470000000001, 30.082629999999998, 30.09037, 30.096499999999999, 30.103160000000006, 30.115890000000004, 30.12388, 30.139600000000002, 30.139900000000001, 30.143719999999998, 30.16103, 30.172159999999998, 30.182609999999997, 30.184890000000003, 30.186690000000002, 30.202260000000006, 30.21557, 30.221529999999998, 30.228729999999999, 30.229229999999998, 30.2622, 30.262909999999998, 30.263379999999998, 30.279299999999999, 30.286940000000001, 30.287559999999999, 30.296470000000003, 30.30273, 30.303070000000002, 30.307259999999999, 30.311229999999998, 30.323319999999999, 30.34327, 30.344709999999999, 30.348109999999998, 30.35483, 30.356009999999998, 30.379349999999999, 30.387989999999999, 30.404870000000006, 30.4115, 30.421359999999996, 30.436720000000001, 30.458459999999999, 30.481290000000001, 30.490909999999996, 30.497629999999997, 30.502779999999998, 30.505000000000006, 30.519079999999999, 30.521529999999998, 30.558329999999998, 30.561109999999999, 30.56803, 30.579209999999996, 30.581559999999996, 30.58268, 30.587259999999997, 30.591370000000001, 30.598320000000001, 30.656879999999997, 30.660270000000001, 30.663699999999999, 30.675140000000003, 30.68055, 30.693340000000003, 30.697640000000003, 30.708320000000001, 30.721579999999999, 30.727650000000001, 30.735220000000002, 30.746359999999999, 30.746740000000006, 30.751840000000001, 30.762790000000006, 30.83803, 30.848109999999998, 30.850100000000001, 30.851199999999999, 30.853959999999997, 30.860909999999997, 30.861629999999998, 30.873540000000002, 30.879890000000003, 30.894929999999999, 30.921340000000001, 30.926939999999998, 30.971550000000001, 30.975659999999998, 30.977699999999999, 30.978570000000001, 30.979459999999996, 30.98828, 31.046779999999998, 31.056009999999997, 31.058969999999999, 31.096159999999998, 31.09693, 31.131250000000001, 31.135359999999999, 31.153259999999996, 31.185099999999998, 31.195609999999999, 31.212440000000001, 31.225149999999999, 31.238520000000001, 31.266079999999999, 31.312059999999999, 31.321159999999999, 31.365929999999999, 31.394309999999997, 31.406199999999998, 31.410490000000003, 31.414009999999998, 31.425450000000001, 31.438779999999998, 31.440629999999999, 31.510040000000004, 31.521079999999998, 31.540609999999997, 31.562390000000001, 31.574379999999998, 31.583130000000001, 31.611940000000001, 31.650059999999996, 31.651029999999999, 31.661259999999999, 31.67182, 31.716200000000001, 31.728000000000002, 31.765429999999999, 31.768420000000003, 31.77477, 31.835129999999999, 31.84675, 31.857990000000001, 31.876620000000003, 31.907759999999996, 31.957320000000003, 31.965039999999998, 31.9663, 31.971540000000001, 32.03463, 32.077240000000003, 32.082009999999997, 32.109749999999998, 32.113050000000001, 32.123100000000001, 32.19979, 32.279540000000004, 32.285249999999998, 32.290990000000001, 32.325029999999998, 32.356159999999996, 32.432580000000002, 32.44041, 32.449860000000001, 32.467490000000005, 32.590910000000001, 32.638150000000003, 32.668810000000001, 32.683129999999998, 32.710560000000001, 32.723440000000004, 32.725590000000004, 32.760899999999999, 32.767859999999999, 32.944520000000004, 33.080240000000003, 33.147640000000003, 33.369570000000003, 33.575099999999999, 33.644970000000001, 33.65155, 33.735500000000002, 33.757370000000002, 33.767769999999999, 33.780520000000003, 33.798349999999999, 33.84093, 33.846910000000001, 33.851950000000002, 33.869579999999999, 33.880790000000005, 33.933820000000004, 33.95147, 33.956590000000006, 33.959800000000001, 34.031269999999999, 34.064029999999995, 34.230920000000005, 34.372900000000001, 34.409399999999998, 34.485170000000004, 34.532530000000001, 34.558840000000004, 34.574490000000004, 34.613060000000004, 34.619750000000003, 34.709440000000001, 34.749279999999999, 34.791730000000001, 34.815899999999999, 34.843640000000001, 34.939830000000001, 35.049109999999999, 35.124679999999998, 35.134409999999995, 35.141390000000001, 35.235970000000002, 35.236840000000001, 35.248470000000005, 35.38917, 35.460050000000003, 35.502459999999999, 35.55115, 35.670140000000004, 35.79974, 35.8202, 35.851240000000011, 35.958940000000005, 35.973100000000002, 36.048429999999996, 36.139400000000002, 36.269889999999997, 36.274900000000002, 36.366019999999999, 36.461669999999998, 36.886569999999999, 37.692390000000003, 38.862079999999999, 42.088609999999996, 43.912970000000001, 47.551000000000002, 48.145990000000005, 48.201340000000002, 48.298920000000003, 48.5989, 48.710079999999998, 49.000549999999997, 49.006459999999997, 49.211940000000006, 49.298999999999999, 49.301850000000002, 49.34169, 49.390470000000001, 49.390540000000001, 49.398870000000002, 49.500349999999997, 49.598799999999997, 49.608370000000001, 49.611109999999996, 49.624959999999994, 49.690519999999999, 49.694699999999997, 49.701970000000003, 49.798970000000004, 49.799620000000004, 49.88982, 49.900009999999995, 49.933450000000001, 49.999009999999998, 50.109459999999999, 50.189230000000002, 50.191009999999999, 50.199559999999998, 50.19999, 50.299959999999999, 50.367150000000002, 50.398470000000003, 50.409040000000005, 50.460050000000003, 50.461410000000001, 50.500240000000005, 50.510959999999997, 50.543390000000002, 50.600009999999997, 50.600790000000003, 50.707329999999999, 50.799140000000001, 50.899409999999996, 50.908009999999997, 50.908819999999999, 50.990679999999998, 50.992139999999999, 51.001309999999997, 51.00882, 51.011450000000004, 51.089239999999997, 51.198529999999998, 51.198890000000006, 51.222349999999999, 51.300150000000002, 51.301259999999999, 51.307809999999996, 51.384360000000001, 51.415959999999998, 51.49165, 51.665959999999998, 51.699159999999999, 51.70973, 51.724330000000002, 51.792629999999996, 51.79965, 51.901540000000004, 51.93609, 51.938850000000002, 51.998139999999999, 52.010579999999997, 52.014990000000004, 52.053709999999995, 52.191670000000002, 52.199909999999996, 52.200499999999998, 52.209859999999999, 52.298990000000003, 52.301470000000002, 52.302149999999997, 52.330240000000003, 52.390709999999999, 52.399949999999997, 52.437980000000003, 52.440480000000008, 52.49091, 52.547139999999999, 52.60004, 52.701799999999999, 52.713630000000002, 52.798690000000001, 52.809269999999998, 52.811000000000007, 52.899990000000003, 52.909319999999994, 52.928530000000002, 52.990269999999995, 52.999330000000008, 53.001169999999995, 53.032550000000001, 53.099630000000005, 53.099909999999994, 53.100949999999997, 53.110019999999999, 53.169359999999998, 53.350349999999999, 53.394380000000005, 53.399949999999997, 53.430840000000003, 53.492030000000007, 53.495919999999998, 53.570180000000008, 53.593040000000002, 53.599119999999992, 53.599780000000003, 53.642119999999998, 53.661439999999999, 53.700600000000001, 53.800319999999992, 53.800819999999995, 53.807690000000001, 53.901040000000002, 53.991300000000003, 54.008540000000004, 54.03745, 54.044540000000005, 54.090019999999996, 54.098990000000001, 54.105480000000007, 54.18909, 54.300440000000002, 54.309090000000005, 54.318530000000003, 54.39141, 54.40081, 54.45129, 54.484019999999994, 54.502009999999999, 54.595009999999995, 54.600269999999995, 54.60324, 54.690049999999999, 54.710700000000003, 54.800409999999999, 54.811030000000002, 54.91066, 54.932869999999994, 55.01144, 55.027190000000004, 55.099980000000002, 55.100080000000005, 55.107819999999997, 55.108330000000002, 55.109330000000007, 55.170819999999992, 55.183180000000007, 55.198819999999998, 55.199809999999999, 55.200219999999995, 55.200340000000004, 55.20814, 55.299550000000004, 55.301969999999997, 55.306730000000002, 55.308300000000003, 55.308999999999997, 55.35989, 55.38955, 55.398240000000001, 55.400380000000006, 55.4009, 55.400969999999994, 55.493429999999996, 55.499109999999995, 55.569930000000006, 55.693530000000003, 55.699339999999999, 55.707159999999995, 55.708219999999997, 55.709219999999995, 55.710069999999995, 55.838440000000006, 55.852369999999993, 55.890659999999997, 55.992540000000005, 55.999219999999994, 56.090780000000002, 56.090890000000002, 56.099559999999997, 56.102880000000006, 56.111369999999994, 56.135100000000001, 56.151159999999997, 56.199169999999995, 56.200619999999994, 56.202359999999999, 56.289209999999997, 56.298200000000001, 56.310930000000006, 56.382769999999994, 56.392440000000001, 56.408280000000012, 56.431830000000012, 56.496009999999998, 56.577779999999997, 56.591569999999997, 56.647169999999996, 56.677980000000012, 56.693940000000005, 56.694510000000001, 56.699210000000001, 56.699740000000006, 56.700140000000005, 56.701170000000012, 56.701889999999999, 56.721519999999998, 56.789149999999999, 56.800740000000005, 56.801250000000003, 56.875309999999999, 56.904419999999995, 56.949069999999992, 56.989830000000005, 56.999899999999997, 57.011069999999997, 57.091389999999997, 57.0916, 57.09975, 57.101550000000003, 57.21011, 57.290030000000002, 57.300899999999999, 57.391280000000002, 57.39884, 57.39884, 57.400700000000001, 57.493859999999998, 57.539850000000001, 57.601300000000002, 57.604100000000003, 57.663260000000001, 57.690169999999995, 57.698769999999996, 57.69941, 57.708469999999998, 57.73075, 57.769930000000002, 57.790399999999998, 57.799609999999994, 57.892499999999998, 57.893090000000001, 57.99165, 57.991700000000002, 57.999839999999999, 58.001280000000001, 58.009030000000003, 58.062159999999999, 58.103169999999999, 58.191519999999997, 58.289250000000003, 58.295559999999995, 58.3568, 58.410640000000001, 58.460330000000006, 58.488330000000012, 58.493519999999997, 58.697490000000002, 58.708559999999999, 58.739989999999999, 58.762609999999995, 58.784400000000012, 58.798589999999997, 58.807090000000002, 58.808500000000002, 58.810639999999999, 58.892309999999995, 58.898580000000003, 58.907159999999998, 59.100750000000012, 59.102959999999996, 59.284930000000003, 59.307699999999997, 59.399740000000001, 59.408880000000003, 59.418610000000001, 59.490940000000002, 59.502319999999997, 59.607880000000002, 59.701380000000007, 59.709419999999994, 59.898959999999995, 59.899719999999995, 59.908669999999994, 59.992230000000006, 60.001469999999998, 60.097090000000001, 60.140790000000003, 60.200850000000003, 60.210259999999998, 60.287380000000006, 60.299730000000004, 60.388690000000004, 60.49924, 60.508650000000003, 60.600209999999997, 60.69191, 60.801250000000003, 60.858730000000001, 60.889959999999995, 61.109110000000001, 61.399120000000003, 61.58211, 61.607630000000007, 61.698500000000003, 61.70026, 61.769290000000005, 62.101700000000001, 62.499839999999999, 62.797800000000002, 62.798659999999998, 62.999869999999994, 63.025590000000001, 63.499450000000003, 63.588140000000003, 63.797759999999997]\n"
     ]
    }
   ],
   "source": [
    "arr = np.sort(time)\n",
    "x = []\n",
    "y = []\n",
    "for i in range(len(arr)):\n",
    "    x.append(i)\n",
    "    y.append(arr[i])\n",
    "print(x)\n",
    "print(y)"
   ]
  },
  {
   "cell_type": "code",
   "execution_count": 16,
   "metadata": {
    "collapsed": false
   },
   "outputs": [
    {
     "data": {
      "text/plain": [
       "<matplotlib.collections.PathCollection at 0x103102978>"
      ]
     },
     "execution_count": 16,
     "metadata": {},
     "output_type": "execute_result"
    },
    {
     "data": {
      "image/png": "[encoded data removed]",
      "text/plain": [
       "<matplotlib.figure.Figure at 0x10d9c4128>"
      ]
     },
     "metadata": {},
     "output_type": "display_data"
    }
   ],
   "source": [
    "plt.scatter(x, y)"
   ]
  },
  {
   "cell_type": "code",
   "execution_count": null,
   "metadata": {
    "collapsed": true
   },
   "outputs": [],
   "source": []
  }
 ],
 "metadata": {
  "kernelspec": {
   "display_name": "Python 3",
   "language": "python",
   "name": "python3"
  },
  "language_info": {
   "codemirror_mode": {
    "name": "ipython",
    "version": 3
   },
   "file_extension": ".py",
   "mimetype": "text/x-python",
   "name": "python",
   "nbconvert_exporter": "python",
   "pygments_lexer": "ipython3",
   "version": "3.6.0"
  }
 },
 "nbformat": 4,
 "nbformat_minor": 2
}
