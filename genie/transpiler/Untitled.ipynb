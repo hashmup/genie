{
 "cells": [
  {
   "cell_type": "code",
   "execution_count": 2,
   "metadata": {
    "collapsed": true
   },
   "outputs": [],
   "source": [
    "import xml.etree.ElementTree as ET\n",
    "from pynmodl.lems import LemsCompTypeGenerator"
   ]
  },
  {
   "cell_type": "code",
   "execution_count": 5,
   "metadata": {
    "collapsed": false
   },
   "outputs": [],
   "source": [
    "with open(\"example/hh.mod\", \"r\") as f:\n",
    "    data = f.read()\n",
    "nml = LemsCompTypeGenerator().compile_to_string(data)\n",
    "with open(\"example/hh.nml\", \"w\") as f:\n",
    "    f.write(nml)"
   ]
  },
  {
   "cell_type": "code",
   "execution_count": 6,
   "metadata": {
    "collapsed": true
   },
   "outputs": [],
   "source": [
    "tree = ET.parse('example/hh.nml')"
   ]
  },
  {
   "cell_type": "code",
   "execution_count": 7,
   "metadata": {
    "collapsed": false
   },
   "outputs": [
    {
     "data": {
      "text/plain": [
       "<xml.etree.ElementTree.ElementTree at 0x10d2ab748>"
      ]
     },
     "execution_count": 7,
     "metadata": {},
     "output_type": "execute_result"
    }
   ],
   "source": [
    "tree"
   ]
  },
  {
   "cell_type": "code",
   "execution_count": 8,
   "metadata": {
    "collapsed": true
   },
   "outputs": [],
   "source": [
    "root = tree.getroot()"
   ]
  },
  {
   "cell_type": "code",
   "execution_count": 9,
   "metadata": {
    "collapsed": false
   },
   "outputs": [
    {
     "data": {
      "text/plain": [
       "<Element 'ComponentType' at 0x10d27be58>"
      ]
     },
     "execution_count": 9,
     "metadata": {},
     "output_type": "execute_result"
    }
   ],
   "source": [
    "root"
   ]
  },
  {
   "cell_type": "code",
   "execution_count": 10,
   "metadata": {
    "collapsed": false
   },
   "outputs": [
    {
     "data": {
      "text/plain": [
       "'ComponentType'"
      ]
     },
     "execution_count": 10,
     "metadata": {},
     "output_type": "execute_result"
    }
   ],
   "source": [
    "root.tag"
   ]
  },
  {
   "cell_type": "code",
   "execution_count": 11,
   "metadata": {
    "collapsed": false
   },
   "outputs": [
    {
     "data": {
      "text/plain": [
       "{'id': 'hh_lems'}"
      ]
     },
     "execution_count": 11,
     "metadata": {},
     "output_type": "execute_result"
    }
   ],
   "source": [
    "root.attrib"
   ]
  },
  {
   "cell_type": "code",
   "execution_count": 12,
   "metadata": {
    "collapsed": false
   },
   "outputs": [
    {
     "data": {
      "text/plain": [
       "[<Element 'Requirement' at 0x10d27bea8>,\n",
       " <Element 'Requirement' at 0x10d27bf48>]"
      ]
     },
     "execution_count": 12,
     "metadata": {},
     "output_type": "execute_result"
    }
   ],
   "source": [
    "root.findall('Requirement')"
   ]
  },
  {
   "cell_type": "code",
   "execution_count": 13,
   "metadata": {
    "collapsed": false
   },
   "outputs": [
    {
     "data": {
      "text/plain": [
       "[<Element 'Exposure' at 0x10d27bef8>,\n",
       " <Element 'Exposure' at 0x10d27bf98>,\n",
       " <Element 'Exposure' at 0x10d2ba188>,\n",
       " <Element 'Exposure' at 0x10d2ba1d8>,\n",
       " <Element 'Exposure' at 0x10d2ba228>]"
      ]
     },
     "execution_count": 13,
     "metadata": {},
     "output_type": "execute_result"
    }
   ],
   "source": [
    "root.findall('Exposure')"
   ]
  },
  {
   "cell_type": "code",
   "execution_count": 14,
   "metadata": {
    "collapsed": false
   },
   "outputs": [
    {
     "data": {
      "text/plain": [
       "[<Element 'Parameter' at 0x10d2ba048>,\n",
       " <Element 'Parameter' at 0x10d2ba098>,\n",
       " <Element 'Parameter' at 0x10d2ba0e8>,\n",
       " <Element 'Parameter' at 0x10d2ba138>]"
      ]
     },
     "execution_count": 14,
     "metadata": {},
     "output_type": "execute_result"
    }
   ],
   "source": [
    "root.findall('Parameter')"
   ]
  },
  {
   "cell_type": "code",
   "execution_count": 16,
   "metadata": {
    "collapsed": false
   },
   "outputs": [
    {
     "data": {
      "text/plain": [
       "[<Element 'StateVariable' at 0x10d2ba2c8>,\n",
       " <Element 'StateVariable' at 0x10d2ba318>,\n",
       " <Element 'StateVariable' at 0x10d2ba368>]"
      ]
     },
     "execution_count": 16,
     "metadata": {},
     "output_type": "execute_result"
    }
   ],
   "source": [
    "root.findall('Dynamics')[0].findall('StateVariable')"
   ]
  },
  {
   "cell_type": "code",
   "execution_count": 17,
   "metadata": {
    "collapsed": false
   },
   "outputs": [
    {
     "data": {
      "text/plain": [
       "[<Element 'DerivedVariable' at 0x10d2ba408>,\n",
       " <Element 'DerivedVariable' at 0x10d2ba4a8>,\n",
       " <Element 'DerivedVariable' at 0x10d2ba548>,\n",
       " <Element 'DerivedVariable' at 0x10d2ba598>,\n",
       " <Element 'DerivedVariable' at 0x10d2ba5e8>,\n",
       " <Element 'DerivedVariable' at 0x10d2ba638>,\n",
       " <Element 'DerivedVariable' at 0x10d2ba6d8>,\n",
       " <Element 'DerivedVariable' at 0x10d2ba728>,\n",
       " <Element 'DerivedVariable' at 0x10d2ba778>,\n",
       " <Element 'DerivedVariable' at 0x10d2ba7c8>,\n",
       " <Element 'DerivedVariable' at 0x10d2ba818>,\n",
       " <Element 'DerivedVariable' at 0x10d2ba8b8>,\n",
       " <Element 'DerivedVariable' at 0x10d2ba958>,\n",
       " <Element 'DerivedVariable' at 0x10d2ba9a8>,\n",
       " <Element 'DerivedVariable' at 0x10d2ba9f8>,\n",
       " <Element 'DerivedVariable' at 0x10d2baa48>]"
      ]
     },
     "execution_count": 17,
     "metadata": {},
     "output_type": "execute_result"
    }
   ],
   "source": [
    "root.findall('Dynamics')[0].findall('DerivedVariable')"
   ]
  },
  {
   "cell_type": "code",
   "execution_count": 18,
   "metadata": {
    "collapsed": false
   },
   "outputs": [
    {
     "data": {
      "text/plain": [
       "[<Element 'ConditionalDerivedVariable' at 0x10d2baae8>,\n",
       " <Element 'ConditionalDerivedVariable' at 0x10d2babd8>]"
      ]
     },
     "execution_count": 18,
     "metadata": {},
     "output_type": "execute_result"
    }
   ],
   "source": [
    "root.findall('Dynamics')[0].findall('ConditionalDerivedVariable')"
   ]
  },
  {
   "cell_type": "code",
   "execution_count": 19,
   "metadata": {
    "collapsed": false
   },
   "outputs": [
    {
     "data": {
      "text/plain": [
       "[<Element 'TimeDerivative' at 0x10d2bacc8>,\n",
       " <Element 'TimeDerivative' at 0x10d2bad18>,\n",
       " <Element 'TimeDerivative' at 0x10d2bad68>]"
      ]
     },
     "execution_count": 19,
     "metadata": {},
     "output_type": "execute_result"
    }
   ],
   "source": [
    "root.findall('Dynamics')[0].findall('TimeDerivative')"
   ]
  },
  {
   "cell_type": "code",
   "execution_count": null,
   "metadata": {
    "collapsed": true
   },
   "outputs": [],
   "source": []
  }
 ],
 "metadata": {
  "kernelspec": {
   "display_name": "Python 3",
   "language": "python",
   "name": "python3"
  },
  "language_info": {
   "codemirror_mode": {
    "name": "ipython",
    "version": 3
   },
   "file_extension": ".py",
   "mimetype": "text/x-python",
   "name": "python",
   "nbconvert_exporter": "python",
   "pygments_lexer": "ipython3",
   "version": "3.6.0"
  }
 },
 "nbformat": 4,
 "nbformat_minor": 2
}
