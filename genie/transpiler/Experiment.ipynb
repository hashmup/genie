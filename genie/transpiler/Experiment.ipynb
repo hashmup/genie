{
 "cells": [
  {
   "cell_type": "code",
   "execution_count": 1,
   "metadata": {
    "collapsed": false
   },
   "outputs": [],
   "source": [
    "from parser.lems import LemsCompTypeGenerator\n",
    "from xml.etree.ElementTree import Element, tostring\n",
    "from xml.dom.minidom import parseString\n",
    "from textx.model import children_of_type, parent_of_type"
   ]
  },
  {
   "cell_type": "code",
   "execution_count": 2,
   "metadata": {
    "collapsed": false
   },
   "outputs": [],
   "source": [
    "import neuron.nrn.nrn_alloc"
   ]
  },
  {
   "cell_type": "code",
   "execution_count": 3,
   "metadata": {
    "collapsed": false
   },
   "outputs": [],
   "source": [
    "from transpiler import Transpiler"
   ]
  },
  {
   "cell_type": "code",
   "execution_count": 4,
   "metadata": {
    "collapsed": true
   },
   "outputs": [],
   "source": [
    "transpiler = Transpiler()"
   ]
  },
  {
   "cell_type": "code",
   "execution_count": 5,
   "metadata": {
    "collapsed": false
   },
   "outputs": [
    {
     "name": "stdout",
     "output_type": "stream",
     "text": [
      "Breakpoint [<textx:breakpoint.Breakpoint instance at 0x109fb9160>]\n"
     ]
    }
   ],
   "source": [
    "transpiler.gen(\"example/hh.mod\")"
   ]
  },
  {
   "cell_type": "code",
   "execution_count": 5,
   "metadata": {
    "collapsed": false
   },
   "outputs": [
    {
     "name": "stdout",
     "output_type": "stream",
     "text": [
      "Breakpoint [<textx:breakpoint.Breakpoint instance at 0x10cf8e978>]\n"
     ]
    }
   ],
   "source": [
    "with open(\"example/hh.mod\", \"r\") as f:\n",
    "    data = f.read()\n",
    "nml = LemsCompTypeGenerator()\n",
    "txt = nml.compile_to_string(data)\n",
    "with open(\"example/hh.nml\", \"w\") as f:\n",
    "    f.write(txt)"
   ]
  },
  {
   "cell_type": "code",
   "execution_count": 11,
   "metadata": {
    "collapsed": false
   },
   "outputs": [
    {
     "data": {
      "text/plain": [
       "{'_tx_filename': None,\n",
       " '_tx_metamodel': <textx.metamodel.TextXMetaModel at 0x10cd07da0>,\n",
       " '_tx_position': 0,\n",
       " '_tx_position_end': 2965,\n",
       " 'assigned': <textx:assigned.Assigned instance at 0x10cf8eda0>,\n",
       " 'blocks': [<textx:title.Title instance at 0x10cf25d30>,\n",
       "  <textx:units.Units instance at 0x10cf25cc0>,\n",
       "  <textx:neuron.Neuron instance at 0x10cf25da0>,\n",
       "  <textx:parameter.Parameter instance at 0x10cf25940>,\n",
       "  <textx:state.State instance at 0x10cf314e0>,\n",
       "  <textx:assigned.Assigned instance at 0x10cf8eda0>,\n",
       "  <textx:breakpoint.Breakpoint instance at 0x10cf8e978>,\n",
       "  <textx:initial.Initial instance at 0x10cf8e438>,\n",
       "  <Derivative:states>,\n",
       "  <FuncDef:rates>,\n",
       "  <FuncDef:vtrap>,\n",
       "  <textx:keyword.UnitsCtrl instance at 0x10cfd8e80>],\n",
       " 'breakpoint': <textx:breakpoint.Breakpoint instance at 0x10cf8e978>,\n",
       " 'derivative': <Derivative:states>,\n",
       " 'initial': <textx:initial.Initial instance at 0x10cf8e438>,\n",
       " 'neuron': <textx:neuron.Neuron instance at 0x10cf25da0>,\n",
       " 'parameter': <textx:parameter.Parameter instance at 0x10cf25940>,\n",
       " 'state': <textx:state.State instance at 0x10cf314e0>,\n",
       " 'title': <textx:title.Title instance at 0x10cf25d30>,\n",
       " 'units': <textx:units.Units instance at 0x10cf25cc0>}"
      ]
     },
     "execution_count": 11,
     "metadata": {},
     "output_type": "execute_result"
    }
   ],
   "source": [
    "vars(nml.root)"
   ]
  },
  {
   "cell_type": "code",
   "execution_count": 7,
   "metadata": {
    "collapsed": false
   },
   "outputs": [
    {
     "data": {
      "text/plain": [
       "'hh.mod   squid sodium, potassium, and leak channels'"
      ]
     },
     "execution_count": 7,
     "metadata": {},
     "output_type": "execute_result"
    }
   ],
   "source": [
    "children_of_type('Title', nml.root)[0].title"
   ]
  },
  {
   "cell_type": "code",
   "execution_count": 25,
   "metadata": {
    "collapsed": false
   },
   "outputs": [
    {
     "data": {
      "text/plain": [
       "('gnabar', '.12')"
      ]
     },
     "execution_count": 25,
     "metadata": {},
     "output_type": "execute_result"
    }
   ],
   "source": [
    "children_of_type('ParDef', nml.root)[0].name, children_of_type('ParDef', nml.root)[0].value"
   ]
  },
  {
   "cell_type": "code",
   "execution_count": 4,
   "metadata": {
    "collapsed": true
   },
   "outputs": [],
   "source": [
    "tree = ET.parse('example/hh.nml')"
   ]
  },
  {
   "cell_type": "code",
   "execution_count": 5,
   "metadata": {
    "collapsed": false
   },
   "outputs": [
    {
     "data": {
      "text/plain": [
       "<xml.etree.ElementTree.ElementTree at 0x110189780>"
      ]
     },
     "execution_count": 5,
     "metadata": {},
     "output_type": "execute_result"
    }
   ],
   "source": [
    "tree"
   ]
  },
  {
   "cell_type": "code",
   "execution_count": 6,
   "metadata": {
    "collapsed": true
   },
   "outputs": [],
   "source": [
    "root = tree.getroot()"
   ]
  },
  {
   "cell_type": "code",
   "execution_count": 7,
   "metadata": {
    "collapsed": false
   },
   "outputs": [
    {
     "data": {
      "text/plain": [
       "<Element 'ComponentType' at 0x110153b88>"
      ]
     },
     "execution_count": 7,
     "metadata": {},
     "output_type": "execute_result"
    }
   ],
   "source": [
    "root"
   ]
  },
  {
   "cell_type": "code",
   "execution_count": 8,
   "metadata": {
    "collapsed": false
   },
   "outputs": [
    {
     "data": {
      "text/plain": [
       "'ComponentType'"
      ]
     },
     "execution_count": 8,
     "metadata": {},
     "output_type": "execute_result"
    }
   ],
   "source": [
    "root.tag"
   ]
  },
  {
   "cell_type": "code",
   "execution_count": 9,
   "metadata": {
    "collapsed": false
   },
   "outputs": [
    {
     "data": {
      "text/plain": [
       "{'id': 'hh_lems'}"
      ]
     },
     "execution_count": 9,
     "metadata": {},
     "output_type": "execute_result"
    }
   ],
   "source": [
    "root.attrib"
   ]
  },
  {
   "cell_type": "code",
   "execution_count": 11,
   "metadata": {
    "collapsed": false
   },
   "outputs": [
    {
     "data": {
      "text/plain": [
       "{'dimension': 'none', 'name': 'ena'}"
      ]
     },
     "execution_count": 11,
     "metadata": {},
     "output_type": "execute_result"
    }
   ],
   "source": [
    "root.findall('Requirement')[0].attrib"
   ]
  },
  {
   "cell_type": "code",
   "execution_count": 13,
   "metadata": {
    "collapsed": false
   },
   "outputs": [
    {
     "data": {
      "text/plain": [
       "[<Element 'Exposure' at 0x10d27bef8>,\n",
       " <Element 'Exposure' at 0x10d27bf98>,\n",
       " <Element 'Exposure' at 0x10d2ba188>,\n",
       " <Element 'Exposure' at 0x10d2ba1d8>,\n",
       " <Element 'Exposure' at 0x10d2ba228>]"
      ]
     },
     "execution_count": 13,
     "metadata": {},
     "output_type": "execute_result"
    }
   ],
   "source": [
    "root.findall('Exposure')"
   ]
  },
  {
   "cell_type": "code",
   "execution_count": 14,
   "metadata": {
    "collapsed": false
   },
   "outputs": [
    {
     "data": {
      "text/plain": [
       "[<Element 'Parameter' at 0x10d2ba048>,\n",
       " <Element 'Parameter' at 0x10d2ba098>,\n",
       " <Element 'Parameter' at 0x10d2ba0e8>,\n",
       " <Element 'Parameter' at 0x10d2ba138>]"
      ]
     },
     "execution_count": 14,
     "metadata": {},
     "output_type": "execute_result"
    }
   ],
   "source": [
    "root.findall('Parameter')"
   ]
  },
  {
   "cell_type": "code",
   "execution_count": 16,
   "metadata": {
    "collapsed": false
   },
   "outputs": [
    {
     "data": {
      "text/plain": [
       "[<Element 'StateVariable' at 0x10d2ba2c8>,\n",
       " <Element 'StateVariable' at 0x10d2ba318>,\n",
       " <Element 'StateVariable' at 0x10d2ba368>]"
      ]
     },
     "execution_count": 16,
     "metadata": {},
     "output_type": "execute_result"
    }
   ],
   "source": [
    "root.findall('Dynamics')[0].findall('StateVariable')"
   ]
  },
  {
   "cell_type": "code",
   "execution_count": 17,
   "metadata": {
    "collapsed": false
   },
   "outputs": [
    {
     "data": {
      "text/plain": [
       "[<Element 'DerivedVariable' at 0x10d2ba408>,\n",
       " <Element 'DerivedVariable' at 0x10d2ba4a8>,\n",
       " <Element 'DerivedVariable' at 0x10d2ba548>,\n",
       " <Element 'DerivedVariable' at 0x10d2ba598>,\n",
       " <Element 'DerivedVariable' at 0x10d2ba5e8>,\n",
       " <Element 'DerivedVariable' at 0x10d2ba638>,\n",
       " <Element 'DerivedVariable' at 0x10d2ba6d8>,\n",
       " <Element 'DerivedVariable' at 0x10d2ba728>,\n",
       " <Element 'DerivedVariable' at 0x10d2ba778>,\n",
       " <Element 'DerivedVariable' at 0x10d2ba7c8>,\n",
       " <Element 'DerivedVariable' at 0x10d2ba818>,\n",
       " <Element 'DerivedVariable' at 0x10d2ba8b8>,\n",
       " <Element 'DerivedVariable' at 0x10d2ba958>,\n",
       " <Element 'DerivedVariable' at 0x10d2ba9a8>,\n",
       " <Element 'DerivedVariable' at 0x10d2ba9f8>,\n",
       " <Element 'DerivedVariable' at 0x10d2baa48>]"
      ]
     },
     "execution_count": 17,
     "metadata": {},
     "output_type": "execute_result"
    }
   ],
   "source": [
    "root.findall('Dynamics')[0].findall('DerivedVariable')"
   ]
  },
  {
   "cell_type": "code",
   "execution_count": 18,
   "metadata": {
    "collapsed": false
   },
   "outputs": [
    {
     "data": {
      "text/plain": [
       "[<Element 'ConditionalDerivedVariable' at 0x10d2baae8>,\n",
       " <Element 'ConditionalDerivedVariable' at 0x10d2babd8>]"
      ]
     },
     "execution_count": 18,
     "metadata": {},
     "output_type": "execute_result"
    }
   ],
   "source": [
    "root.findall('Dynamics')[0].findall('ConditionalDerivedVariable')"
   ]
  },
  {
   "cell_type": "code",
   "execution_count": 19,
   "metadata": {
    "collapsed": false
   },
   "outputs": [
    {
     "data": {
      "text/plain": [
       "[<Element 'TimeDerivative' at 0x10d2bacc8>,\n",
       " <Element 'TimeDerivative' at 0x10d2bad18>,\n",
       " <Element 'TimeDerivative' at 0x10d2bad68>]"
      ]
     },
     "execution_count": 19,
     "metadata": {},
     "output_type": "execute_result"
    }
   ],
   "source": [
    "root.findall('Dynamics')[0].findall('TimeDerivative')"
   ]
  },
  {
   "cell_type": "code",
   "execution_count": null,
   "metadata": {
    "collapsed": true
   },
   "outputs": [],
   "source": []
  }
 ],
 "metadata": {
  "kernelspec": {
   "display_name": "Python 3",
   "language": "python",
   "name": "python3"
  },
  "language_info": {
   "codemirror_mode": {
    "name": "ipython",
    "version": 3
   },
   "file_extension": ".py",
   "mimetype": "text/x-python",
   "name": "python",
   "nbconvert_exporter": "python",
   "pygments_lexer": "ipython3",
   "version": "3.6.0"
  }
 },
 "nbformat": 4,
 "nbformat_minor": 2
}
