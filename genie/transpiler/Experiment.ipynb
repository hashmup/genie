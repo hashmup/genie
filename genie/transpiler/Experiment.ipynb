{
 "cells": [
  {
   "cell_type": "code",
   "execution_count": 1,
   "metadata": {
    "collapsed": false
   },
   "outputs": [],
   "source": [
    "from parser.lems import LemsCompTypeGenerator\n",
    "from xml.etree.ElementTree import Element, tostring\n",
    "from xml.dom.minidom import parseString\n",
    "from textx.model import children_of_type, parent_of_type"
   ]
  },
  {
   "cell_type": "code",
   "execution_count": 2,
   "metadata": {
    "collapsed": false
   },
   "outputs": [],
   "source": [
    "import neuron.nrn.nrn_alloc"
   ]
  },
  {
   "cell_type": "code",
   "execution_count": 3,
   "metadata": {
    "collapsed": false
   },
   "outputs": [],
   "source": [
    "from transpiler import Transpiler"
   ]
  },
  {
   "cell_type": "code",
   "execution_count": 4,
   "metadata": {
    "collapsed": false
   },
   "outputs": [],
   "source": [
    "transpiler = Transpiler()"
   ]
  },
  {
   "cell_type": "code",
   "execution_count": 5,
   "metadata": {
    "collapsed": false
   },
   "outputs": [
    {
     "name": "stdout",
     "output_type": "stream",
     "text": [
      "Breakpoint [<textx:breakpoint.Breakpoint instance at 0x10fe256d8>]\n"
     ]
    }
   ],
   "source": [
    "transpiler.gen(\"example/hh.mod\")"
   ]
  },
  {
   "cell_type": "code",
   "execution_count": 6,
   "metadata": {
    "collapsed": false
   },
   "outputs": [
    {
     "name": "stdout",
     "output_type": "stream",
     "text": [
      "Breakpoint [<textx:breakpoint.Breakpoint instance at 0x106bad2e8>]\n"
     ]
    }
   ],
   "source": [
    "with open(\"example/hh.mod\", \"r\") as f:\n",
    "    data = f.read()\n",
    "nml = LemsCompTypeGenerator()\n",
    "txt = nml.compile_to_string(data)\n",
    "with open(\"example/hh.nml\", \"w\") as f:\n",
    "    f.write(txt)"
   ]
  },
  {
   "cell_type": "code",
   "execution_count": 13,
   "metadata": {
    "collapsed": false
   },
   "outputs": [
    {
     "name": "stdout",
     "output_type": "stream",
     "text": [
      "10\n"
     ]
    }
   ],
   "source": [
    "print('{0:02d}'.format(10))"
   ]
  },
  {
   "cell_type": "code",
   "execution_count": 14,
   "metadata": {
    "collapsed": false
   },
   "outputs": [
    {
     "ename": "NameError",
     "evalue": "name 'reduce' is not defined",
     "output_type": "error",
     "traceback": [
      "\u001b[0;31m--------------------------------------------\u001b[0m",
      "\u001b[0;31mNameError\u001b[0m  Traceback (most recent call last)",
      "\u001b[0;32m<ipython-input-14-7a2cd44982a9>\u001b[0m in \u001b[0;36m<module>\u001b[0;34m()\u001b[0m\n\u001b[0;32m----> 1\u001b[0;31m reduce(lambda x, y: x+y, [[x.r[0].reads[0].name, x.w[0].writes[0].name]\n\u001b[0m\u001b[1;32m      2\u001b[0m                 for x in children_of_type('UseIon', nml.root)])\n",
      "\u001b[0;31mNameError\u001b[0m: name 'reduce' is not defined"
     ]
    }
   ],
   "source": [
    "reduce(lambda x, y: x+y, [[x.r[0].reads[0].name, x.w[0].writes[0].name]\n",
    "                for x in children_of_type('UseIon', nml.root)])"
   ]
  },
  {
   "cell_type": "code",
   "execution_count": 15,
   "metadata": {
    "collapsed": false
   },
   "outputs": [
    {
     "data": {
      "text/plain": [
       "{'_tx_position': 1404,\n",
       " '_tx_position_end': 1408,\n",
       " 'len': None,\n",
       " 'name': 'minf',\n",
       " 'parent': <textx:assigned.Assigned instance at 0x10fe23588>,\n",
       " 'unit': None}"
      ]
     },
     "execution_count": 15,
     "metadata": {},
     "output_type": "execute_result"
    }
   ],
   "source": [
    "vars(children_of_type('Global', nml.root)[0].globals[0])"
   ]
  },
  {
   "cell_type": "code",
   "execution_count": 16,
   "metadata": {
    "collapsed": false
   },
   "outputs": [
    {
     "data": {
      "text/plain": [
       "{'_tx_filename': None,\n",
       " '_tx_metamodel': <textx.metamodel.TextXMetaModel at 0x110069278>,\n",
       " '_tx_position': 0,\n",
       " '_tx_position_end': 2965,\n",
       " 'assigned': <textx:assigned.Assigned instance at 0x10fe23588>,\n",
       " 'blocks': [<textx:title.Title instance at 0x10fe48f98>,\n",
       "  <textx:units.Units instance at 0x10fe485c0>,\n",
       "  <textx:neuron.Neuron instance at 0x10fe48400>,\n",
       "  <textx:parameter.Parameter instance at 0x10fe484e0>,\n",
       "  <textx:state.State instance at 0x10fe4d438>,\n",
       "  <textx:assigned.Assigned instance at 0x10fe23588>,\n",
       "  <textx:breakpoint.Breakpoint instance at 0x10fe40978>,\n",
       "  <textx:initial.Initial instance at 0x10fe40d68>,\n",
       "  <Derivative:states>,\n",
       "  <FuncDef:rates>,\n",
       "  <FuncDef:vtrap>,\n",
       "  <textx:keyword.UnitsCtrl instance at 0x10fe07c50>],\n",
       " 'breakpoint': <textx:breakpoint.Breakpoint instance at 0x10fe40978>,\n",
       " 'derivative': <Derivative:states>,\n",
       " 'initial': <textx:initial.Initial instance at 0x10fe40d68>,\n",
       " 'neuron': <textx:neuron.Neuron instance at 0x10fe48400>,\n",
       " 'parameter': <textx:parameter.Parameter instance at 0x10fe484e0>,\n",
       " 'state': <textx:state.State instance at 0x10fe4d438>,\n",
       " 'title': <textx:title.Title instance at 0x10fe48f98>,\n",
       " 'units': <textx:units.Units instance at 0x10fe485c0>}"
      ]
     },
     "execution_count": 16,
     "metadata": {},
     "output_type": "execute_result"
    }
   ],
   "source": [
    "vars(nml.root)"
   ]
  },
  {
   "cell_type": "code",
   "execution_count": 17,
   "metadata": {
    "collapsed": false
   },
   "outputs": [
    {
     "data": {
      "text/plain": [
       "{'_tx_position': 1218,\n",
       " '_tx_position_end': 1219,\n",
       " 'len': None,\n",
       " 'llim': None,\n",
       " 'name': 'm',\n",
       " 'parent': <textx:state.State instance at 0x10fe4d438>,\n",
       " 'ulim': None,\n",
       " 'unit': None}"
      ]
     },
     "execution_count": 17,
     "metadata": {},
     "output_type": "execute_result"
    }
   ],
   "source": [
    "vars(children_of_type('State', nml.root)[0].state_vars[0])"
   ]
  },
  {
   "cell_type": "code",
   "execution_count": 18,
   "metadata": {
    "collapsed": false
   },
   "outputs": [
    {
     "data": {
      "text/plain": [
       "['gnabar', 'gkbar', 'gl', 'el', 'gna', 'gk', 'il']"
      ]
     },
     "execution_count": 18,
     "metadata": {},
     "output_type": "execute_result"
    }
   ],
   "source": [
    "params = [x.name for x in children_of_type('Range', nml.root)[0].ranges]\n",
    "params + children_of_type('Nonspecific', nml.root)[0].nonspecifics"
   ]
  },
  {
   "cell_type": "code",
   "execution_count": 20,
   "metadata": {
    "collapsed": false
   },
   "outputs": [
    {
     "name": "stdout",
     "output_type": "stream",
     "text": [
      "{'_tx_position': 1074,\n",
      " '_tx_position_end': 1102,\n",
      " 'llim': '0',\n",
      " 'name': 'gnabar',\n",
      " 'parent': <textx:parameter.Parameter instance at 0x10fe484e0>,\n",
      " 'ulim': '1e9',\n",
      " 'unit': '(S/cm2)',\n",
      " 'value': '.12'}\n",
      "{'_tx_position': 1111,\n",
      " '_tx_position_end': 1139,\n",
      " 'llim': '0',\n",
      " 'name': 'gkbar',\n",
      " 'parent': <textx:parameter.Parameter instance at 0x10fe484e0>,\n",
      " 'ulim': '1e9',\n",
      " 'unit': '(S/cm2)',\n",
      " 'value': '.036'}\n",
      "{'_tx_position': 1148,\n",
      " '_tx_position_end': 1174,\n",
      " 'llim': '0',\n",
      " 'name': 'gl',\n",
      " 'parent': <textx:parameter.Parameter instance at 0x10fe484e0>,\n",
      " 'ulim': '1e9',\n",
      " 'unit': '(S/cm2)',\n",
      " 'value': '.0003'}\n",
      "{'_tx_position': 1183,\n",
      " '_tx_position_end': 1198,\n",
      " 'llim': None,\n",
      " 'name': 'el',\n",
      " 'parent': <textx:parameter.Parameter instance at 0x10fe484e0>,\n",
      " 'ulim': None,\n",
      " 'unit': '(mV)',\n",
      " 'value': '-54.3'}\n"
     ]
    }
   ],
   "source": [
    "from pprint import pprint\n",
    "for x in children_of_type('ParDef', nml.root):\n",
    "    pprint(vars(x))"
   ]
  },
  {
   "cell_type": "code",
   "execution_count": 43,
   "metadata": {
    "collapsed": false
   },
   "outputs": [
    {
     "data": {
      "text/plain": [
       "{'_tx_position': 883,\n",
       " '_tx_position_end': 905,\n",
       " 'nonspecifics': ['il'],\n",
       " 'parent': <textx:neuron.Neuron instance at 0x10eb89e48>}"
      ]
     },
     "execution_count": 43,
     "metadata": {},
     "output_type": "execute_result"
    }
   ],
   "source": [
    "vars(children_of_type('Nonspecific', nml.root)[0])"
   ]
  },
  {
   "cell_type": "code",
   "execution_count": 44,
   "metadata": {
    "collapsed": false
   },
   "outputs": [
    {
     "data": {
      "text/plain": [
       "{'_tx_position': 812,\n",
       " '_tx_position_end': 840,\n",
       " 'ion': 'na',\n",
       " 'parent': <textx:neuron.Neuron instance at 0x10eb89e48>,\n",
       " 'r': [<textx:neuron.Read instance at 0x10ebdf940>],\n",
       " 'v': [],\n",
       " 'w': [<textx:neuron.Write instance at 0x10ebdff60>]}"
      ]
     },
     "execution_count": 44,
     "metadata": {},
     "output_type": "execute_result"
    }
   ],
   "source": [
    "vars(children_of_type('UseIon', nml.root)[0])"
   ]
  },
  {
   "cell_type": "code",
   "execution_count": 21,
   "metadata": {
    "collapsed": false
   },
   "outputs": [
    {
     "data": {
      "text/plain": [
       "'m'"
      ]
     },
     "execution_count": 21,
     "metadata": {},
     "output_type": "execute_result"
    }
   ],
   "source": [
    "children_of_type('State', nml.root)[0].state_vars[0].name"
   ]
  },
  {
   "cell_type": "code",
   "execution_count": 15,
   "metadata": {
    "collapsed": false
   },
   "outputs": [
    {
     "data": {
      "text/plain": [
       "['il']"
      ]
     },
     "execution_count": 15,
     "metadata": {},
     "output_type": "execute_result"
    }
   ],
   "source": [
    "children_of_type('Nonspecific', nml.root)[0].nonspecifics"
   ]
  },
  {
   "cell_type": "code",
   "execution_count": 19,
   "metadata": {
    "collapsed": false
   },
   "outputs": [
    {
     "data": {
      "text/plain": [
       "[<ParDef:gnabar>,\n",
       " <ParDef:gkbar>,\n",
       " <ParDef:gl>,\n",
       " <ParDef:el>,\n",
       " <AssignedDef:gna>,\n",
       " <AssignedDef:gk>]"
      ]
     },
     "execution_count": 19,
     "metadata": {},
     "output_type": "execute_result"
    }
   ],
   "source": [
    "children_of_type('Range', nml.root)[0].ranges"
   ]
  },
  {
   "cell_type": "code",
   "execution_count": 4,
   "metadata": {
    "collapsed": true
   },
   "outputs": [],
   "source": [
    "tree = ET.parse('example/hh.nml')"
   ]
  },
  {
   "cell_type": "code",
   "execution_count": 5,
   "metadata": {
    "collapsed": false
   },
   "outputs": [
    {
     "data": {
      "text/plain": [
       "<xml.etree.ElementTree.ElementTree at 0x110189780>"
      ]
     },
     "execution_count": 5,
     "metadata": {},
     "output_type": "execute_result"
    }
   ],
   "source": [
    "tree"
   ]
  },
  {
   "cell_type": "code",
   "execution_count": 6,
   "metadata": {
    "collapsed": true
   },
   "outputs": [],
   "source": [
    "root = tree.getroot()"
   ]
  },
  {
   "cell_type": "code",
   "execution_count": 7,
   "metadata": {
    "collapsed": false
   },
   "outputs": [
    {
     "data": {
      "text/plain": [
       "<Element 'ComponentType' at 0x110153b88>"
      ]
     },
     "execution_count": 7,
     "metadata": {},
     "output_type": "execute_result"
    }
   ],
   "source": [
    "root"
   ]
  },
  {
   "cell_type": "code",
   "execution_count": 8,
   "metadata": {
    "collapsed": false
   },
   "outputs": [
    {
     "data": {
      "text/plain": [
       "'ComponentType'"
      ]
     },
     "execution_count": 8,
     "metadata": {},
     "output_type": "execute_result"
    }
   ],
   "source": [
    "root.tag"
   ]
  },
  {
   "cell_type": "code",
   "execution_count": 9,
   "metadata": {
    "collapsed": false
   },
   "outputs": [
    {
     "data": {
      "text/plain": [
       "{'id': 'hh_lems'}"
      ]
     },
     "execution_count": 9,
     "metadata": {},
     "output_type": "execute_result"
    }
   ],
   "source": [
    "root.attrib"
   ]
  },
  {
   "cell_type": "code",
   "execution_count": 11,
   "metadata": {
    "collapsed": false
   },
   "outputs": [
    {
     "data": {
      "text/plain": [
       "{'dimension': 'none', 'name': 'ena'}"
      ]
     },
     "execution_count": 11,
     "metadata": {},
     "output_type": "execute_result"
    }
   ],
   "source": [
    "root.findall('Requirement')[0].attrib"
   ]
  },
  {
   "cell_type": "code",
   "execution_count": 13,
   "metadata": {
    "collapsed": false
   },
   "outputs": [
    {
     "data": {
      "text/plain": [
       "[<Element 'Exposure' at 0x10d27bef8>,\n",
       " <Element 'Exposure' at 0x10d27bf98>,\n",
       " <Element 'Exposure' at 0x10d2ba188>,\n",
       " <Element 'Exposure' at 0x10d2ba1d8>,\n",
       " <Element 'Exposure' at 0x10d2ba228>]"
      ]
     },
     "execution_count": 13,
     "metadata": {},
     "output_type": "execute_result"
    }
   ],
   "source": [
    "root.findall('Exposure')"
   ]
  },
  {
   "cell_type": "code",
   "execution_count": 14,
   "metadata": {
    "collapsed": false
   },
   "outputs": [
    {
     "data": {
      "text/plain": [
       "[<Element 'Parameter' at 0x10d2ba048>,\n",
       " <Element 'Parameter' at 0x10d2ba098>,\n",
       " <Element 'Parameter' at 0x10d2ba0e8>,\n",
       " <Element 'Parameter' at 0x10d2ba138>]"
      ]
     },
     "execution_count": 14,
     "metadata": {},
     "output_type": "execute_result"
    }
   ],
   "source": [
    "root.findall('Parameter')"
   ]
  },
  {
   "cell_type": "code",
   "execution_count": 16,
   "metadata": {
    "collapsed": false
   },
   "outputs": [
    {
     "data": {
      "text/plain": [
       "[<Element 'StateVariable' at 0x10d2ba2c8>,\n",
       " <Element 'StateVariable' at 0x10d2ba318>,\n",
       " <Element 'StateVariable' at 0x10d2ba368>]"
      ]
     },
     "execution_count": 16,
     "metadata": {},
     "output_type": "execute_result"
    }
   ],
   "source": [
    "root.findall('Dynamics')[0].findall('StateVariable')"
   ]
  },
  {
   "cell_type": "code",
   "execution_count": 17,
   "metadata": {
    "collapsed": false
   },
   "outputs": [
    {
     "data": {
      "text/plain": [
       "[<Element 'DerivedVariable' at 0x10d2ba408>,\n",
       " <Element 'DerivedVariable' at 0x10d2ba4a8>,\n",
       " <Element 'DerivedVariable' at 0x10d2ba548>,\n",
       " <Element 'DerivedVariable' at 0x10d2ba598>,\n",
       " <Element 'DerivedVariable' at 0x10d2ba5e8>,\n",
       " <Element 'DerivedVariable' at 0x10d2ba638>,\n",
       " <Element 'DerivedVariable' at 0x10d2ba6d8>,\n",
       " <Element 'DerivedVariable' at 0x10d2ba728>,\n",
       " <Element 'DerivedVariable' at 0x10d2ba778>,\n",
       " <Element 'DerivedVariable' at 0x10d2ba7c8>,\n",
       " <Element 'DerivedVariable' at 0x10d2ba818>,\n",
       " <Element 'DerivedVariable' at 0x10d2ba8b8>,\n",
       " <Element 'DerivedVariable' at 0x10d2ba958>,\n",
       " <Element 'DerivedVariable' at 0x10d2ba9a8>,\n",
       " <Element 'DerivedVariable' at 0x10d2ba9f8>,\n",
       " <Element 'DerivedVariable' at 0x10d2baa48>]"
      ]
     },
     "execution_count": 17,
     "metadata": {},
     "output_type": "execute_result"
    }
   ],
   "source": [
    "root.findall('Dynamics')[0].findall('DerivedVariable')"
   ]
  },
  {
   "cell_type": "code",
   "execution_count": 18,
   "metadata": {
    "collapsed": false
   },
   "outputs": [
    {
     "data": {
      "text/plain": [
       "[<Element 'ConditionalDerivedVariable' at 0x10d2baae8>,\n",
       " <Element 'ConditionalDerivedVariable' at 0x10d2babd8>]"
      ]
     },
     "execution_count": 18,
     "metadata": {},
     "output_type": "execute_result"
    }
   ],
   "source": [
    "root.findall('Dynamics')[0].findall('ConditionalDerivedVariable')"
   ]
  },
  {
   "cell_type": "code",
   "execution_count": 19,
   "metadata": {
    "collapsed": false
   },
   "outputs": [
    {
     "data": {
      "text/plain": [
       "[<Element 'TimeDerivative' at 0x10d2bacc8>,\n",
       " <Element 'TimeDerivative' at 0x10d2bad18>,\n",
       " <Element 'TimeDerivative' at 0x10d2bad68>]"
      ]
     },
     "execution_count": 19,
     "metadata": {},
     "output_type": "execute_result"
    }
   ],
   "source": [
    "root.findall('Dynamics')[0].findall('TimeDerivative')"
   ]
  },
  {
   "cell_type": "code",
   "execution_count": null,
   "metadata": {
    "collapsed": true
   },
   "outputs": [],
   "source": []
  }
 ],
 "metadata": {
  "kernelspec": {
   "display_name": "Python 3",
   "language": "python",
   "name": "python3"
  },
  "language_info": {
   "codemirror_mode": {
    "name": "ipython",
    "version": 3
   },
   "file_extension": ".py",
   "mimetype": "text/x-python",
   "name": "python",
   "nbconvert_exporter": "python",
   "pygments_lexer": "ipython3",
   "version": "3.6.0"
  }
 },
 "nbformat": 4,
 "nbformat_minor": 2
}
