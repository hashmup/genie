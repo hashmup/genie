{
 "cells": [
  {
   "cell_type": "code",
   "execution_count": 1,
   "metadata": {
    "collapsed": false
   },
   "outputs": [],
   "source": [
    "import sys\n",
    "import re\n",
    "from itertools import chain\n",
    "sys.path.append(\"../\")\n",
    "from pprint import pprint\n",
    "from parser.lems import LemsCompTypeGenerator\n",
    "from xml.etree.ElementTree import Element, tostring\n",
    "from xml.dom.minidom import parseString\n",
    "from textx.model import children_of_type, parent_of_type"
   ]
  },
  {
   "cell_type": "code",
   "execution_count": 2,
   "metadata": {
    "collapsed": false
   },
   "outputs": [],
   "source": [
    "from compiler import Compiler\n",
    "from analyzer import Analyzer\n",
    "from analyzer import UnionFindToken"
   ]
  },
  {
   "cell_type": "code",
   "execution_count": 3,
   "metadata": {
    "collapsed": false
   },
   "outputs": [],
   "source": [
    "compiler = Compiler()\n",
    "analyzer = Analyzer()\n",
    "table = analyzer.get_table_candidates(\"example/hh.mod\")"
   ]
  },
  {
   "cell_type": "code",
   "execution_count": 4,
   "metadata": {
    "collapsed": false
   },
   "outputs": [
    {
     "data": {
      "text/plain": [
       "[(),\n",
       " (['ik', 'n', 'gkbar', 'ek', 'gk'],),\n",
       " (['v', 'il', 'el', 'gl'],),\n",
       " (['h', 'gnabar', 'ina', 'm', 'gna', 'ena'],),\n",
       " (['ik', 'n', 'gkbar', 'ek', 'gk'], ['v', 'il', 'el', 'gl']),\n",
       " (['ik', 'n', 'gkbar', 'ek', 'gk'], ['h', 'gnabar', 'ina', 'm', 'gna', 'ena']),\n",
       " (['v', 'il', 'el', 'gl'], ['h', 'gnabar', 'ina', 'm', 'gna', 'ena']),\n",
       " (['ik', 'n', 'gkbar', 'ek', 'gk'],\n",
       "  ['v', 'il', 'el', 'gl'],\n",
       "  ['h', 'gnabar', 'ina', 'm', 'gna', 'ena'])]"
      ]
     },
     "execution_count": 4,
     "metadata": {},
     "output_type": "execute_result"
    }
   ],
   "source": [
    "table"
   ]
  },
  {
   "cell_type": "code",
   "execution_count": null,
   "metadata": {
    "collapsed": false
   },
   "outputs": [],
   "source": [
    "code = \"\"\n",
    "for i in range(len(table)):\n",
    "    code += \"static double opt_table{0}[BUFFER_SIZE * MAX_NTHREADS][{1}]\\n\".format(i, len(table[i]))\n",
    "    for j in range(len(table[i])):\n",
    "        code += \"#define TABLE_{0}(x) opt_table{1}[(x)][{2}]\\n\".format(table[i][j].upper(), i, j)\n",
    "print(code)"
   ]
  },
  {
   "cell_type": "code",
   "execution_count": null,
   "metadata": {
    "collapsed": false
   },
   "outputs": [],
   "source": [
    "path = \"example/hh.mod\"\n",
    "derivative_sym = analyzer.get_derivative_symbols(path)\n",
    "breakpoint_sym = analyzer.get_breakpoint_symbols(path)\n",
    "global_sym = analyzer.get_global_symbols(path)\n",
    "tokens = derivative_sym + breakpoint_sym + global_sym"
   ]
  },
  {
   "cell_type": "code",
   "execution_count": null,
   "metadata": {
    "collapsed": true
   },
   "outputs": [],
   "source": []
  },
  {
   "cell_type": "code",
   "execution_count": null,
   "metadata": {
    "collapsed": false
   },
   "outputs": [],
   "source": [
    "uft = UnionFindToken(tokens)\n",
    "uft.get_related_tokens()"
   ]
  },
  {
   "cell_type": "code",
   "execution_count": null,
   "metadata": {
    "collapsed": false
   },
   "outputs": [],
   "source": [
    "s = analyzer.get_all_symbols(\"example/hh.mod\")\n",
    "# path = \"example/hh.mod\"\n",
    "# print(analyzer.get_symbols(path, 'Derivative'))\n",
    "# print(analyzer.get_symbols(path, 'Breakpoint'))\n",
    "# print(analyzer.get_global_symbols(path))"
   ]
  },
  {
   "cell_type": "code",
   "execution_count": null,
   "metadata": {
    "collapsed": false
   },
   "outputs": [],
   "source": [
    "list(set(list(chain.from_iterable(tokens))))"
   ]
  },
  {
   "cell_type": "code",
   "execution_count": null,
   "metadata": {
    "collapsed": false
   },
   "outputs": [],
   "source": [
    "li = [\n",
    "    \"gnabar\",\n",
    "    \"gkbar\",\n",
    "    \"gl\",\n",
    "    \"el\",\n",
    "    \"gna\",\n",
    "    \"gk\",\n",
    "    \"il\",\n",
    "    \"m\",\n",
    "    \"h\",\n",
    "    \"n\",\n",
    "    \"v\",\n",
    "    \"g\",\n",
    "    \"ena\",\n",
    "    \"ina\",\n",
    "    \"ek\",\n",
    "    \"ik\"\n",
    "]\n",
    "s2 = set(li)\n",
    "[item for item in s2 if item not in s]"
   ]
  },
  {
   "cell_type": "code",
   "execution_count": null,
   "metadata": {
    "collapsed": false
   },
   "outputs": [],
   "source": [
    "with open(\"example/hh.mod\", \"r\") as f:\n",
    "    data = f.read()\n",
    "nml = LemsCompTypeGenerator()\n",
    "txt = nml.compile_to_string(data)\n",
    "with open(\"example/hh.nml\", \"w\") as f:\n",
    "    f.write(txt)"
   ]
  },
  {
   "cell_type": "code",
   "execution_count": null,
   "metadata": {
    "collapsed": false
   },
   "outputs": [],
   "source": [
    "nrn = NrnCur()\n",
    "table = nrn.obtain_link_table(nml.root)"
   ]
  },
  {
   "cell_type": "code",
   "execution_count": null,
   "metadata": {
    "collapsed": false
   },
   "outputs": [],
   "source": [
    "import re\n",
    "i_exp = re.compile(\"i\\w+\")\n",
    "for token in table:\n",
    "    if i_exp.match(token):\n",
    "        print(token)"
   ]
  },
  {
   "cell_type": "code",
   "execution_count": null,
   "metadata": {
    "collapsed": false
   },
   "outputs": [],
   "source": [
    "op = Parser()\n",
    "exp = 'gnabar*m*m*m*h'\n",
    "term_exp = re.compile(\"[\\(\\)\\+\\-\\/\\*\\=]\")\n",
    "for token in table:\n",
    "    start = 0\n",
    "    while True:\n",
    "        pos = exp.find(token, start)\n",
    "        print(token)\n",
    "        print(pos)\n",
    "        replace = True\n",
    "        if pos < 0:\n",
    "            break\n",
    "        if pos > 0:\n",
    "            # check left\n",
    "            if not term_exp.match(exp[pos - 1]):\n",
    "                replace = False\n",
    "        if pos + len(token) + 1< len(exp):\n",
    "            # check right\n",
    "            print(exp[pos+len(token)])\n",
    "            print(term_exp.match(exp[pos+len(token)]))\n",
    "            if not term_exp.match(exp[pos+len(token)]):\n",
    "                replace = False\n",
    "        if replace:\n",
    "            exp = exp[:pos+len(token)] + \"_table\" + exp[pos+len(token):]\n",
    "        start = pos + 1\n",
    "        print(exp)"
   ]
  },
  {
   "cell_type": "code",
   "execution_count": null,
   "metadata": {
    "collapsed": true
   },
   "outputs": [],
   "source": [
    "import re"
   ]
  },
  {
   "cell_type": "code",
   "execution_count": null,
   "metadata": {
    "collapsed": true
   },
   "outputs": [],
   "source": [
    "exp.find()"
   ]
  },
  {
   "cell_type": "code",
   "execution_count": null,
   "metadata": {
    "collapsed": false
   },
   "outputs": [],
   "source": [
    "print('{0:02d}'.format(10))"
   ]
  },
  {
   "cell_type": "code",
   "execution_count": null,
   "metadata": {
    "collapsed": false
   },
   "outputs": [],
   "source": [
    "reduce(lambda x, y: x+y, [[x.r[0].reads[0].name, x.w[0].writes[0].name]\n",
    "                for x in children_of_type('UseIon', nml.root)])"
   ]
  },
  {
   "cell_type": "code",
   "execution_count": null,
   "metadata": {
    "collapsed": false
   },
   "outputs": [],
   "source": [
    "vars(children_of_type('Global', nml.root)[0].globals[0])"
   ]
  },
  {
   "cell_type": "code",
   "execution_count": null,
   "metadata": {
    "collapsed": false
   },
   "outputs": [],
   "source": [
    "vars(nml.root)"
   ]
  },
  {
   "cell_type": "code",
   "execution_count": null,
   "metadata": {
    "collapsed": false
   },
   "outputs": [],
   "source": [
    "vars(children_of_type('Breakpoint', nml.root)[0].b.stmts[1:][1].expression.op[0].op[0].op[0].op[2].op[0].primary.ex.expression.op[0].op[0].op[2])"
   ]
  },
  {
   "cell_type": "code",
   "execution_count": null,
   "metadata": {
    "collapsed": false
   },
   "outputs": [],
   "source": [
    "exp = children_of_type('Breakpoint', nml.root)[0].b.stmts[1:][1].expression.lems.replace(' ', '')\n",
    "exp"
   ]
  },
  {
   "cell_type": "code",
   "execution_count": null,
   "metadata": {
    "collapsed": false
   },
   "outputs": [],
   "source": [
    "exp2 = exp.replace('*', ' ')\n",
    "print(exp2)\n",
    "exp3 = exp2.replace('-', ' ')\n",
    "print(exp3)\n",
    "exp4 = exp3.replace('+', ' ')\n",
    "print(exp4)\n",
    "exp5 = exp4.replace('/', ' ')\n",
    "print(exp5)\n",
    "exp6 = exp5.replace('(', ' ')\n",
    "print(exp6)\n",
    "exp7 = exp6.replace(')', ' ')\n",
    "print(exp7)"
   ]
  },
  {
   "cell_type": "code",
   "execution_count": null,
   "metadata": {
    "collapsed": false
   },
   "outputs": [],
   "source": [
    "for stmt in children_of_type('Breakpoint', nml.root)[0].b.stmts[1:]:\n",
    "    for op in stmt.expression.op[0].op[0].op[0].op:\n",
    "        print(op.lems.strip(' '))\n",
    "#     pprint(vars(stmt.expression.op[0].op[0].op[0].op))\n",
    "#     print(stmt.expression)\n",
    "    print(stmt.variable.lems)"
   ]
  },
  {
   "cell_type": "code",
   "execution_count": null,
   "metadata": {
    "collapsed": true
   },
   "outputs": [],
   "source": [
    "stmt = children_of_type('Breakpoint', nml.root)[0].b.stmts[1:][0]"
   ]
  },
  {
   "cell_type": "code",
   "execution_count": null,
   "metadata": {
    "collapsed": false
   },
   "outputs": [],
   "source": [
    "stmt.expression.lems"
   ]
  },
  {
   "cell_type": "code",
   "execution_count": null,
   "metadata": {
    "collapsed": false
   },
   "outputs": [],
   "source": [
    "params = [x.name for x in children_of_type('Range', nml.root)[0].ranges]\n",
    "params + children_of_type('Nonspecific', nml.root)[0].nonspecifics"
   ]
  },
  {
   "cell_type": "code",
   "execution_count": null,
   "metadata": {
    "collapsed": false
   },
   "outputs": [],
   "source": [
    "from pprint import pprint\n",
    "for x in children_of_type('ParDef', nml.root):\n",
    "    pprint(vars(x))"
   ]
  },
  {
   "cell_type": "code",
   "execution_count": null,
   "metadata": {
    "collapsed": false
   },
   "outputs": [],
   "source": [
    "vars(children_of_type('Nonspecific', nml.root)[0])"
   ]
  },
  {
   "cell_type": "code",
   "execution_count": null,
   "metadata": {
    "collapsed": false
   },
   "outputs": [],
   "source": [
    "vars(children_of_type('UseIon', nml.root)[0])"
   ]
  },
  {
   "cell_type": "code",
   "execution_count": null,
   "metadata": {
    "collapsed": false
   },
   "outputs": [],
   "source": [
    "children_of_type('State', nml.root)[0].state_vars[0].name"
   ]
  },
  {
   "cell_type": "code",
   "execution_count": null,
   "metadata": {
    "collapsed": false
   },
   "outputs": [],
   "source": [
    "children_of_type('Nonspecific', nml.root)[0].nonspecifics"
   ]
  },
  {
   "cell_type": "code",
   "execution_count": null,
   "metadata": {
    "collapsed": false
   },
   "outputs": [],
   "source": [
    "children_of_type('Range', nml.root)[0].ranges"
   ]
  },
  {
   "cell_type": "code",
   "execution_count": null,
   "metadata": {
    "collapsed": false
   },
   "outputs": [],
   "source": [
    "tree = ET.parse('example/hh.nml')"
   ]
  },
  {
   "cell_type": "code",
   "execution_count": null,
   "metadata": {
    "collapsed": false
   },
   "outputs": [],
   "source": [
    "tree"
   ]
  },
  {
   "cell_type": "code",
   "execution_count": null,
   "metadata": {
    "collapsed": true
   },
   "outputs": [],
   "source": [
    "root = tree.getroot()"
   ]
  },
  {
   "cell_type": "code",
   "execution_count": null,
   "metadata": {
    "collapsed": false
   },
   "outputs": [],
   "source": [
    "root"
   ]
  },
  {
   "cell_type": "code",
   "execution_count": null,
   "metadata": {
    "collapsed": false
   },
   "outputs": [],
   "source": [
    "root.tag"
   ]
  },
  {
   "cell_type": "code",
   "execution_count": null,
   "metadata": {
    "collapsed": false
   },
   "outputs": [],
   "source": [
    "root.attrib"
   ]
  },
  {
   "cell_type": "code",
   "execution_count": null,
   "metadata": {
    "collapsed": false
   },
   "outputs": [],
   "source": [
    "root.findall('Requirement')[0].attrib"
   ]
  },
  {
   "cell_type": "code",
   "execution_count": null,
   "metadata": {
    "collapsed": false
   },
   "outputs": [],
   "source": [
    "root.findall('Exposure')"
   ]
  },
  {
   "cell_type": "code",
   "execution_count": null,
   "metadata": {
    "collapsed": false
   },
   "outputs": [],
   "source": [
    "root.findall('Parameter')"
   ]
  },
  {
   "cell_type": "code",
   "execution_count": null,
   "metadata": {
    "collapsed": false
   },
   "outputs": [],
   "source": [
    "root.findall('Dynamics')[0].findall('StateVariable')"
   ]
  },
  {
   "cell_type": "code",
   "execution_count": null,
   "metadata": {
    "collapsed": false
   },
   "outputs": [],
   "source": [
    "root.findall('Dynamics')[0].findall('DerivedVariable')"
   ]
  },
  {
   "cell_type": "code",
   "execution_count": null,
   "metadata": {
    "collapsed": false
   },
   "outputs": [],
   "source": [
    "root.findall('Dynamics')[0].findall('ConditionalDerivedVariable')"
   ]
  },
  {
   "cell_type": "code",
   "execution_count": null,
   "metadata": {
    "collapsed": false
   },
   "outputs": [],
   "source": [
    "root.findall('Dynamics')[0].findall('TimeDerivative')"
   ]
  },
  {
   "cell_type": "code",
   "execution_count": null,
   "metadata": {
    "collapsed": true
   },
   "outputs": [],
   "source": []
  }
 ],
 "metadata": {
  "kernelspec": {
   "display_name": "Python 3",
   "language": "python",
   "name": "python3"
  },
  "language_info": {
   "codemirror_mode": {
    "name": "ipython",
    "version": 3
   },
   "file_extension": ".py",
   "mimetype": "text/x-python",
   "name": "python",
   "nbconvert_exporter": "python",
   "pygments_lexer": "ipython3",
   "version": "3.6.0"
  }
 },
 "nbformat": 4,
 "nbformat_minor": 2
}
