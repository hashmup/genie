{
 "cells": [
  {
   "cell_type": "code",
   "execution_count": 1,
   "metadata": {
    "collapsed": false
   },
   "outputs": [],
   "source": [
    "import sys\n",
    "sys.path.append(\"../\")"
   ]
  },
  {
   "cell_type": "code",
   "execution_count": 2,
   "metadata": {
    "collapsed": true
   },
   "outputs": [],
   "source": [
    "from genie import Genie\n",
    "from simulator.buildprocessor import BuildProcessor\n",
    "from simulator.jobprocessor import JobProcessor\n",
    "from simulator.configparser import ConfigParser"
   ]
  },
  {
   "cell_type": "code",
   "execution_count": 3,
   "metadata": {
    "collapsed": false
   },
   "outputs": [
    {
     "name": "stdout",
     "output_type": "stream",
     "text": [
      "{'build': {'build': {'neuron_path': '../nrn-7.2', 'specials_path': '../specials'}, 'build_config': {'options': ['--without-iv', '--without-x', '--without-nrnoc-x11', '--with-paranrn', '--with-mpi', '--with-multisend', '--enable-shared=no', '--enable-static=yes'], 'compile_options': {'linux_nrnmech': 'no', 'use_pthread': 'no', 'CFLAGS': '\"-O3 -fopenmp -DKPLUS -DKPLUS_GATHER_SCATTER -DKPLUS_SPAWN -DCLUSTER_USE_OMP\"', 'CXXFLAGS': '\"-O3 -fopenmp -DKPLUS -DKPLUS_GATHER_SCATTER -DKPLUS_SPAWN -DCLUSTER_USE_OMP\"'}}}, 'job': {'job_cluster': {'nodes': '1', 'ppn': '2,28,1', 'modules': [], 'omp_num_threads': '2,16,2', 'nrniv': '../specials/x86_64/special -mpi', 'hoc_name': '../hoc/bench_main.hoc', 'stop_time': 500, 'nthread': 16, 'prof': ''}, 'job_k': {'nodes': '2', 'ppn': '2,28,1', 'modules': [], 'omp_num_threads': '2,16,2', 'nrniv': '../specials/x86_64/special -mpi', 'hoc_name': '../hoc/bench_main.hoc', 'stop_time': 1000, 'nthread': 16, 'prof': ''}}}\n",
      "{'build': {'build': {'neuron_path': '../nrn-7.2', 'specials_path': '../specials'}, 'build_config': {'options': ['--without-iv', '--without-x', '--without-nrnoc-x11', '--with-paranrn', '--with-mpi', '--with-multisend', '--enable-shared=no', '--enable-static=yes'], 'compile_options': {'linux_nrnmech': 'no', 'use_pthread': 'no', 'CFLAGS': '\"-O3 -fopenmp -DKPLUS -DKPLUS_GATHER_SCATTER -DKPLUS_SPAWN -DCLUSTER_USE_OMP\"', 'CXXFLAGS': '\"-O3 -fopenmp -DKPLUS -DKPLUS_GATHER_SCATTER -DKPLUS_SPAWN -DCLUSTER_USE_OMP\"'}}}, 'job': {'job_cluster': {'nodes': '1', 'ppn': '2,28,1', 'modules': [], 'omp_num_threads': '2,16,2', 'nrniv': '../specials/x86_64/special -mpi', 'hoc_name': '../hoc/bench_main.hoc', 'stop_time': 500, 'nthread': 16, 'prof': ''}, 'job_k': {'nodes': '2', 'ppn': '2,28,1', 'modules': [], 'omp_num_threads': '2,16,2', 'nrniv': '../specials/x86_64/special -mpi', 'hoc_name': '../hoc/bench_main.hoc', 'stop_time': 1000, 'nthread': 16, 'prof': ''}}}\n"
     ]
    }
   ],
   "source": [
    "config_path = \"../../example/job.json\"\n",
    "config = ConfigParser(config_path).parse()"
   ]
  },
  {
   "cell_type": "code",
   "execution_count": 4,
   "metadata": {
    "collapsed": true
   },
   "outputs": [],
   "source": [
    "build, job = config['build'], config['job']\n",
    "buildProcessor = BuildProcessor(build)"
   ]
  },
  {
   "cell_type": "code",
   "execution_count": 5,
   "metadata": {
    "collapsed": false
   },
   "outputs": [
    {
     "name": "stdout",
     "output_type": "stream",
     "text": [
      "defaultdict(<class 'dict'>, {'neuron_path': ['../nrn-7.2'], 'specials_path': ['../specials'], 'options': ['--without-iv', '--without-x', '--without-nrnoc-x11', '--with-paranrn', '--with-mpi', '--with-multisend', '--enable-shared=no', '--enable-static=yes'], 'compile_options': defaultdict(<class 'dict'>, {'linux_nrnmech': ['no'], 'use_pthread': ['no'], 'CFLAGS': ['\"-O3 -fopenmp -DKPLUS -DKPLUS_GATHER_SCATTER -DKPLUS_SPAWN -DCLUSTER_USE_OMP\"'], 'CXXFLAGS': ['\"-O3 -fopenmp -DKPLUS -DKPLUS_GATHER_SCATTER -DKPLUS_SPAWN -DCLUSTER_USE_OMP\"']})})\n",
      "defaultdict(<class 'dict'>, {'neuron_path': 0, 'specials_path': 0, 'options': 0, 'compile_options.linux_nrnmech': 0, 'compile_options.use_pthread': 0, 'compile_options.CFLAGS': 0, 'compile_options.CXXFLAGS': 0, 'compile_options': 0})\n",
      "defaultdict(<class 'dict'>, {'options': True})\n"
     ]
    }
   ],
   "source": [
    "print(buildProcessor.build_table)\n",
    "print(buildProcessor.index_table)\n",
    "print(buildProcessor.not_iterate)"
   ]
  },
  {
   "cell_type": "code",
   "execution_count": 6,
   "metadata": {
    "collapsed": false
   },
   "outputs": [
    {
     "name": "stdout",
     "output_type": "stream",
     "text": [
      "osx\n",
      "defaultdict(<class 'dict'>, {'nodes': '1', 'ppn': 2, 'omp_num_threads': 2, 'nrniv': '../specials/x86_64/special -mpi', 'hoc_name': '../hoc/bench_main.hoc', 'stop_time': 500, 'nthread': 16, 'prof': ''})\n",
      "defaultdict(<class 'dict'>, {'nodes': '1', 'ppn': 3, 'omp_num_threads': 2, 'nrniv': '../specials/x86_64/special -mpi', 'hoc_name': '../hoc/bench_main.hoc', 'stop_time': 500, 'nthread': 16, 'prof': ''})\n",
      "defaultdict(<class 'dict'>, {'nodes': '1', 'ppn': 4, 'omp_num_threads': 2, 'nrniv': '../specials/x86_64/special -mpi', 'hoc_name': '../hoc/bench_main.hoc', 'stop_time': 500, 'nthread': 16, 'prof': ''})\n",
      "defaultdict(<class 'dict'>, {'nodes': '1', 'ppn': 5, 'omp_num_threads': 2, 'nrniv': '../specials/x86_64/special -mpi', 'hoc_name': '../hoc/bench_main.hoc', 'stop_time': 500, 'nthread': 16, 'prof': ''})\n",
      "defaultdict(<class 'dict'>, {'nodes': '1', 'ppn': 6, 'omp_num_threads': 2, 'nrniv': '../specials/x86_64/special -mpi', 'hoc_name': '../hoc/bench_main.hoc', 'stop_time': 500, 'nthread': 16, 'prof': ''})\n",
      "defaultdict(<class 'dict'>, {'nodes': '1', 'ppn': 7, 'omp_num_threads': 2, 'nrniv': '../specials/x86_64/special -mpi', 'hoc_name': '../hoc/bench_main.hoc', 'stop_time': 500, 'nthread': 16, 'prof': ''})\n",
      "defaultdict(<class 'dict'>, {'nodes': '1', 'ppn': 8, 'omp_num_threads': 2, 'nrniv': '../specials/x86_64/special -mpi', 'hoc_name': '../hoc/bench_main.hoc', 'stop_time': 500, 'nthread': 16, 'prof': ''})\n",
      "defaultdict(<class 'dict'>, {'nodes': '1', 'ppn': 9, 'omp_num_threads': 2, 'nrniv': '../specials/x86_64/special -mpi', 'hoc_name': '../hoc/bench_main.hoc', 'stop_time': 500, 'nthread': 16, 'prof': ''})\n",
      "defaultdict(<class 'dict'>, {'nodes': '1', 'ppn': 10, 'omp_num_threads': 2, 'nrniv': '../specials/x86_64/special -mpi', 'hoc_name': '../hoc/bench_main.hoc', 'stop_time': 500, 'nthread': 16, 'prof': ''})\n",
      "defaultdict(<class 'dict'>, {'nodes': '1', 'ppn': 11, 'omp_num_threads': 2, 'nrniv': '../specials/x86_64/special -mpi', 'hoc_name': '../hoc/bench_main.hoc', 'stop_time': 500, 'nthread': 16, 'prof': ''})\n",
      "defaultdict(<class 'dict'>, {'nodes': '1', 'ppn': 12, 'omp_num_threads': 2, 'nrniv': '../specials/x86_64/special -mpi', 'hoc_name': '../hoc/bench_main.hoc', 'stop_time': 500, 'nthread': 16, 'prof': ''})\n",
      "defaultdict(<class 'dict'>, {'nodes': '1', 'ppn': 13, 'omp_num_threads': 2, 'nrniv': '../specials/x86_64/special -mpi', 'hoc_name': '../hoc/bench_main.hoc', 'stop_time': 500, 'nthread': 16, 'prof': ''})\n",
      "defaultdict(<class 'dict'>, {'nodes': '1', 'ppn': 14, 'omp_num_threads': 2, 'nrniv': '../specials/x86_64/special -mpi', 'hoc_name': '../hoc/bench_main.hoc', 'stop_time': 500, 'nthread': 16, 'prof': ''})\n",
      "defaultdict(<class 'dict'>, {'nodes': '1', 'ppn': 15, 'omp_num_threads': 2, 'nrniv': '../specials/x86_64/special -mpi', 'hoc_name': '../hoc/bench_main.hoc', 'stop_time': 500, 'nthread': 16, 'prof': ''})\n",
      "defaultdict(<class 'dict'>, {'nodes': '1', 'ppn': 16, 'omp_num_threads': 2, 'nrniv': '../specials/x86_64/special -mpi', 'hoc_name': '../hoc/bench_main.hoc', 'stop_time': 500, 'nthread': 16, 'prof': ''})\n",
      "defaultdict(<class 'dict'>, {'nodes': '1', 'ppn': 17, 'omp_num_threads': 2, 'nrniv': '../specials/x86_64/special -mpi', 'hoc_name': '../hoc/bench_main.hoc', 'stop_time': 500, 'nthread': 16, 'prof': ''})\n",
      "defaultdict(<class 'dict'>, {'nodes': '1', 'ppn': 18, 'omp_num_threads': 2, 'nrniv': '../specials/x86_64/special -mpi', 'hoc_name': '../hoc/bench_main.hoc', 'stop_time': 500, 'nthread': 16, 'prof': ''})\n",
      "defaultdict(<class 'dict'>, {'nodes': '1', 'ppn': 19, 'omp_num_threads': 2, 'nrniv': '../specials/x86_64/special -mpi', 'hoc_name': '../hoc/bench_main.hoc', 'stop_time': 500, 'nthread': 16, 'prof': ''})\n",
      "defaultdict(<class 'dict'>, {'nodes': '1', 'ppn': 20, 'omp_num_threads': 2, 'nrniv': '../specials/x86_64/special -mpi', 'hoc_name': '../hoc/bench_main.hoc', 'stop_time': 500, 'nthread': 16, 'prof': ''})\n",
      "defaultdict(<class 'dict'>, {'nodes': '1', 'ppn': 21, 'omp_num_threads': 2, 'nrniv': '../specials/x86_64/special -mpi', 'hoc_name': '../hoc/bench_main.hoc', 'stop_time': 500, 'nthread': 16, 'prof': ''})\n",
      "defaultdict(<class 'dict'>, {'nodes': '1', 'ppn': 22, 'omp_num_threads': 2, 'nrniv': '../specials/x86_64/special -mpi', 'hoc_name': '../hoc/bench_main.hoc', 'stop_time': 500, 'nthread': 16, 'prof': ''})\n",
      "defaultdict(<class 'dict'>, {'nodes': '1', 'ppn': 23, 'omp_num_threads': 2, 'nrniv': '../specials/x86_64/special -mpi', 'hoc_name': '../hoc/bench_main.hoc', 'stop_time': 500, 'nthread': 16, 'prof': ''})\n",
      "defaultdict(<class 'dict'>, {'nodes': '1', 'ppn': 24, 'omp_num_threads': 2, 'nrniv': '../specials/x86_64/special -mpi', 'hoc_name': '../hoc/bench_main.hoc', 'stop_time': 500, 'nthread': 16, 'prof': ''})\n",
      "defaultdict(<class 'dict'>, {'nodes': '1', 'ppn': 25, 'omp_num_threads': 2, 'nrniv': '../specials/x86_64/special -mpi', 'hoc_name': '../hoc/bench_main.hoc', 'stop_time': 500, 'nthread': 16, 'prof': ''})\n",
      "defaultdict(<class 'dict'>, {'nodes': '1', 'ppn': 26, 'omp_num_threads': 2, 'nrniv': '../specials/x86_64/special -mpi', 'hoc_name': '../hoc/bench_main.hoc', 'stop_time': 500, 'nthread': 16, 'prof': ''})\n",
      "defaultdict(<class 'dict'>, {'nodes': '1', 'ppn': 27, 'omp_num_threads': 2, 'nrniv': '../specials/x86_64/special -mpi', 'hoc_name': '../hoc/bench_main.hoc', 'stop_time': 500, 'nthread': 16, 'prof': ''})\n",
      "defaultdict(<class 'dict'>, {'nodes': '1', 'ppn': 2, 'omp_num_threads': 4, 'nrniv': '../specials/x86_64/special -mpi', 'hoc_name': '../hoc/bench_main.hoc', 'stop_time': 500, 'nthread': 16, 'prof': ''})\n",
      "defaultdict(<class 'dict'>, {'nodes': '1', 'ppn': 3, 'omp_num_threads': 4, 'nrniv': '../specials/x86_64/special -mpi', 'hoc_name': '../hoc/bench_main.hoc', 'stop_time': 500, 'nthread': 16, 'prof': ''})\n",
      "defaultdict(<class 'dict'>, {'nodes': '1', 'ppn': 4, 'omp_num_threads': 4, 'nrniv': '../specials/x86_64/special -mpi', 'hoc_name': '../hoc/bench_main.hoc', 'stop_time': 500, 'nthread': 16, 'prof': ''})\n",
      "defaultdict(<class 'dict'>, {'nodes': '1', 'ppn': 5, 'omp_num_threads': 4, 'nrniv': '../specials/x86_64/special -mpi', 'hoc_name': '../hoc/bench_main.hoc', 'stop_time': 500, 'nthread': 16, 'prof': ''})\n",
      "defaultdict(<class 'dict'>, {'nodes': '1', 'ppn': 6, 'omp_num_threads': 4, 'nrniv': '../specials/x86_64/special -mpi', 'hoc_name': '../hoc/bench_main.hoc', 'stop_time': 500, 'nthread': 16, 'prof': ''})\n",
      "defaultdict(<class 'dict'>, {'nodes': '1', 'ppn': 7, 'omp_num_threads': 4, 'nrniv': '../specials/x86_64/special -mpi', 'hoc_name': '../hoc/bench_main.hoc', 'stop_time': 500, 'nthread': 16, 'prof': ''})\n",
      "defaultdict(<class 'dict'>, {'nodes': '1', 'ppn': 8, 'omp_num_threads': 4, 'nrniv': '../specials/x86_64/special -mpi', 'hoc_name': '../hoc/bench_main.hoc', 'stop_time': 500, 'nthread': 16, 'prof': ''})\n",
      "defaultdict(<class 'dict'>, {'nodes': '1', 'ppn': 9, 'omp_num_threads': 4, 'nrniv': '../specials/x86_64/special -mpi', 'hoc_name': '../hoc/bench_main.hoc', 'stop_time': 500, 'nthread': 16, 'prof': ''})\n",
      "defaultdict(<class 'dict'>, {'nodes': '1', 'ppn': 10, 'omp_num_threads': 4, 'nrniv': '../specials/x86_64/special -mpi', 'hoc_name': '../hoc/bench_main.hoc', 'stop_time': 500, 'nthread': 16, 'prof': ''})\n",
      "defaultdict(<class 'dict'>, {'nodes': '1', 'ppn': 11, 'omp_num_threads': 4, 'nrniv': '../specials/x86_64/special -mpi', 'hoc_name': '../hoc/bench_main.hoc', 'stop_time': 500, 'nthread': 16, 'prof': ''})\n",
      "defaultdict(<class 'dict'>, {'nodes': '1', 'ppn': 12, 'omp_num_threads': 4, 'nrniv': '../specials/x86_64/special -mpi', 'hoc_name': '../hoc/bench_main.hoc', 'stop_time': 500, 'nthread': 16, 'prof': ''})\n",
      "defaultdict(<class 'dict'>, {'nodes': '1', 'ppn': 13, 'omp_num_threads': 4, 'nrniv': '../specials/x86_64/special -mpi', 'hoc_name': '../hoc/bench_main.hoc', 'stop_time': 500, 'nthread': 16, 'prof': ''})\n",
      "defaultdict(<class 'dict'>, {'nodes': '1', 'ppn': 14, 'omp_num_threads': 4, 'nrniv': '../specials/x86_64/special -mpi', 'hoc_name': '../hoc/bench_main.hoc', 'stop_time': 500, 'nthread': 16, 'prof': ''})\n",
      "defaultdict(<class 'dict'>, {'nodes': '1', 'ppn': 15, 'omp_num_threads': 4, 'nrniv': '../specials/x86_64/special -mpi', 'hoc_name': '../hoc/bench_main.hoc', 'stop_time': 500, 'nthread': 16, 'prof': ''})\n",
      "defaultdict(<class 'dict'>, {'nodes': '1', 'ppn': 16, 'omp_num_threads': 4, 'nrniv': '../specials/x86_64/special -mpi', 'hoc_name': '../hoc/bench_main.hoc', 'stop_time': 500, 'nthread': 16, 'prof': ''})\n",
      "defaultdict(<class 'dict'>, {'nodes': '1', 'ppn': 17, 'omp_num_threads': 4, 'nrniv': '../specials/x86_64/special -mpi', 'hoc_name': '../hoc/bench_main.hoc', 'stop_time': 500, 'nthread': 16, 'prof': ''})\n",
      "defaultdict(<class 'dict'>, {'nodes': '1', 'ppn': 18, 'omp_num_threads': 4, 'nrniv': '../specials/x86_64/special -mpi', 'hoc_name': '../hoc/bench_main.hoc', 'stop_time': 500, 'nthread': 16, 'prof': ''})\n",
      "defaultdict(<class 'dict'>, {'nodes': '1', 'ppn': 19, 'omp_num_threads': 4, 'nrniv': '../specials/x86_64/special -mpi', 'hoc_name': '../hoc/bench_main.hoc', 'stop_time': 500, 'nthread': 16, 'prof': ''})\n",
      "defaultdict(<class 'dict'>, {'nodes': '1', 'ppn': 20, 'omp_num_threads': 4, 'nrniv': '../specials/x86_64/special -mpi', 'hoc_name': '../hoc/bench_main.hoc', 'stop_time': 500, 'nthread': 16, 'prof': ''})\n",
      "defaultdict(<class 'dict'>, {'nodes': '1', 'ppn': 21, 'omp_num_threads': 4, 'nrniv': '../specials/x86_64/special -mpi', 'hoc_name': '../hoc/bench_main.hoc', 'stop_time': 500, 'nthread': 16, 'prof': ''})\n",
      "defaultdict(<class 'dict'>, {'nodes': '1', 'ppn': 22, 'omp_num_threads': 4, 'nrniv': '../specials/x86_64/special -mpi', 'hoc_name': '../hoc/bench_main.hoc', 'stop_time': 500, 'nthread': 16, 'prof': ''})\n",
      "defaultdict(<class 'dict'>, {'nodes': '1', 'ppn': 23, 'omp_num_threads': 4, 'nrniv': '../specials/x86_64/special -mpi', 'hoc_name': '../hoc/bench_main.hoc', 'stop_time': 500, 'nthread': 16, 'prof': ''})\n",
      "defaultdict(<class 'dict'>, {'nodes': '1', 'ppn': 24, 'omp_num_threads': 4, 'nrniv': '../specials/x86_64/special -mpi', 'hoc_name': '../hoc/bench_main.hoc', 'stop_time': 500, 'nthread': 16, 'prof': ''})\n",
      "defaultdict(<class 'dict'>, {'nodes': '1', 'ppn': 25, 'omp_num_threads': 4, 'nrniv': '../specials/x86_64/special -mpi', 'hoc_name': '../hoc/bench_main.hoc', 'stop_time': 500, 'nthread': 16, 'prof': ''})\n",
      "defaultdict(<class 'dict'>, {'nodes': '1', 'ppn': 26, 'omp_num_threads': 4, 'nrniv': '../specials/x86_64/special -mpi', 'hoc_name': '../hoc/bench_main.hoc', 'stop_time': 500, 'nthread': 16, 'prof': ''})\n",
      "defaultdict(<class 'dict'>, {'nodes': '1', 'ppn': 27, 'omp_num_threads': 4, 'nrniv': '../specials/x86_64/special -mpi', 'hoc_name': '../hoc/bench_main.hoc', 'stop_time': 500, 'nthread': 16, 'prof': ''})\n",
      "defaultdict(<class 'dict'>, {'nodes': '1', 'ppn': 2, 'omp_num_threads': 6, 'nrniv': '../specials/x86_64/special -mpi', 'hoc_name': '../hoc/bench_main.hoc', 'stop_time': 500, 'nthread': 16, 'prof': ''})\n",
      "defaultdict(<class 'dict'>, {'nodes': '1', 'ppn': 3, 'omp_num_threads': 6, 'nrniv': '../specials/x86_64/special -mpi', 'hoc_name': '../hoc/bench_main.hoc', 'stop_time': 500, 'nthread': 16, 'prof': ''})\n",
      "defaultdict(<class 'dict'>, {'nodes': '1', 'ppn': 4, 'omp_num_threads': 6, 'nrniv': '../specials/x86_64/special -mpi', 'hoc_name': '../hoc/bench_main.hoc', 'stop_time': 500, 'nthread': 16, 'prof': ''})\n",
      "defaultdict(<class 'dict'>, {'nodes': '1', 'ppn': 5, 'omp_num_threads': 6, 'nrniv': '../specials/x86_64/special -mpi', 'hoc_name': '../hoc/bench_main.hoc', 'stop_time': 500, 'nthread': 16, 'prof': ''})\n",
      "defaultdict(<class 'dict'>, {'nodes': '1', 'ppn': 6, 'omp_num_threads': 6, 'nrniv': '../specials/x86_64/special -mpi', 'hoc_name': '../hoc/bench_main.hoc', 'stop_time': 500, 'nthread': 16, 'prof': ''})\n",
      "defaultdict(<class 'dict'>, {'nodes': '1', 'ppn': 7, 'omp_num_threads': 6, 'nrniv': '../specials/x86_64/special -mpi', 'hoc_name': '../hoc/bench_main.hoc', 'stop_time': 500, 'nthread': 16, 'prof': ''})\n",
      "defaultdict(<class 'dict'>, {'nodes': '1', 'ppn': 8, 'omp_num_threads': 6, 'nrniv': '../specials/x86_64/special -mpi', 'hoc_name': '../hoc/bench_main.hoc', 'stop_time': 500, 'nthread': 16, 'prof': ''})\n",
      "defaultdict(<class 'dict'>, {'nodes': '1', 'ppn': 9, 'omp_num_threads': 6, 'nrniv': '../specials/x86_64/special -mpi', 'hoc_name': '../hoc/bench_main.hoc', 'stop_time': 500, 'nthread': 16, 'prof': ''})\n",
      "defaultdict(<class 'dict'>, {'nodes': '1', 'ppn': 10, 'omp_num_threads': 6, 'nrniv': '../specials/x86_64/special -mpi', 'hoc_name': '../hoc/bench_main.hoc', 'stop_time': 500, 'nthread': 16, 'prof': ''})\n",
      "defaultdict(<class 'dict'>, {'nodes': '1', 'ppn': 11, 'omp_num_threads': 6, 'nrniv': '../specials/x86_64/special -mpi', 'hoc_name': '../hoc/bench_main.hoc', 'stop_time': 500, 'nthread': 16, 'prof': ''})\n",
      "defaultdict(<class 'dict'>, {'nodes': '1', 'ppn': 12, 'omp_num_threads': 6, 'nrniv': '../specials/x86_64/special -mpi', 'hoc_name': '../hoc/bench_main.hoc', 'stop_time': 500, 'nthread': 16, 'prof': ''})\n",
      "defaultdict(<class 'dict'>, {'nodes': '1', 'ppn': 13, 'omp_num_threads': 6, 'nrniv': '../specials/x86_64/special -mpi', 'hoc_name': '../hoc/bench_main.hoc', 'stop_time': 500, 'nthread': 16, 'prof': ''})\n",
      "defaultdict(<class 'dict'>, {'nodes': '1', 'ppn': 14, 'omp_num_threads': 6, 'nrniv': '../specials/x86_64/special -mpi', 'hoc_name': '../hoc/bench_main.hoc', 'stop_time': 500, 'nthread': 16, 'prof': ''})\n",
      "defaultdict(<class 'dict'>, {'nodes': '1', 'ppn': 15, 'omp_num_threads': 6, 'nrniv': '../specials/x86_64/special -mpi', 'hoc_name': '../hoc/bench_main.hoc', 'stop_time': 500, 'nthread': 16, 'prof': ''})\n",
      "defaultdict(<class 'dict'>, {'nodes': '1', 'ppn': 16, 'omp_num_threads': 6, 'nrniv': '../specials/x86_64/special -mpi', 'hoc_name': '../hoc/bench_main.hoc', 'stop_time': 500, 'nthread': 16, 'prof': ''})\n",
      "defaultdict(<class 'dict'>, {'nodes': '1', 'ppn': 17, 'omp_num_threads': 6, 'nrniv': '../specials/x86_64/special -mpi', 'hoc_name': '../hoc/bench_main.hoc', 'stop_time': 500, 'nthread': 16, 'prof': ''})\n",
      "defaultdict(<class 'dict'>, {'nodes': '1', 'ppn': 18, 'omp_num_threads': 6, 'nrniv': '../specials/x86_64/special -mpi', 'hoc_name': '../hoc/bench_main.hoc', 'stop_time': 500, 'nthread': 16, 'prof': ''})\n",
      "defaultdict(<class 'dict'>, {'nodes': '1', 'ppn': 19, 'omp_num_threads': 6, 'nrniv': '../specials/x86_64/special -mpi', 'hoc_name': '../hoc/bench_main.hoc', 'stop_time': 500, 'nthread': 16, 'prof': ''})\n",
      "defaultdict(<class 'dict'>, {'nodes': '1', 'ppn': 20, 'omp_num_threads': 6, 'nrniv': '../specials/x86_64/special -mpi', 'hoc_name': '../hoc/bench_main.hoc', 'stop_time': 500, 'nthread': 16, 'prof': ''})\n",
      "defaultdict(<class 'dict'>, {'nodes': '1', 'ppn': 21, 'omp_num_threads': 6, 'nrniv': '../specials/x86_64/special -mpi', 'hoc_name': '../hoc/bench_main.hoc', 'stop_time': 500, 'nthread': 16, 'prof': ''})\n",
      "defaultdict(<class 'dict'>, {'nodes': '1', 'ppn': 22, 'omp_num_threads': 6, 'nrniv': '../specials/x86_64/special -mpi', 'hoc_name': '../hoc/bench_main.hoc', 'stop_time': 500, 'nthread': 16, 'prof': ''})\n",
      "defaultdict(<class 'dict'>, {'nodes': '1', 'ppn': 23, 'omp_num_threads': 6, 'nrniv': '../specials/x86_64/special -mpi', 'hoc_name': '../hoc/bench_main.hoc', 'stop_time': 500, 'nthread': 16, 'prof': ''})\n",
      "defaultdict(<class 'dict'>, {'nodes': '1', 'ppn': 24, 'omp_num_threads': 6, 'nrniv': '../specials/x86_64/special -mpi', 'hoc_name': '../hoc/bench_main.hoc', 'stop_time': 500, 'nthread': 16, 'prof': ''})\n",
      "defaultdict(<class 'dict'>, {'nodes': '1', 'ppn': 25, 'omp_num_threads': 6, 'nrniv': '../specials/x86_64/special -mpi', 'hoc_name': '../hoc/bench_main.hoc', 'stop_time': 500, 'nthread': 16, 'prof': ''})\n",
      "defaultdict(<class 'dict'>, {'nodes': '1', 'ppn': 26, 'omp_num_threads': 6, 'nrniv': '../specials/x86_64/special -mpi', 'hoc_name': '../hoc/bench_main.hoc', 'stop_time': 500, 'nthread': 16, 'prof': ''})\n",
      "defaultdict(<class 'dict'>, {'nodes': '1', 'ppn': 27, 'omp_num_threads': 6, 'nrniv': '../specials/x86_64/special -mpi', 'hoc_name': '../hoc/bench_main.hoc', 'stop_time': 500, 'nthread': 16, 'prof': ''})\n",
      "defaultdict(<class 'dict'>, {'nodes': '1', 'ppn': 2, 'omp_num_threads': 8, 'nrniv': '../specials/x86_64/special -mpi', 'hoc_name': '../hoc/bench_main.hoc', 'stop_time': 500, 'nthread': 16, 'prof': ''})\n",
      "defaultdict(<class 'dict'>, {'nodes': '1', 'ppn': 3, 'omp_num_threads': 8, 'nrniv': '../specials/x86_64/special -mpi', 'hoc_name': '../hoc/bench_main.hoc', 'stop_time': 500, 'nthread': 16, 'prof': ''})\n",
      "defaultdict(<class 'dict'>, {'nodes': '1', 'ppn': 4, 'omp_num_threads': 8, 'nrniv': '../specials/x86_64/special -mpi', 'hoc_name': '../hoc/bench_main.hoc', 'stop_time': 500, 'nthread': 16, 'prof': ''})\n",
      "defaultdict(<class 'dict'>, {'nodes': '1', 'ppn': 5, 'omp_num_threads': 8, 'nrniv': '../specials/x86_64/special -mpi', 'hoc_name': '../hoc/bench_main.hoc', 'stop_time': 500, 'nthread': 16, 'prof': ''})\n",
      "defaultdict(<class 'dict'>, {'nodes': '1', 'ppn': 6, 'omp_num_threads': 8, 'nrniv': '../specials/x86_64/special -mpi', 'hoc_name': '../hoc/bench_main.hoc', 'stop_time': 500, 'nthread': 16, 'prof': ''})\n",
      "defaultdict(<class 'dict'>, {'nodes': '1', 'ppn': 7, 'omp_num_threads': 8, 'nrniv': '../specials/x86_64/special -mpi', 'hoc_name': '../hoc/bench_main.hoc', 'stop_time': 500, 'nthread': 16, 'prof': ''})\n",
      "defaultdict(<class 'dict'>, {'nodes': '1', 'ppn': 8, 'omp_num_threads': 8, 'nrniv': '../specials/x86_64/special -mpi', 'hoc_name': '../hoc/bench_main.hoc', 'stop_time': 500, 'nthread': 16, 'prof': ''})\n",
      "defaultdict(<class 'dict'>, {'nodes': '1', 'ppn': 9, 'omp_num_threads': 8, 'nrniv': '../specials/x86_64/special -mpi', 'hoc_name': '../hoc/bench_main.hoc', 'stop_time': 500, 'nthread': 16, 'prof': ''})\n",
      "defaultdict(<class 'dict'>, {'nodes': '1', 'ppn': 10, 'omp_num_threads': 8, 'nrniv': '../specials/x86_64/special -mpi', 'hoc_name': '../hoc/bench_main.hoc', 'stop_time': 500, 'nthread': 16, 'prof': ''})\n",
      "defaultdict(<class 'dict'>, {'nodes': '1', 'ppn': 11, 'omp_num_threads': 8, 'nrniv': '../specials/x86_64/special -mpi', 'hoc_name': '../hoc/bench_main.hoc', 'stop_time': 500, 'nthread': 16, 'prof': ''})\n",
      "defaultdict(<class 'dict'>, {'nodes': '1', 'ppn': 12, 'omp_num_threads': 8, 'nrniv': '../specials/x86_64/special -mpi', 'hoc_name': '../hoc/bench_main.hoc', 'stop_time': 500, 'nthread': 16, 'prof': ''})\n",
      "defaultdict(<class 'dict'>, {'nodes': '1', 'ppn': 13, 'omp_num_threads': 8, 'nrniv': '../specials/x86_64/special -mpi', 'hoc_name': '../hoc/bench_main.hoc', 'stop_time': 500, 'nthread': 16, 'prof': ''})\n",
      "defaultdict(<class 'dict'>, {'nodes': '1', 'ppn': 14, 'omp_num_threads': 8, 'nrniv': '../specials/x86_64/special -mpi', 'hoc_name': '../hoc/bench_main.hoc', 'stop_time': 500, 'nthread': 16, 'prof': ''})\n",
      "defaultdict(<class 'dict'>, {'nodes': '1', 'ppn': 15, 'omp_num_threads': 8, 'nrniv': '../specials/x86_64/special -mpi', 'hoc_name': '../hoc/bench_main.hoc', 'stop_time': 500, 'nthread': 16, 'prof': ''})\n",
      "defaultdict(<class 'dict'>, {'nodes': '1', 'ppn': 16, 'omp_num_threads': 8, 'nrniv': '../specials/x86_64/special -mpi', 'hoc_name': '../hoc/bench_main.hoc', 'stop_time': 500, 'nthread': 16, 'prof': ''})\n",
      "defaultdict(<class 'dict'>, {'nodes': '1', 'ppn': 17, 'omp_num_threads': 8, 'nrniv': '../specials/x86_64/special -mpi', 'hoc_name': '../hoc/bench_main.hoc', 'stop_time': 500, 'nthread': 16, 'prof': ''})\n",
      "defaultdict(<class 'dict'>, {'nodes': '1', 'ppn': 18, 'omp_num_threads': 8, 'nrniv': '../specials/x86_64/special -mpi', 'hoc_name': '../hoc/bench_main.hoc', 'stop_time': 500, 'nthread': 16, 'prof': ''})\n",
      "defaultdict(<class 'dict'>, {'nodes': '1', 'ppn': 19, 'omp_num_threads': 8, 'nrniv': '../specials/x86_64/special -mpi', 'hoc_name': '../hoc/bench_main.hoc', 'stop_time': 500, 'nthread': 16, 'prof': ''})\n",
      "defaultdict(<class 'dict'>, {'nodes': '1', 'ppn': 20, 'omp_num_threads': 8, 'nrniv': '../specials/x86_64/special -mpi', 'hoc_name': '../hoc/bench_main.hoc', 'stop_time': 500, 'nthread': 16, 'prof': ''})\n",
      "defaultdict(<class 'dict'>, {'nodes': '1', 'ppn': 21, 'omp_num_threads': 8, 'nrniv': '../specials/x86_64/special -mpi', 'hoc_name': '../hoc/bench_main.hoc', 'stop_time': 500, 'nthread': 16, 'prof': ''})\n",
      "defaultdict(<class 'dict'>, {'nodes': '1', 'ppn': 22, 'omp_num_threads': 8, 'nrniv': '../specials/x86_64/special -mpi', 'hoc_name': '../hoc/bench_main.hoc', 'stop_time': 500, 'nthread': 16, 'prof': ''})\n",
      "defaultdict(<class 'dict'>, {'nodes': '1', 'ppn': 23, 'omp_num_threads': 8, 'nrniv': '../specials/x86_64/special -mpi', 'hoc_name': '../hoc/bench_main.hoc', 'stop_time': 500, 'nthread': 16, 'prof': ''})\n",
      "defaultdict(<class 'dict'>, {'nodes': '1', 'ppn': 24, 'omp_num_threads': 8, 'nrniv': '../specials/x86_64/special -mpi', 'hoc_name': '../hoc/bench_main.hoc', 'stop_time': 500, 'nthread': 16, 'prof': ''})\n",
      "defaultdict(<class 'dict'>, {'nodes': '1', 'ppn': 25, 'omp_num_threads': 8, 'nrniv': '../specials/x86_64/special -mpi', 'hoc_name': '../hoc/bench_main.hoc', 'stop_time': 500, 'nthread': 16, 'prof': ''})\n",
      "defaultdict(<class 'dict'>, {'nodes': '1', 'ppn': 26, 'omp_num_threads': 8, 'nrniv': '../specials/x86_64/special -mpi', 'hoc_name': '../hoc/bench_main.hoc', 'stop_time': 500, 'nthread': 16, 'prof': ''})\n",
      "defaultdict(<class 'dict'>, {'nodes': '1', 'ppn': 27, 'omp_num_threads': 8, 'nrniv': '../specials/x86_64/special -mpi', 'hoc_name': '../hoc/bench_main.hoc', 'stop_time': 500, 'nthread': 16, 'prof': ''})\n",
      "defaultdict(<class 'dict'>, {'nodes': '1', 'ppn': 2, 'omp_num_threads': 10, 'nrniv': '../specials/x86_64/special -mpi', 'hoc_name': '../hoc/bench_main.hoc', 'stop_time': 500, 'nthread': 16, 'prof': ''})\n",
      "defaultdict(<class 'dict'>, {'nodes': '1', 'ppn': 3, 'omp_num_threads': 10, 'nrniv': '../specials/x86_64/special -mpi', 'hoc_name': '../hoc/bench_main.hoc', 'stop_time': 500, 'nthread': 16, 'prof': ''})\n",
      "defaultdict(<class 'dict'>, {'nodes': '1', 'ppn': 4, 'omp_num_threads': 10, 'nrniv': '../specials/x86_64/special -mpi', 'hoc_name': '../hoc/bench_main.hoc', 'stop_time': 500, 'nthread': 16, 'prof': ''})\n",
      "defaultdict(<class 'dict'>, {'nodes': '1', 'ppn': 5, 'omp_num_threads': 10, 'nrniv': '../specials/x86_64/special -mpi', 'hoc_name': '../hoc/bench_main.hoc', 'stop_time': 500, 'nthread': 16, 'prof': ''})\n",
      "defaultdict(<class 'dict'>, {'nodes': '1', 'ppn': 6, 'omp_num_threads': 10, 'nrniv': '../specials/x86_64/special -mpi', 'hoc_name': '../hoc/bench_main.hoc', 'stop_time': 500, 'nthread': 16, 'prof': ''})\n",
      "defaultdict(<class 'dict'>, {'nodes': '1', 'ppn': 7, 'omp_num_threads': 10, 'nrniv': '../specials/x86_64/special -mpi', 'hoc_name': '../hoc/bench_main.hoc', 'stop_time': 500, 'nthread': 16, 'prof': ''})\n",
      "defaultdict(<class 'dict'>, {'nodes': '1', 'ppn': 8, 'omp_num_threads': 10, 'nrniv': '../specials/x86_64/special -mpi', 'hoc_name': '../hoc/bench_main.hoc', 'stop_time': 500, 'nthread': 16, 'prof': ''})\n",
      "defaultdict(<class 'dict'>, {'nodes': '1', 'ppn': 9, 'omp_num_threads': 10, 'nrniv': '../specials/x86_64/special -mpi', 'hoc_name': '../hoc/bench_main.hoc', 'stop_time': 500, 'nthread': 16, 'prof': ''})\n",
      "defaultdict(<class 'dict'>, {'nodes': '1', 'ppn': 10, 'omp_num_threads': 10, 'nrniv': '../specials/x86_64/special -mpi', 'hoc_name': '../hoc/bench_main.hoc', 'stop_time': 500, 'nthread': 16, 'prof': ''})\n",
      "defaultdict(<class 'dict'>, {'nodes': '1', 'ppn': 11, 'omp_num_threads': 10, 'nrniv': '../specials/x86_64/special -mpi', 'hoc_name': '../hoc/bench_main.hoc', 'stop_time': 500, 'nthread': 16, 'prof': ''})\n",
      "defaultdict(<class 'dict'>, {'nodes': '1', 'ppn': 12, 'omp_num_threads': 10, 'nrniv': '../specials/x86_64/special -mpi', 'hoc_name': '../hoc/bench_main.hoc', 'stop_time': 500, 'nthread': 16, 'prof': ''})\n",
      "defaultdict(<class 'dict'>, {'nodes': '1', 'ppn': 13, 'omp_num_threads': 10, 'nrniv': '../specials/x86_64/special -mpi', 'hoc_name': '../hoc/bench_main.hoc', 'stop_time': 500, 'nthread': 16, 'prof': ''})\n",
      "defaultdict(<class 'dict'>, {'nodes': '1', 'ppn': 14, 'omp_num_threads': 10, 'nrniv': '../specials/x86_64/special -mpi', 'hoc_name': '../hoc/bench_main.hoc', 'stop_time': 500, 'nthread': 16, 'prof': ''})\n",
      "defaultdict(<class 'dict'>, {'nodes': '1', 'ppn': 15, 'omp_num_threads': 10, 'nrniv': '../specials/x86_64/special -mpi', 'hoc_name': '../hoc/bench_main.hoc', 'stop_time': 500, 'nthread': 16, 'prof': ''})\n",
      "defaultdict(<class 'dict'>, {'nodes': '1', 'ppn': 16, 'omp_num_threads': 10, 'nrniv': '../specials/x86_64/special -mpi', 'hoc_name': '../hoc/bench_main.hoc', 'stop_time': 500, 'nthread': 16, 'prof': ''})\n",
      "defaultdict(<class 'dict'>, {'nodes': '1', 'ppn': 17, 'omp_num_threads': 10, 'nrniv': '../specials/x86_64/special -mpi', 'hoc_name': '../hoc/bench_main.hoc', 'stop_time': 500, 'nthread': 16, 'prof': ''})\n",
      "defaultdict(<class 'dict'>, {'nodes': '1', 'ppn': 18, 'omp_num_threads': 10, 'nrniv': '../specials/x86_64/special -mpi', 'hoc_name': '../hoc/bench_main.hoc', 'stop_time': 500, 'nthread': 16, 'prof': ''})\n",
      "defaultdict(<class 'dict'>, {'nodes': '1', 'ppn': 19, 'omp_num_threads': 10, 'nrniv': '../specials/x86_64/special -mpi', 'hoc_name': '../hoc/bench_main.hoc', 'stop_time': 500, 'nthread': 16, 'prof': ''})\n",
      "defaultdict(<class 'dict'>, {'nodes': '1', 'ppn': 20, 'omp_num_threads': 10, 'nrniv': '../specials/x86_64/special -mpi', 'hoc_name': '../hoc/bench_main.hoc', 'stop_time': 500, 'nthread': 16, 'prof': ''})\n",
      "defaultdict(<class 'dict'>, {'nodes': '1', 'ppn': 21, 'omp_num_threads': 10, 'nrniv': '../specials/x86_64/special -mpi', 'hoc_name': '../hoc/bench_main.hoc', 'stop_time': 500, 'nthread': 16, 'prof': ''})\n",
      "defaultdict(<class 'dict'>, {'nodes': '1', 'ppn': 22, 'omp_num_threads': 10, 'nrniv': '../specials/x86_64/special -mpi', 'hoc_name': '../hoc/bench_main.hoc', 'stop_time': 500, 'nthread': 16, 'prof': ''})\n",
      "defaultdict(<class 'dict'>, {'nodes': '1', 'ppn': 23, 'omp_num_threads': 10, 'nrniv': '../specials/x86_64/special -mpi', 'hoc_name': '../hoc/bench_main.hoc', 'stop_time': 500, 'nthread': 16, 'prof': ''})\n",
      "defaultdict(<class 'dict'>, {'nodes': '1', 'ppn': 24, 'omp_num_threads': 10, 'nrniv': '../specials/x86_64/special -mpi', 'hoc_name': '../hoc/bench_main.hoc', 'stop_time': 500, 'nthread': 16, 'prof': ''})\n",
      "defaultdict(<class 'dict'>, {'nodes': '1', 'ppn': 25, 'omp_num_threads': 10, 'nrniv': '../specials/x86_64/special -mpi', 'hoc_name': '../hoc/bench_main.hoc', 'stop_time': 500, 'nthread': 16, 'prof': ''})\n",
      "defaultdict(<class 'dict'>, {'nodes': '1', 'ppn': 26, 'omp_num_threads': 10, 'nrniv': '../specials/x86_64/special -mpi', 'hoc_name': '../hoc/bench_main.hoc', 'stop_time': 500, 'nthread': 16, 'prof': ''})\n",
      "defaultdict(<class 'dict'>, {'nodes': '1', 'ppn': 27, 'omp_num_threads': 10, 'nrniv': '../specials/x86_64/special -mpi', 'hoc_name': '../hoc/bench_main.hoc', 'stop_time': 500, 'nthread': 16, 'prof': ''})\n",
      "defaultdict(<class 'dict'>, {'nodes': '1', 'ppn': 2, 'omp_num_threads': 12, 'nrniv': '../specials/x86_64/special -mpi', 'hoc_name': '../hoc/bench_main.hoc', 'stop_time': 500, 'nthread': 16, 'prof': ''})\n",
      "defaultdict(<class 'dict'>, {'nodes': '1', 'ppn': 3, 'omp_num_threads': 12, 'nrniv': '../specials/x86_64/special -mpi', 'hoc_name': '../hoc/bench_main.hoc', 'stop_time': 500, 'nthread': 16, 'prof': ''})\n",
      "defaultdict(<class 'dict'>, {'nodes': '1', 'ppn': 4, 'omp_num_threads': 12, 'nrniv': '../specials/x86_64/special -mpi', 'hoc_name': '../hoc/bench_main.hoc', 'stop_time': 500, 'nthread': 16, 'prof': ''})\n",
      "defaultdict(<class 'dict'>, {'nodes': '1', 'ppn': 5, 'omp_num_threads': 12, 'nrniv': '../specials/x86_64/special -mpi', 'hoc_name': '../hoc/bench_main.hoc', 'stop_time': 500, 'nthread': 16, 'prof': ''})\n",
      "defaultdict(<class 'dict'>, {'nodes': '1', 'ppn': 6, 'omp_num_threads': 12, 'nrniv': '../specials/x86_64/special -mpi', 'hoc_name': '../hoc/bench_main.hoc', 'stop_time': 500, 'nthread': 16, 'prof': ''})\n",
      "defaultdict(<class 'dict'>, {'nodes': '1', 'ppn': 7, 'omp_num_threads': 12, 'nrniv': '../specials/x86_64/special -mpi', 'hoc_name': '../hoc/bench_main.hoc', 'stop_time': 500, 'nthread': 16, 'prof': ''})\n",
      "defaultdict(<class 'dict'>, {'nodes': '1', 'ppn': 8, 'omp_num_threads': 12, 'nrniv': '../specials/x86_64/special -mpi', 'hoc_name': '../hoc/bench_main.hoc', 'stop_time': 500, 'nthread': 16, 'prof': ''})\n",
      "defaultdict(<class 'dict'>, {'nodes': '1', 'ppn': 9, 'omp_num_threads': 12, 'nrniv': '../specials/x86_64/special -mpi', 'hoc_name': '../hoc/bench_main.hoc', 'stop_time': 500, 'nthread': 16, 'prof': ''})\n",
      "defaultdict(<class 'dict'>, {'nodes': '1', 'ppn': 10, 'omp_num_threads': 12, 'nrniv': '../specials/x86_64/special -mpi', 'hoc_name': '../hoc/bench_main.hoc', 'stop_time': 500, 'nthread': 16, 'prof': ''})\n",
      "defaultdict(<class 'dict'>, {'nodes': '1', 'ppn': 11, 'omp_num_threads': 12, 'nrniv': '../specials/x86_64/special -mpi', 'hoc_name': '../hoc/bench_main.hoc', 'stop_time': 500, 'nthread': 16, 'prof': ''})\n",
      "defaultdict(<class 'dict'>, {'nodes': '1', 'ppn': 12, 'omp_num_threads': 12, 'nrniv': '../specials/x86_64/special -mpi', 'hoc_name': '../hoc/bench_main.hoc', 'stop_time': 500, 'nthread': 16, 'prof': ''})\n",
      "defaultdict(<class 'dict'>, {'nodes': '1', 'ppn': 13, 'omp_num_threads': 12, 'nrniv': '../specials/x86_64/special -mpi', 'hoc_name': '../hoc/bench_main.hoc', 'stop_time': 500, 'nthread': 16, 'prof': ''})\n",
      "defaultdict(<class 'dict'>, {'nodes': '1', 'ppn': 14, 'omp_num_threads': 12, 'nrniv': '../specials/x86_64/special -mpi', 'hoc_name': '../hoc/bench_main.hoc', 'stop_time': 500, 'nthread': 16, 'prof': ''})\n",
      "defaultdict(<class 'dict'>, {'nodes': '1', 'ppn': 15, 'omp_num_threads': 12, 'nrniv': '../specials/x86_64/special -mpi', 'hoc_name': '../hoc/bench_main.hoc', 'stop_time': 500, 'nthread': 16, 'prof': ''})\n",
      "defaultdict(<class 'dict'>, {'nodes': '1', 'ppn': 16, 'omp_num_threads': 12, 'nrniv': '../specials/x86_64/special -mpi', 'hoc_name': '../hoc/bench_main.hoc', 'stop_time': 500, 'nthread': 16, 'prof': ''})\n",
      "defaultdict(<class 'dict'>, {'nodes': '1', 'ppn': 17, 'omp_num_threads': 12, 'nrniv': '../specials/x86_64/special -mpi', 'hoc_name': '../hoc/bench_main.hoc', 'stop_time': 500, 'nthread': 16, 'prof': ''})\n",
      "defaultdict(<class 'dict'>, {'nodes': '1', 'ppn': 18, 'omp_num_threads': 12, 'nrniv': '../specials/x86_64/special -mpi', 'hoc_name': '../hoc/bench_main.hoc', 'stop_time': 500, 'nthread': 16, 'prof': ''})\n",
      "defaultdict(<class 'dict'>, {'nodes': '1', 'ppn': 19, 'omp_num_threads': 12, 'nrniv': '../specials/x86_64/special -mpi', 'hoc_name': '../hoc/bench_main.hoc', 'stop_time': 500, 'nthread': 16, 'prof': ''})\n",
      "defaultdict(<class 'dict'>, {'nodes': '1', 'ppn': 20, 'omp_num_threads': 12, 'nrniv': '../specials/x86_64/special -mpi', 'hoc_name': '../hoc/bench_main.hoc', 'stop_time': 500, 'nthread': 16, 'prof': ''})\n",
      "defaultdict(<class 'dict'>, {'nodes': '1', 'ppn': 21, 'omp_num_threads': 12, 'nrniv': '../specials/x86_64/special -mpi', 'hoc_name': '../hoc/bench_main.hoc', 'stop_time': 500, 'nthread': 16, 'prof': ''})\n",
      "defaultdict(<class 'dict'>, {'nodes': '1', 'ppn': 22, 'omp_num_threads': 12, 'nrniv': '../specials/x86_64/special -mpi', 'hoc_name': '../hoc/bench_main.hoc', 'stop_time': 500, 'nthread': 16, 'prof': ''})\n",
      "defaultdict(<class 'dict'>, {'nodes': '1', 'ppn': 23, 'omp_num_threads': 12, 'nrniv': '../specials/x86_64/special -mpi', 'hoc_name': '../hoc/bench_main.hoc', 'stop_time': 500, 'nthread': 16, 'prof': ''})\n",
      "defaultdict(<class 'dict'>, {'nodes': '1', 'ppn': 24, 'omp_num_threads': 12, 'nrniv': '../specials/x86_64/special -mpi', 'hoc_name': '../hoc/bench_main.hoc', 'stop_time': 500, 'nthread': 16, 'prof': ''})\n",
      "defaultdict(<class 'dict'>, {'nodes': '1', 'ppn': 25, 'omp_num_threads': 12, 'nrniv': '../specials/x86_64/special -mpi', 'hoc_name': '../hoc/bench_main.hoc', 'stop_time': 500, 'nthread': 16, 'prof': ''})\n",
      "defaultdict(<class 'dict'>, {'nodes': '1', 'ppn': 26, 'omp_num_threads': 12, 'nrniv': '../specials/x86_64/special -mpi', 'hoc_name': '../hoc/bench_main.hoc', 'stop_time': 500, 'nthread': 16, 'prof': ''})\n",
      "defaultdict(<class 'dict'>, {'nodes': '1', 'ppn': 27, 'omp_num_threads': 12, 'nrniv': '../specials/x86_64/special -mpi', 'hoc_name': '../hoc/bench_main.hoc', 'stop_time': 500, 'nthread': 16, 'prof': ''})\n",
      "defaultdict(<class 'dict'>, {'nodes': '1', 'ppn': 2, 'omp_num_threads': 14, 'nrniv': '../specials/x86_64/special -mpi', 'hoc_name': '../hoc/bench_main.hoc', 'stop_time': 500, 'nthread': 16, 'prof': ''})\n",
      "defaultdict(<class 'dict'>, {'nodes': '1', 'ppn': 3, 'omp_num_threads': 14, 'nrniv': '../specials/x86_64/special -mpi', 'hoc_name': '../hoc/bench_main.hoc', 'stop_time': 500, 'nthread': 16, 'prof': ''})\n",
      "defaultdict(<class 'dict'>, {'nodes': '1', 'ppn': 4, 'omp_num_threads': 14, 'nrniv': '../specials/x86_64/special -mpi', 'hoc_name': '../hoc/bench_main.hoc', 'stop_time': 500, 'nthread': 16, 'prof': ''})\n",
      "defaultdict(<class 'dict'>, {'nodes': '1', 'ppn': 5, 'omp_num_threads': 14, 'nrniv': '../specials/x86_64/special -mpi', 'hoc_name': '../hoc/bench_main.hoc', 'stop_time': 500, 'nthread': 16, 'prof': ''})\n",
      "defaultdict(<class 'dict'>, {'nodes': '1', 'ppn': 6, 'omp_num_threads': 14, 'nrniv': '../specials/x86_64/special -mpi', 'hoc_name': '../hoc/bench_main.hoc', 'stop_time': 500, 'nthread': 16, 'prof': ''})\n",
      "defaultdict(<class 'dict'>, {'nodes': '1', 'ppn': 7, 'omp_num_threads': 14, 'nrniv': '../specials/x86_64/special -mpi', 'hoc_name': '../hoc/bench_main.hoc', 'stop_time': 500, 'nthread': 16, 'prof': ''})\n",
      "defaultdict(<class 'dict'>, {'nodes': '1', 'ppn': 8, 'omp_num_threads': 14, 'nrniv': '../specials/x86_64/special -mpi', 'hoc_name': '../hoc/bench_main.hoc', 'stop_time': 500, 'nthread': 16, 'prof': ''})\n",
      "defaultdict(<class 'dict'>, {'nodes': '1', 'ppn': 9, 'omp_num_threads': 14, 'nrniv': '../specials/x86_64/special -mpi', 'hoc_name': '../hoc/bench_main.hoc', 'stop_time': 500, 'nthread': 16, 'prof': ''})\n",
      "defaultdict(<class 'dict'>, {'nodes': '1', 'ppn': 10, 'omp_num_threads': 14, 'nrniv': '../specials/x86_64/special -mpi', 'hoc_name': '../hoc/bench_main.hoc', 'stop_time': 500, 'nthread': 16, 'prof': ''})\n",
      "defaultdict(<class 'dict'>, {'nodes': '1', 'ppn': 11, 'omp_num_threads': 14, 'nrniv': '../specials/x86_64/special -mpi', 'hoc_name': '../hoc/bench_main.hoc', 'stop_time': 500, 'nthread': 16, 'prof': ''})\n",
      "defaultdict(<class 'dict'>, {'nodes': '1', 'ppn': 12, 'omp_num_threads': 14, 'nrniv': '../specials/x86_64/special -mpi', 'hoc_name': '../hoc/bench_main.hoc', 'stop_time': 500, 'nthread': 16, 'prof': ''})\n",
      "defaultdict(<class 'dict'>, {'nodes': '1', 'ppn': 13, 'omp_num_threads': 14, 'nrniv': '../specials/x86_64/special -mpi', 'hoc_name': '../hoc/bench_main.hoc', 'stop_time': 500, 'nthread': 16, 'prof': ''})\n",
      "defaultdict(<class 'dict'>, {'nodes': '1', 'ppn': 14, 'omp_num_threads': 14, 'nrniv': '../specials/x86_64/special -mpi', 'hoc_name': '../hoc/bench_main.hoc', 'stop_time': 500, 'nthread': 16, 'prof': ''})\n",
      "defaultdict(<class 'dict'>, {'nodes': '1', 'ppn': 15, 'omp_num_threads': 14, 'nrniv': '../specials/x86_64/special -mpi', 'hoc_name': '../hoc/bench_main.hoc', 'stop_time': 500, 'nthread': 16, 'prof': ''})\n",
      "defaultdict(<class 'dict'>, {'nodes': '1', 'ppn': 16, 'omp_num_threads': 14, 'nrniv': '../specials/x86_64/special -mpi', 'hoc_name': '../hoc/bench_main.hoc', 'stop_time': 500, 'nthread': 16, 'prof': ''})\n",
      "defaultdict(<class 'dict'>, {'nodes': '1', 'ppn': 17, 'omp_num_threads': 14, 'nrniv': '../specials/x86_64/special -mpi', 'hoc_name': '../hoc/bench_main.hoc', 'stop_time': 500, 'nthread': 16, 'prof': ''})\n",
      "defaultdict(<class 'dict'>, {'nodes': '1', 'ppn': 18, 'omp_num_threads': 14, 'nrniv': '../specials/x86_64/special -mpi', 'hoc_name': '../hoc/bench_main.hoc', 'stop_time': 500, 'nthread': 16, 'prof': ''})\n",
      "defaultdict(<class 'dict'>, {'nodes': '1', 'ppn': 19, 'omp_num_threads': 14, 'nrniv': '../specials/x86_64/special -mpi', 'hoc_name': '../hoc/bench_main.hoc', 'stop_time': 500, 'nthread': 16, 'prof': ''})\n",
      "defaultdict(<class 'dict'>, {'nodes': '1', 'ppn': 20, 'omp_num_threads': 14, 'nrniv': '../specials/x86_64/special -mpi', 'hoc_name': '../hoc/bench_main.hoc', 'stop_time': 500, 'nthread': 16, 'prof': ''})\n",
      "defaultdict(<class 'dict'>, {'nodes': '1', 'ppn': 21, 'omp_num_threads': 14, 'nrniv': '../specials/x86_64/special -mpi', 'hoc_name': '../hoc/bench_main.hoc', 'stop_time': 500, 'nthread': 16, 'prof': ''})\n",
      "defaultdict(<class 'dict'>, {'nodes': '1', 'ppn': 22, 'omp_num_threads': 14, 'nrniv': '../specials/x86_64/special -mpi', 'hoc_name': '../hoc/bench_main.hoc', 'stop_time': 500, 'nthread': 16, 'prof': ''})\n",
      "defaultdict(<class 'dict'>, {'nodes': '1', 'ppn': 23, 'omp_num_threads': 14, 'nrniv': '../specials/x86_64/special -mpi', 'hoc_name': '../hoc/bench_main.hoc', 'stop_time': 500, 'nthread': 16, 'prof': ''})\n",
      "defaultdict(<class 'dict'>, {'nodes': '1', 'ppn': 24, 'omp_num_threads': 14, 'nrniv': '../specials/x86_64/special -mpi', 'hoc_name': '../hoc/bench_main.hoc', 'stop_time': 500, 'nthread': 16, 'prof': ''})\n",
      "defaultdict(<class 'dict'>, {'nodes': '1', 'ppn': 25, 'omp_num_threads': 14, 'nrniv': '../specials/x86_64/special -mpi', 'hoc_name': '../hoc/bench_main.hoc', 'stop_time': 500, 'nthread': 16, 'prof': ''})\n",
      "defaultdict(<class 'dict'>, {'nodes': '1', 'ppn': 26, 'omp_num_threads': 14, 'nrniv': '../specials/x86_64/special -mpi', 'hoc_name': '../hoc/bench_main.hoc', 'stop_time': 500, 'nthread': 16, 'prof': ''})\n",
      "defaultdict(<class 'dict'>, {'nodes': '1', 'ppn': 27, 'omp_num_threads': 14, 'nrniv': '../specials/x86_64/special -mpi', 'hoc_name': '../hoc/bench_main.hoc', 'stop_time': 500, 'nthread': 16, 'prof': ''})\n",
      "defaultdict(<class 'dict'>, {'nodes': '1', 'ppn': 2, 'omp_num_threads': 16, 'nrniv': '../specials/x86_64/special -mpi', 'hoc_name': '../hoc/bench_main.hoc', 'stop_time': 500, 'nthread': 16, 'prof': ''})\n",
      "defaultdict(<class 'dict'>, {'nodes': '1', 'ppn': 3, 'omp_num_threads': 16, 'nrniv': '../specials/x86_64/special -mpi', 'hoc_name': '../hoc/bench_main.hoc', 'stop_time': 500, 'nthread': 16, 'prof': ''})\n",
      "defaultdict(<class 'dict'>, {'nodes': '1', 'ppn': 4, 'omp_num_threads': 16, 'nrniv': '../specials/x86_64/special -mpi', 'hoc_name': '../hoc/bench_main.hoc', 'stop_time': 500, 'nthread': 16, 'prof': ''})\n",
      "defaultdict(<class 'dict'>, {'nodes': '1', 'ppn': 5, 'omp_num_threads': 16, 'nrniv': '../specials/x86_64/special -mpi', 'hoc_name': '../hoc/bench_main.hoc', 'stop_time': 500, 'nthread': 16, 'prof': ''})\n",
      "defaultdict(<class 'dict'>, {'nodes': '1', 'ppn': 6, 'omp_num_threads': 16, 'nrniv': '../specials/x86_64/special -mpi', 'hoc_name': '../hoc/bench_main.hoc', 'stop_time': 500, 'nthread': 16, 'prof': ''})\n",
      "defaultdict(<class 'dict'>, {'nodes': '1', 'ppn': 7, 'omp_num_threads': 16, 'nrniv': '../specials/x86_64/special -mpi', 'hoc_name': '../hoc/bench_main.hoc', 'stop_time': 500, 'nthread': 16, 'prof': ''})\n",
      "defaultdict(<class 'dict'>, {'nodes': '1', 'ppn': 8, 'omp_num_threads': 16, 'nrniv': '../specials/x86_64/special -mpi', 'hoc_name': '../hoc/bench_main.hoc', 'stop_time': 500, 'nthread': 16, 'prof': ''})\n",
      "defaultdict(<class 'dict'>, {'nodes': '1', 'ppn': 9, 'omp_num_threads': 16, 'nrniv': '../specials/x86_64/special -mpi', 'hoc_name': '../hoc/bench_main.hoc', 'stop_time': 500, 'nthread': 16, 'prof': ''})\n",
      "defaultdict(<class 'dict'>, {'nodes': '1', 'ppn': 10, 'omp_num_threads': 16, 'nrniv': '../specials/x86_64/special -mpi', 'hoc_name': '../hoc/bench_main.hoc', 'stop_time': 500, 'nthread': 16, 'prof': ''})\n",
      "defaultdict(<class 'dict'>, {'nodes': '1', 'ppn': 11, 'omp_num_threads': 16, 'nrniv': '../specials/x86_64/special -mpi', 'hoc_name': '../hoc/bench_main.hoc', 'stop_time': 500, 'nthread': 16, 'prof': ''})\n",
      "defaultdict(<class 'dict'>, {'nodes': '1', 'ppn': 12, 'omp_num_threads': 16, 'nrniv': '../specials/x86_64/special -mpi', 'hoc_name': '../hoc/bench_main.hoc', 'stop_time': 500, 'nthread': 16, 'prof': ''})\n",
      "defaultdict(<class 'dict'>, {'nodes': '1', 'ppn': 13, 'omp_num_threads': 16, 'nrniv': '../specials/x86_64/special -mpi', 'hoc_name': '../hoc/bench_main.hoc', 'stop_time': 500, 'nthread': 16, 'prof': ''})\n",
      "defaultdict(<class 'dict'>, {'nodes': '1', 'ppn': 14, 'omp_num_threads': 16, 'nrniv': '../specials/x86_64/special -mpi', 'hoc_name': '../hoc/bench_main.hoc', 'stop_time': 500, 'nthread': 16, 'prof': ''})\n",
      "defaultdict(<class 'dict'>, {'nodes': '1', 'ppn': 15, 'omp_num_threads': 16, 'nrniv': '../specials/x86_64/special -mpi', 'hoc_name': '../hoc/bench_main.hoc', 'stop_time': 500, 'nthread': 16, 'prof': ''})\n",
      "defaultdict(<class 'dict'>, {'nodes': '1', 'ppn': 16, 'omp_num_threads': 16, 'nrniv': '../specials/x86_64/special -mpi', 'hoc_name': '../hoc/bench_main.hoc', 'stop_time': 500, 'nthread': 16, 'prof': ''})\n",
      "defaultdict(<class 'dict'>, {'nodes': '1', 'ppn': 17, 'omp_num_threads': 16, 'nrniv': '../specials/x86_64/special -mpi', 'hoc_name': '../hoc/bench_main.hoc', 'stop_time': 500, 'nthread': 16, 'prof': ''})\n",
      "defaultdict(<class 'dict'>, {'nodes': '1', 'ppn': 18, 'omp_num_threads': 16, 'nrniv': '../specials/x86_64/special -mpi', 'hoc_name': '../hoc/bench_main.hoc', 'stop_time': 500, 'nthread': 16, 'prof': ''})\n",
      "defaultdict(<class 'dict'>, {'nodes': '1', 'ppn': 19, 'omp_num_threads': 16, 'nrniv': '../specials/x86_64/special -mpi', 'hoc_name': '../hoc/bench_main.hoc', 'stop_time': 500, 'nthread': 16, 'prof': ''})\n",
      "defaultdict(<class 'dict'>, {'nodes': '1', 'ppn': 20, 'omp_num_threads': 16, 'nrniv': '../specials/x86_64/special -mpi', 'hoc_name': '../hoc/bench_main.hoc', 'stop_time': 500, 'nthread': 16, 'prof': ''})\n",
      "defaultdict(<class 'dict'>, {'nodes': '1', 'ppn': 21, 'omp_num_threads': 16, 'nrniv': '../specials/x86_64/special -mpi', 'hoc_name': '../hoc/bench_main.hoc', 'stop_time': 500, 'nthread': 16, 'prof': ''})\n",
      "defaultdict(<class 'dict'>, {'nodes': '1', 'ppn': 22, 'omp_num_threads': 16, 'nrniv': '../specials/x86_64/special -mpi', 'hoc_name': '../hoc/bench_main.hoc', 'stop_time': 500, 'nthread': 16, 'prof': ''})\n",
      "defaultdict(<class 'dict'>, {'nodes': '1', 'ppn': 23, 'omp_num_threads': 16, 'nrniv': '../specials/x86_64/special -mpi', 'hoc_name': '../hoc/bench_main.hoc', 'stop_time': 500, 'nthread': 16, 'prof': ''})\n",
      "defaultdict(<class 'dict'>, {'nodes': '1', 'ppn': 24, 'omp_num_threads': 16, 'nrniv': '../specials/x86_64/special -mpi', 'hoc_name': '../hoc/bench_main.hoc', 'stop_time': 500, 'nthread': 16, 'prof': ''})\n",
      "defaultdict(<class 'dict'>, {'nodes': '1', 'ppn': 25, 'omp_num_threads': 16, 'nrniv': '../specials/x86_64/special -mpi', 'hoc_name': '../hoc/bench_main.hoc', 'stop_time': 500, 'nthread': 16, 'prof': ''})\n",
      "defaultdict(<class 'dict'>, {'nodes': '1', 'ppn': 26, 'omp_num_threads': 16, 'nrniv': '../specials/x86_64/special -mpi', 'hoc_name': '../hoc/bench_main.hoc', 'stop_time': 500, 'nthread': 16, 'prof': ''})\n",
      "defaultdict(<class 'dict'>, {'nodes': '1', 'ppn': 27, 'omp_num_threads': 16, 'nrniv': '../specials/x86_64/special -mpi', 'hoc_name': '../hoc/bench_main.hoc', 'stop_time': 500, 'nthread': 16, 'prof': ''})\n"
     ]
    },
    {
     "ename": "IndexError",
     "evalue": "list index out of range",
     "output_type": "error",
     "traceback": [
      "\u001b[0;31m---------------------------------------------------------------------------\u001b[0m",
      "\u001b[0;31mIndexError\u001b[0m                                Traceback (most recent call last)",
      "\u001b[0;32m<ipython-input-6-e27469f4f2bc>\u001b[0m in \u001b[0;36m<module>\u001b[0;34m()\u001b[0m\n\u001b[1;32m      1\u001b[0m \u001b[0mjobProcessor\u001b[0m \u001b[0;34m=\u001b[0m \u001b[0mJobProcessor\u001b[0m\u001b[0;34m(\u001b[0m\u001b[0mjob\u001b[0m\u001b[0;34m)\u001b[0m\u001b[0;34m\u001b[0m\u001b[0m\n\u001b[1;32m      2\u001b[0m \u001b[0;32mwhile\u001b[0m \u001b[0mjobProcessor\u001b[0m\u001b[0;34m.\u001b[0m\u001b[0mhas_next\u001b[0m\u001b[0;34m(\u001b[0m\u001b[0;34m)\u001b[0m\u001b[0;34m:\u001b[0m\u001b[0;34m\u001b[0m\u001b[0m\n\u001b[0;32m----> 3\u001b[0;31m     \u001b[0mprint\u001b[0m\u001b[0;34m(\u001b[0m\u001b[0mjobProcessor\u001b[0m\u001b[0;34m.\u001b[0m\u001b[0mcur_params\u001b[0m\u001b[0;34m(\u001b[0m\u001b[0;34m)\u001b[0m\u001b[0;34m)\u001b[0m\u001b[0;34m\u001b[0m\u001b[0m\n\u001b[0m\u001b[1;32m      4\u001b[0m     \u001b[0mjobProcessor\u001b[0m\u001b[0;34m.\u001b[0m\u001b[0mprocess\u001b[0m\u001b[0;34m(\u001b[0m\u001b[0;34m)\u001b[0m\u001b[0;34m\u001b[0m\u001b[0m\n",
      "\u001b[0;32m/Users/hashmup/genie/genie/simulator/jobprocessor.py\u001b[0m in \u001b[0;36mcur_params\u001b[0;34m(self)\u001b[0m\n\u001b[1;32m     34\u001b[0m         \u001b[0mparams\u001b[0m \u001b[0;34m=\u001b[0m \u001b[0mdefaultdict\u001b[0m\u001b[0;34m(\u001b[0m\u001b[0mdict\u001b[0m\u001b[0;34m)\u001b[0m\u001b[0;34m\u001b[0m\u001b[0m\n\u001b[1;32m     35\u001b[0m         \u001b[0;32mfor\u001b[0m \u001b[0mk\u001b[0m \u001b[0;32min\u001b[0m \u001b[0mself\u001b[0m\u001b[0;34m.\u001b[0m\u001b[0mindex_table\u001b[0m\u001b[0;34m:\u001b[0m\u001b[0;34m\u001b[0m\u001b[0m\n\u001b[0;32m---> 36\u001b[0;31m             \u001b[0mparams\u001b[0m\u001b[0;34m[\u001b[0m\u001b[0mk\u001b[0m\u001b[0;34m]\u001b[0m \u001b[0;34m=\u001b[0m \u001b[0mself\u001b[0m\u001b[0;34m.\u001b[0m\u001b[0mjob_table\u001b[0m\u001b[0;34m[\u001b[0m\u001b[0mk\u001b[0m\u001b[0;34m]\u001b[0m\u001b[0;34m[\u001b[0m\u001b[0mself\u001b[0m\u001b[0;34m.\u001b[0m\u001b[0mindex_table\u001b[0m\u001b[0;34m[\u001b[0m\u001b[0mk\u001b[0m\u001b[0;34m]\u001b[0m\u001b[0;34m]\u001b[0m\u001b[0;34m\u001b[0m\u001b[0m\n\u001b[0m\u001b[1;32m     37\u001b[0m         \u001b[0;32mreturn\u001b[0m \u001b[0mparams\u001b[0m\u001b[0;34m\u001b[0m\u001b[0m\n\u001b[1;32m     38\u001b[0m \u001b[0;34m\u001b[0m\u001b[0m\n",
      "\u001b[0;31mIndexError\u001b[0m: list index out of range"
     ]
    }
   ],
   "source": [
    "jobProcessor = JobProcessor(job)\n",
    "while jobProcessor.has_next():\n",
    "    jobProcessor.process()"
   ]
  },
  {
   "cell_type": "code",
   "execution_count": null,
   "metadata": {
    "collapsed": true
   },
   "outputs": [],
   "source": []
  }
 ],
 "metadata": {
  "kernelspec": {
   "display_name": "Python 3",
   "language": "python",
   "name": "python3"
  },
  "language_info": {
   "codemirror_mode": {
    "name": "ipython",
    "version": 3
   },
   "file_extension": ".py",
   "mimetype": "text/x-python",
   "name": "python",
   "nbconvert_exporter": "python",
   "pygments_lexer": "ipython3",
   "version": "3.6.0"
  }
 },
 "nbformat": 4,
 "nbformat_minor": 2
}
