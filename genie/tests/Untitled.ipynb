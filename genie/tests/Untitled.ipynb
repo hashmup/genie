{
 "cells": [
  {
   "cell_type": "code",
   "execution_count": 1,
   "metadata": {
    "collapsed": false
   },
   "outputs": [],
   "source": [
    "import sys\n",
    "sys.path.append(\"../\")"
   ]
  },
  {
   "cell_type": "code",
   "execution_count": 2,
   "metadata": {
    "collapsed": false
   },
   "outputs": [],
   "source": [
    "from genie import Genie\n",
    "from simulator.processor import Processor\n",
    "from simulator.buildprocessor import BuildProcessor\n",
    "from simulator.jobprocessor import JobProcessor\n",
    "from simulator.configparser import ConfigParser"
   ]
  },
  {
   "cell_type": "code",
   "execution_count": 3,
   "metadata": {
    "collapsed": false
   },
   "outputs": [
    {
     "name": "stdout",
     "output_type": "stream",
     "text": [
      "{'build': {'build': {'neuron_path': '../nrn-7.2', 'specials_path': '../specials'}, 'build_config': {'options': ['--without-iv', '--without-x', '--without-nrnoc-x11', '--with-paranrn', '--with-mpi', '--with-multisend', '--enable-shared=no', '--enable-static=yes'], 'compile_options': {'linux_nrnmech': 'no', 'use_pthread': 'no', 'CFLAGS': '\"-O3 -fopenmp -DKPLUS -DKPLUS_GATHER_SCATTER -DKPLUS_SPAWN -DCLUSTER_USE_OMP\"', 'CXXFLAGS': '\"-O3 -fopenmp -DKPLUS -DKPLUS_GATHER_SCATTER -DKPLUS_SPAWN -DCLUSTER_USE_OMP\"'}}}, 'job': {'job_cluster': {'nodes': '1', 'ppn': '2,28,1', 'modules': [], 'omp_num_threads': '2,16,2', 'nrniv': '../specials/x86_64/special -mpi', 'hoc_name': '../hoc/bench_main.hoc', 'stop_time': 500, 'nthread': 16, 'prof': ''}, 'job_k': {'nodes': '2', 'ppn': '2,28,1', 'modules': [], 'omp_num_threads': '2,16,2', 'nrniv': '../specials/x86_64/special -mpi', 'hoc_name': '../hoc/bench_main.hoc', 'stop_time': 1000, 'nthread': 16, 'prof': ''}}}\n",
      "{'build': {'build': {'neuron_path': '../nrn-7.2', 'specials_path': '../specials'}, 'build_config': {'options': ['--without-iv', '--without-x', '--without-nrnoc-x11', '--with-paranrn', '--with-mpi', '--with-multisend', '--enable-shared=no', '--enable-static=yes'], 'compile_options': {'linux_nrnmech': 'no', 'use_pthread': 'no', 'CFLAGS': '\"-O3 -fopenmp -DKPLUS -DKPLUS_GATHER_SCATTER -DKPLUS_SPAWN -DCLUSTER_USE_OMP\"', 'CXXFLAGS': '\"-O3 -fopenmp -DKPLUS -DKPLUS_GATHER_SCATTER -DKPLUS_SPAWN -DCLUSTER_USE_OMP\"'}}}, 'job': {'job_cluster': {'nodes': '1', 'ppn': '2,28,1', 'modules': [], 'omp_num_threads': '2,16,2', 'nrniv': '../specials/x86_64/special -mpi', 'hoc_name': '../hoc/bench_main.hoc', 'stop_time': 500, 'nthread': 16, 'prof': ''}, 'job_k': {'nodes': '2', 'ppn': '2,28,1', 'modules': [], 'omp_num_threads': '2,16,2', 'nrniv': '../specials/x86_64/special -mpi', 'hoc_name': '../hoc/bench_main.hoc', 'stop_time': 1000, 'nthread': 16, 'prof': ''}}}\n",
      "osx\n",
      "(b'', b'')\n",
      "(b'', b'')\n",
      "osx\n",
      "{'build': {'build': {'neuron_path': '../nrn-7.2', 'specials_path': '../specials'}, 'build_config': {'options': ['--without-iv', '--without-x', '--without-nrnoc-x11', '--with-paranrn', '--with-mpi', '--with-multisend', '--enable-shared=no', '--enable-static=yes'], 'compile_options': {'linux_nrnmech': 'no', 'use_pthread': 'no', 'CFLAGS': '\"-O3 -fopenmp -DKPLUS -DKPLUS_GATHER_SCATTER -DKPLUS_SPAWN -DCLUSTER_USE_OMP\"', 'CXXFLAGS': '\"-O3 -fopenmp -DKPLUS -DKPLUS_GATHER_SCATTER -DKPLUS_SPAWN -DCLUSTER_USE_OMP\"'}}}, 'job': {'job_cluster': {'nodes': '1', 'ppn': '2,28,1', 'modules': [], 'omp_num_threads': '2,16,2', 'nrniv': '../specials/x86_64/special -mpi', 'hoc_name': '../hoc/bench_main.hoc', 'stop_time': 500, 'nthread': 16, 'prof': ''}, 'job_k': {'nodes': '2', 'ppn': '2,28,1', 'modules': [], 'omp_num_threads': '2,16,2', 'nrniv': '../specials/x86_64/special -mpi', 'hoc_name': '../hoc/bench_main.hoc', 'stop_time': 1000, 'nthread': 16, 'prof': ''}}}\n",
      "{'build': {'build': {'neuron_path': '../nrn-7.2', 'specials_path': '../specials'}, 'build_config': {'options': ['--without-iv', '--without-x', '--without-nrnoc-x11', '--with-paranrn', '--with-mpi', '--with-multisend', '--enable-shared=no', '--enable-static=yes'], 'compile_options': {'linux_nrnmech': 'no', 'use_pthread': 'no', 'CFLAGS': '\"-O3 -fopenmp -DKPLUS -DKPLUS_GATHER_SCATTER -DKPLUS_SPAWN -DCLUSTER_USE_OMP\"', 'CXXFLAGS': '\"-O3 -fopenmp -DKPLUS -DKPLUS_GATHER_SCATTER -DKPLUS_SPAWN -DCLUSTER_USE_OMP\"'}}}, 'job': {'job_cluster': {'nodes': '1', 'ppn': '2,28,1', 'modules': [], 'omp_num_threads': '2,16,2', 'nrniv': '../specials/x86_64/special -mpi', 'hoc_name': '../hoc/bench_main.hoc', 'stop_time': 500, 'nthread': 16, 'prof': ''}, 'job_k': {'nodes': '2', 'ppn': '2,28,1', 'modules': [], 'omp_num_threads': '2,16,2', 'nrniv': '../specials/x86_64/special -mpi', 'hoc_name': '../hoc/bench_main.hoc', 'stop_time': 1000, 'nthread': 16, 'prof': ''}}}\n",
      "me <module>\n",
      "module None\n",
      "dad \n",
      "0 True\n",
      "216\n",
      "216 False\n",
      "432\n"
     ]
    }
   ],
   "source": [
    "config_path = \"../../example/job.json\"\n",
    "processor = Processor(config_path, \"../../neuron_kplus\")\n",
    "config = ConfigParser(config_path).parse()\n",
    "processor.run()\n",
    "pending_jobs = processor.taskRunner.pending_jobs"
   ]
  },
  {
   "cell_type": "code",
   "execution_count": 4,
   "metadata": {
    "collapsed": false
   },
   "outputs": [
    {
     "name": "stdout",
     "output_type": "stream",
     "text": [
      "432\n"
     ]
    }
   ],
   "source": [
    "print(len(pending_jobs))"
   ]
  },
  {
   "cell_type": "code",
   "execution_count": 5,
   "metadata": {
    "collapsed": false
   },
   "outputs": [
    {
     "name": "stdout",
     "output_type": "stream",
     "text": [
      "compile_options\n",
      "linux_nrnmech\n"
     ]
    }
   ],
   "source": [
    "build, job = config['build'], config['job']\n",
    "buildProcessor = BuildProcessor(build)\n",
    "key = list(buildProcessor.index_table.keys())[3]\n",
    "print(key[:key.find(\".\")])\n",
    "print(key[key.find(\".\")+1:])"
   ]
  },
  {
   "cell_type": "code",
   "execution_count": 6,
   "metadata": {
    "collapsed": false
   },
   "outputs": [
    {
     "name": "stdout",
     "output_type": "stream",
     "text": [
      "defaultdict(<class 'dict'>, {'neuron_path': 0, 'specials_path': 0, 'options': 0, 'compile_options.linux_nrnmech': 0, 'compile_options.use_pthread': 0, 'compile_options.CFLAGS': 0, 'compile_options.CXXFLAGS': 0})\n",
      "defaultdict(<class 'dict'>, {'options': True})\n"
     ]
    }
   ],
   "source": [
    "buildProcessor.init()\n",
    "while buildProcessor.has_next():\n",
    "#     print(buildProcessor.cur_params())\n",
    "    print(buildProcessor.index_table)\n",
    "    print(buildProcessor.not_iterate)\n",
    "    buildProcessor.process()"
   ]
  },
  {
   "cell_type": "code",
   "execution_count": 5,
   "metadata": {
    "collapsed": false
   },
   "outputs": [],
   "source": [
    "# print(buildProcessor.build_table)\n",
    "# print(buildProcessor.index_table)\n",
    "# print(buildProcessor.not_iterate)"
   ]
  },
  {
   "cell_type": "code",
   "execution_count": 6,
   "metadata": {
    "collapsed": false
   },
   "outputs": [
    {
     "name": "stdout",
     "output_type": "stream",
     "text": [
      "osx\n"
     ]
    }
   ],
   "source": [
    "jobProcessor = JobProcessor(job)\n",
    "while jobProcessor.has_next():\n",
    "    jobProcessor.process()"
   ]
  },
  {
   "cell_type": "code",
   "execution_count": null,
   "metadata": {
    "collapsed": true
   },
   "outputs": [],
   "source": []
  }
 ],
 "metadata": {
  "kernelspec": {
   "display_name": "Python 3",
   "language": "python",
   "name": "python3"
  },
  "language_info": {
   "codemirror_mode": {
    "name": "ipython",
    "version": 3
   },
   "file_extension": ".py",
   "mimetype": "text/x-python",
   "name": "python",
   "nbconvert_exporter": "python",
   "pygments_lexer": "ipython3",
   "version": "3.6.0"
  }
 },
 "nbformat": 4,
 "nbformat_minor": 2
}
